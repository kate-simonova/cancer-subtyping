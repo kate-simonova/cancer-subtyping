{
  "cells": [
    {
      "cell_type": "markdown",
      "metadata": {
        "id": "view-in-github",
        "colab_type": "text"
      },
      "source": [
        "<a href=\"https://colab.research.google.com/github/kate-simonova/cancer-subtyping/blob/main/03_VAE.ipynb\" target=\"_parent\"><img src=\"https://colab.research.google.com/assets/colab-badge.svg\" alt=\"Open In Colab\"/></a>"
      ]
    },
    {
      "cell_type": "markdown",
      "source": [
        " ## Data Loading and installation of packages"
      ],
      "metadata": {
        "id": "lsonb89Jfn0g"
      }
    },
    {
      "cell_type": "code",
      "source": [
        "!pip install umap-learn\n",
        "!pip install imblearn"
      ],
      "metadata": {
        "id": "RJBnqsCvRn_w",
        "colab": {
          "base_uri": "https://localhost:8080/"
        },
        "outputId": "89718d27-3a1c-4ffd-9895-dddb23e7c12b"
      },
      "execution_count": null,
      "outputs": [
        {
          "output_type": "stream",
          "name": "stdout",
          "text": [
            "Installing collected packages: pynndescent, umap-learn\n",
            "Successfully installed pynndescent-0.5.10 umap-learn-0.5.3\n",
            "Looking in indexes: https://pypi.org/simple, https://us-python.pkg.dev/colab-wheels/public/simple/\n",
            "Collecting imblearn\n",
            "  Downloading imblearn-0.0-py2.py3-none-any.whl (1.9 kB)\n",
            "Requirement already satisfied: imbalanced-learn in /usr/local/lib/python3.10/dist-packages (from imblearn) (0.10.1)\n",
            "Requirement already satisfied: numpy>=1.17.3 in /usr/local/lib/python3.10/dist-packages (from imbalanced-learn->imblearn) (1.22.4)\n",
            "Requirement already satisfied: scipy>=1.3.2 in /usr/local/lib/python3.10/dist-packages (from imbalanced-learn->imblearn) (1.10.1)\n",
            "Requirement already satisfied: scikit-learn>=1.0.2 in /usr/local/lib/python3.10/dist-packages (from imbalanced-learn->imblearn) (1.2.2)\n",
            "Requirement already satisfied: joblib>=1.1.1 in /usr/local/lib/python3.10/dist-packages (from imbalanced-learn->imblearn) (1.2.0)\n",
            "Requirement already satisfied: threadpoolctl>=2.0.0 in /usr/local/lib/python3.10/dist-packages (from imbalanced-learn->imblearn) (3.1.0)\n",
            "Installing collected packages: imblearn\n",
            "Successfully installed imblearn-0.0\n"
          ]
        }
      ]
    },
    {
      "cell_type": "code",
      "execution_count": null,
      "metadata": {
        "id": "NVJ81ITZtoC5",
        "colab": {
          "base_uri": "https://localhost:8080/"
        },
        "outputId": "3cd685d0-8a20-4df3-923d-87cbe3ea77df"
      },
      "outputs": [
        {
          "output_type": "stream",
          "name": "stdout",
          "text": [
            "Mounted at /content/drive\n"
          ]
        }
      ],
      "source": [
        "# importing necessary packages\n",
        "from google.colab import drive\n",
        "drive.mount('/content/drive') \n",
        "path = \"/content/drive/MyDrive/MY_DATA/merged\"\n",
        "\n",
        "import re\n",
        "\n",
        "import plotly.express as px\n",
        "import numpy as np\n",
        "import pandas as pd\n",
        "import seaborn as sns\n",
        "from collections import Counter\n",
        "import matplotlib.pyplot as plt\n",
        "\n",
        "from sklearn.manifold import TSNE\n",
        "from sklearn.decomposition import PCA\n",
        "from sklearn.model_selection import train_test_split\n",
        "from sklearn.preprocessing import StandardScaler\n",
        "\n",
        "from imblearn.over_sampling import ADASYN\n",
        "from collections import Counter\n",
        "from sklearn.preprocessing import LabelEncoder\n",
        "\n",
        "from sklearn.cluster import KMeans\n",
        "from sklearn.decomposition import KernelPCA, PCA\n",
        "from sklearn.metrics import silhouette_score, davies_bouldin_score, adjusted_rand_score\n",
        "from sklearn.model_selection import KFold\n",
        "from keras.layers import Layer, Activation\n",
        "from keras.callbacks import Callback\n",
        "\n",
        "import keras\n",
        "keras.backend.clear_session()\n",
        "\n",
        "import seaborn as sns\n",
        "from tensorflow.keras.models import Model\n",
        "from tensorflow.keras.layers import Input\n",
        "from tensorflow.keras.layers import Dense\n",
        "from tensorflow.keras.layers import LeakyReLU, Lambda\n",
        "from tensorflow.keras.utils import plot_model\n",
        "from tensorflow.keras.layers import BatchNormalization\n",
        "from keras.optimizers import Adam\n",
        "\n",
        "from sklearn.preprocessing import MinMaxScaler\n",
        "\n",
        "from keras.layers import Input, Dense, Lambda, Activation\n",
        "from keras.models import Model\n",
        "from keras import backend as K\n",
        "from keras import metrics\n",
        "from tensorflow.python.framework.ops import disable_eager_execution"
      ]
    },
    {
      "cell_type": "markdown",
      "source": [
        "## Loading data "
      ],
      "metadata": {
        "id": "vjlncEi4hZW1"
      }
    },
    {
      "cell_type": "markdown",
      "source": [
        "Data were previosuly generated in [data splitting step](https://colab.research.google.com/drive/1FoqO_K2jZzqqD49h6zzHFwUWCHT_Ddg4)."
      ],
      "metadata": {
        "id": "61zFWHZs6hoG"
      }
    },
    {
      "cell_type": "code",
      "source": [
        "test_df = pd.read_csv(f\"{path}/split_circle/X_test_A_merged_CRC_BRCA.csv.tar.gz\", compression = \"gzip\", index_col=0).T\n",
        "test_df.shape"
      ],
      "metadata": {
        "id": "M3d97pXzSk5h",
        "colab": {
          "base_uri": "https://localhost:8080/"
        },
        "outputId": "dbee58ee-1569-4333-c9a8-aaefb6519cf4"
      },
      "execution_count": null,
      "outputs": [
        {
          "output_type": "execute_result",
          "data": {
            "text/plain": [
              "(2156, 22596)"
            ]
          },
          "metadata": {},
          "execution_count": 2
        }
      ]
    },
    {
      "cell_type": "code",
      "source": [
        "y_test = pd.read_csv(f\"{path}/split_circle/y_test_A_merged_CRC_BRCA.csv.tar.gz\", compression = \"gzip\", index_col=0)\n",
        "#y_test = y_test.reset_index(drop=True)\n",
        "#y_test.index = test_df.index\n",
        "y_test.shape"
      ],
      "metadata": {
        "id": "J-tlXn78q235",
        "colab": {
          "base_uri": "https://localhost:8080/"
        },
        "outputId": "db7ebe75-7a23-44a8-c4df-b046cfdad02d"
      },
      "execution_count": null,
      "outputs": [
        {
          "output_type": "execute_result",
          "data": {
            "text/plain": [
              "(2156, 7)"
            ]
          },
          "metadata": {},
          "execution_count": 3
        }
      ]
    },
    {
      "cell_type": "code",
      "source": [
        "train_df = pd.read_csv(f\"{path}/split_circle/X_train_A_merged_CRC_BRCA.csv.tar.gz\", compression=\"gzip\", index_col=0).T\n",
        "train_df.shape"
      ],
      "metadata": {
        "id": "IzQvNKZh_Oq3",
        "colab": {
          "base_uri": "https://localhost:8080/"
        },
        "outputId": "7e01b7fe-6f2a-40bb-de25-db252464346f"
      },
      "execution_count": null,
      "outputs": [
        {
          "output_type": "execute_result",
          "data": {
            "text/plain": [
              "(11544, 22596)"
            ]
          },
          "metadata": {},
          "execution_count": 4
        }
      ]
    },
    {
      "cell_type": "code",
      "source": [
        "y_train = pd.read_csv(f\"{path}/split_circle/y_train_A_merged_CRC_BRCA.csv.tar.gz\", compression = \"gzip\", index_col=0)\n",
        "#y_train = y_train.reset_index(drop=True)\n",
        "#y_train.index = train_df.index\n",
        "y_train.shape"
      ],
      "metadata": {
        "id": "3DLby2MG_O2y",
        "colab": {
          "base_uri": "https://localhost:8080/"
        },
        "outputId": "b42a0bcc-6283-4807-b5de-d405a56da060"
      },
      "execution_count": null,
      "outputs": [
        {
          "output_type": "execute_result",
          "data": {
            "text/plain": [
              "(11544, 7)"
            ]
          },
          "metadata": {},
          "execution_count": 5
        }
      ]
    },
    {
      "cell_type": "markdown",
      "source": [
        "# Dimensionality reduction with PCA"
      ],
      "metadata": {
        "id": "Qbmncoxg_tWe"
      }
    },
    {
      "cell_type": "code",
      "source": [
        "pca = PCA(0.95).fit(train_df)\n",
        "x_train = pca.transform(train_df)\n",
        "x_test = pca.transform(test_df)\n",
        "print(x_train.shape)\n",
        "print(x_test.shape)"
      ],
      "metadata": {
        "id": "mnBebGZF_uKx",
        "colab": {
          "base_uri": "https://localhost:8080/"
        },
        "outputId": "4e5e4448-a94b-4171-85a4-2833252d4019"
      },
      "execution_count": null,
      "outputs": [
        {
          "output_type": "stream",
          "name": "stdout",
          "text": [
            "(11544, 4557)\n",
            "(2156, 4557)\n"
          ]
        }
      ]
    },
    {
      "cell_type": "code",
      "source": [
        "x_test = pd.DataFrame(x_test, index=test_df.index)\n",
        "x_train = pd.DataFrame(x_train, index=train_df.index)\n",
        "x_test.shape"
      ],
      "metadata": {
        "id": "7w9d8iDD_7Ii",
        "colab": {
          "base_uri": "https://localhost:8080/"
        },
        "outputId": "84f5c43d-9c9a-4fe8-f79f-96ef1567e20d"
      },
      "execution_count": null,
      "outputs": [
        {
          "output_type": "execute_result",
          "data": {
            "text/plain": [
              "(2156, 4557)"
            ]
          },
          "metadata": {},
          "execution_count": 7
        }
      ]
    },
    {
      "cell_type": "code",
      "source": [
        "x_test.columns = [\"PC\"+ str(i+1) for i in range(4557)]"
      ],
      "metadata": {
        "id": "f0BtlXZfASVK"
      },
      "execution_count": null,
      "outputs": []
    },
    {
      "cell_type": "code",
      "source": [
        "X_tr, X_val, y_tr, y_val = train_test_split(x_train, y_train[\"Label\"], test_size=0.2, random_state=42, stratify=y_train[\"Label\"])\n",
        "X_tr.shape"
      ],
      "metadata": {
        "id": "TJ2y26xzAGb0"
      },
      "execution_count": null,
      "outputs": []
    },
    {
      "cell_type": "markdown",
      "source": [
        "# Oversampling and synthetic data generation"
      ],
      "metadata": {
        "id": "ILMnyi2GAhXl"
      }
    },
    {
      "cell_type": "code",
      "source": [
        "mapp = LabelEncoder()\n",
        "\n",
        "y_train_adasyn = mapp.fit_transform(y_train[\"Label\"]).ravel()\n",
        "\n",
        "before_counter = Counter(y_train[\"Label\"])\n",
        "print('Before', before_counter)\n",
        "\n",
        "ada = ADASYN(random_state=0, sampling_strategy='all')\n",
        "x_train_ada, y_train_ada = ada.fit_resample(x_train, y_train_adasyn)\n",
        "\n",
        "after_counter = Counter(y_train_ada)\n",
        "print('After', after_counter)"
      ],
      "metadata": {
        "id": "x_n807UtAYrj",
        "colab": {
          "base_uri": "https://localhost:8080/"
        },
        "outputId": "9820e1b0-86bb-484d-9b8f-2628c4a50cfd"
      },
      "execution_count": null,
      "outputs": [
        {
          "output_type": "stream",
          "name": "stdout",
          "text": [
            "Before Counter({'Luminal A': 4256, 'Luminal B': 2237, 'Basal-like': 1654, 'Her2': 1076, 'CMS2': 775, 'Normal-like': 491, 'CMS4': 376, 'CMS1': 286, 'CMS3': 231, 'Claudin-low': 162})\n",
            "After Counter({6: 4272, 9: 4268, 5: 4267, 7: 4256, 4: 4252, 1: 4248, 3: 4242, 2: 4218, 0: 4158, 8: 4116})\n"
          ]
        }
      ]
    },
    {
      "cell_type": "code",
      "source": [
        "mapping = dict(zip(mapp.classes_, mapp.transform(mapp.classes_)))\n",
        "print(mapping)"
      ],
      "metadata": {
        "id": "m4d8DZ2mAzrd",
        "colab": {
          "base_uri": "https://localhost:8080/"
        },
        "outputId": "629d08fc-382c-4359-dd40-67b8f1161d04"
      },
      "execution_count": null,
      "outputs": [
        {
          "output_type": "stream",
          "name": "stdout",
          "text": [
            "{'Basal-like': 0, 'CMS1': 1, 'CMS2': 2, 'CMS3': 3, 'CMS4': 4, 'Claudin-low': 5, 'Her2': 6, 'Luminal A': 7, 'Luminal B': 8, 'Normal-like': 9}\n"
          ]
        }
      ]
    },
    {
      "cell_type": "code",
      "source": [
        "x_train_ada = pd.DataFrame(x_train_ada)\n",
        "y_train_ada = pd.DataFrame(y_train_ada)\n",
        "y_train_ada.columns = [\"Label\"]"
      ],
      "metadata": {
        "id": "Esmdi2gSBDOv"
      },
      "execution_count": null,
      "outputs": []
    },
    {
      "cell_type": "code",
      "source": [
        "y_train_ada"
      ],
      "metadata": {
        "colab": {
          "base_uri": "https://localhost:8080/"
        },
        "id": "AK-tsZrsQzlL",
        "outputId": "4644b112-37d1-4643-fb10-7507991b9bff"
      },
      "execution_count": null,
      "outputs": [
        {
          "output_type": "execute_result",
          "data": {
            "text/plain": [
              "array([2, 3, 3, ..., 9, 9, 9])"
            ]
          },
          "metadata": {},
          "execution_count": 13
        }
      ]
    },
    {
      "cell_type": "markdown",
      "source": [
        "# Variational autoencoder"
      ],
      "metadata": {
        "id": "uS9ujZgEBoUF"
      }
    },
    {
      "cell_type": "code",
      "source": [
        "import gc\n",
        "\n",
        "del encoder, vae\n",
        "K.clear_session()\n",
        "gc.collect()"
      ],
      "metadata": {
        "id": "c37RjbWHdeFB",
        "colab": {
          "base_uri": "https://localhost:8080/",
          "height": 236
        },
        "outputId": "e1390dd1-2a54-4688-8375-11253471fb8b"
      },
      "execution_count": null,
      "outputs": [
        {
          "output_type": "error",
          "ename": "NameError",
          "evalue": "ignored",
          "traceback": [
            "\u001b[0;31m---------------------------------------------------------------------------\u001b[0m",
            "\u001b[0;31mNameError\u001b[0m                                 Traceback (most recent call last)",
            "\u001b[0;32m<ipython-input-11-785141c24ccc>\u001b[0m in \u001b[0;36m<cell line: 3>\u001b[0;34m()\u001b[0m\n\u001b[1;32m      1\u001b[0m \u001b[0;32mimport\u001b[0m \u001b[0mgc\u001b[0m\u001b[0;34m\u001b[0m\u001b[0;34m\u001b[0m\u001b[0m\n\u001b[1;32m      2\u001b[0m \u001b[0;34m\u001b[0m\u001b[0m\n\u001b[0;32m----> 3\u001b[0;31m \u001b[0;32mdel\u001b[0m \u001b[0mencoder\u001b[0m\u001b[0;34m,\u001b[0m \u001b[0mvae\u001b[0m\u001b[0;34m\u001b[0m\u001b[0;34m\u001b[0m\u001b[0m\n\u001b[0m\u001b[1;32m      4\u001b[0m \u001b[0mK\u001b[0m\u001b[0;34m.\u001b[0m\u001b[0mclear_session\u001b[0m\u001b[0;34m(\u001b[0m\u001b[0;34m)\u001b[0m\u001b[0;34m\u001b[0m\u001b[0;34m\u001b[0m\u001b[0m\n\u001b[1;32m      5\u001b[0m \u001b[0mgc\u001b[0m\u001b[0;34m.\u001b[0m\u001b[0mcollect\u001b[0m\u001b[0;34m(\u001b[0m\u001b[0;34m)\u001b[0m\u001b[0;34m\u001b[0m\u001b[0;34m\u001b[0m\u001b[0m\n",
            "\u001b[0;31mNameError\u001b[0m: name 'encoder' is not defined"
          ]
        }
      ]
    },
    {
      "cell_type": "code",
      "source": [
        "#y_train_ada = pd.read_pickle(f\"{path}/pickle/y_train_ada_circle.pkl\")\n",
        "#x_train_ada = pd.read_pickle(f\"{path}/pickle/x_train_ada_circle.pkl\")\n",
        "#x_test = pd.read_pickle(f\"{path}/pickle/x_test_circle.pkl\")\n",
        "#y_test = pd.read_pickle(f\"{path}/pickle/y_test_circle.pkl\")\n",
        "#X_val = pd.read_pickle(f\"{path}/pickle/X_val_circle.pkl\")\n",
        "#y_val = pd.read_pickle(f\"{path}/pickle/y_val_circle.pkl\")"
      ],
      "metadata": {
        "id": "cKDbLIN1BHTY"
      },
      "execution_count": null,
      "outputs": []
    },
    {
      "cell_type": "code",
      "source": [
        "x_train_ada"
      ],
      "metadata": {
        "colab": {
          "base_uri": "https://localhost:8080/",
          "height": 487
        },
        "id": "CrUXT8WkD79s",
        "outputId": "4acacc22-bf8a-46bf-91cb-b227b0fd0507"
      },
      "execution_count": null,
      "outputs": [
        {
          "output_type": "execute_result",
          "data": {
            "text/plain": [
              "            0          1          2          3          4          5     \\\n",
              "0      12.274826  36.530659  19.482128 -20.974482   8.381638  -5.865438   \n",
              "1      11.600466  21.086452   9.820620  13.335078   1.771775  -1.889209   \n",
              "2      10.156317  18.035262 -19.505176  -5.275327  -1.828789  -2.033097   \n",
              "3       0.268981 -35.060825  19.283566   6.714026  14.508100  12.507948   \n",
              "4     -20.173860 -20.289051   8.178842 -13.120544  -9.799398  -7.425660   \n",
              "...          ...        ...        ...        ...        ...        ...   \n",
              "33914  32.091917   0.989462  21.609068  -0.479054 -11.047549  14.064228   \n",
              "33915  20.943983  -4.274181  24.516973  -6.807001 -10.125250  19.305950   \n",
              "33916  28.856373 -18.754434   7.174762  10.937106 -14.072002  21.821416   \n",
              "33917  28.845378 -18.632547   7.272540  10.808300 -14.019257  21.799341   \n",
              "33918  28.473431 -14.509413  10.580093   6.451164 -12.235023  21.052618   \n",
              "\n",
              "            6          7          8          9     ...      4547      4548  \\\n",
              "0      -8.225289  -0.803613   0.171490  -2.185809  ...  0.140548  0.186426   \n",
              "1     -10.515924   1.568554 -10.526720   4.445639  ...  0.263033  0.120143   \n",
              "2       2.348628  -1.265188  -2.633313   0.687709  ... -0.332208 -0.267642   \n",
              "3       0.311915   1.899709   8.096542   1.803489  ... -0.268752  0.329053   \n",
              "4      -0.632836   0.464587  -4.465496  13.924570  ...  0.235805  0.439011   \n",
              "...          ...        ...        ...        ...  ...       ...       ...   \n",
              "33914   5.832311  10.877337   0.079430  -6.661612  ...  0.081937 -0.194082   \n",
              "33915  11.725083  10.336371  -0.242646 -10.010815  ... -0.217663 -0.055551   \n",
              "33916   7.268500  12.610332   2.154578  -2.855083  ... -0.396198 -0.155353   \n",
              "33917   7.272250  12.624797   2.131454  -2.899118  ... -0.395570 -0.154195   \n",
              "33918   7.399109  13.114105   1.349227  -4.388695  ... -0.374326 -0.115041   \n",
              "\n",
              "           4549      4550      4551      4552      4553      4554      4555  \\\n",
              "0     -0.263698  0.118027  0.173544  0.309825  0.043288 -0.175324 -0.373842   \n",
              "1     -0.164163  0.045422  0.228182  0.101197 -0.367908  0.131092 -0.519238   \n",
              "2      0.058030 -0.160483  0.015299  0.025495  0.021312  0.447342  0.197395   \n",
              "3     -0.345284 -0.078363  0.159181 -0.145672  0.199554  0.561027 -0.240143   \n",
              "4      0.544248 -0.381840  0.008682 -0.325774 -0.502826 -0.285031  0.300070   \n",
              "...         ...       ...       ...       ...       ...       ...       ...   \n",
              "33914 -0.070867  0.014594 -0.083400  0.008059  0.118251 -0.092516  0.160675   \n",
              "33915  0.075559  0.103837  0.111787 -0.160399  0.196858 -0.081156 -0.140888   \n",
              "33916 -0.016878  0.198918 -0.118357 -0.170937  0.137027  0.300203  0.055343   \n",
              "33917 -0.013924  0.197750 -0.115885 -0.170200  0.137582  0.299649  0.055507   \n",
              "33918  0.086012  0.158232 -0.032266 -0.145268  0.156335  0.280915  0.061036   \n",
              "\n",
              "           4556  \n",
              "0      0.291977  \n",
              "1      0.162462  \n",
              "2     -0.736638  \n",
              "3      0.087657  \n",
              "4      0.285291  \n",
              "...         ...  \n",
              "33914  0.002754  \n",
              "33915 -0.025571  \n",
              "33916  0.308930  \n",
              "33917  0.306373  \n",
              "33918  0.219876  \n",
              "\n",
              "[33919 rows x 4557 columns]"
            ],
            "text/html": [
              "\n",
              "  <div id=\"df-eac034df-92e9-40b5-b011-803ce3e45ace\">\n",
              "    <div class=\"colab-df-container\">\n",
              "      <div>\n",
              "<style scoped>\n",
              "    .dataframe tbody tr th:only-of-type {\n",
              "        vertical-align: middle;\n",
              "    }\n",
              "\n",
              "    .dataframe tbody tr th {\n",
              "        vertical-align: top;\n",
              "    }\n",
              "\n",
              "    .dataframe thead th {\n",
              "        text-align: right;\n",
              "    }\n",
              "</style>\n",
              "<table border=\"1\" class=\"dataframe\">\n",
              "  <thead>\n",
              "    <tr style=\"text-align: right;\">\n",
              "      <th></th>\n",
              "      <th>0</th>\n",
              "      <th>1</th>\n",
              "      <th>2</th>\n",
              "      <th>3</th>\n",
              "      <th>4</th>\n",
              "      <th>5</th>\n",
              "      <th>6</th>\n",
              "      <th>7</th>\n",
              "      <th>8</th>\n",
              "      <th>9</th>\n",
              "      <th>...</th>\n",
              "      <th>4547</th>\n",
              "      <th>4548</th>\n",
              "      <th>4549</th>\n",
              "      <th>4550</th>\n",
              "      <th>4551</th>\n",
              "      <th>4552</th>\n",
              "      <th>4553</th>\n",
              "      <th>4554</th>\n",
              "      <th>4555</th>\n",
              "      <th>4556</th>\n",
              "    </tr>\n",
              "  </thead>\n",
              "  <tbody>\n",
              "    <tr>\n",
              "      <th>0</th>\n",
              "      <td>12.274826</td>\n",
              "      <td>36.530659</td>\n",
              "      <td>19.482128</td>\n",
              "      <td>-20.974482</td>\n",
              "      <td>8.381638</td>\n",
              "      <td>-5.865438</td>\n",
              "      <td>-8.225289</td>\n",
              "      <td>-0.803613</td>\n",
              "      <td>0.171490</td>\n",
              "      <td>-2.185809</td>\n",
              "      <td>...</td>\n",
              "      <td>0.140548</td>\n",
              "      <td>0.186426</td>\n",
              "      <td>-0.263698</td>\n",
              "      <td>0.118027</td>\n",
              "      <td>0.173544</td>\n",
              "      <td>0.309825</td>\n",
              "      <td>0.043288</td>\n",
              "      <td>-0.175324</td>\n",
              "      <td>-0.373842</td>\n",
              "      <td>0.291977</td>\n",
              "    </tr>\n",
              "    <tr>\n",
              "      <th>1</th>\n",
              "      <td>11.600466</td>\n",
              "      <td>21.086452</td>\n",
              "      <td>9.820620</td>\n",
              "      <td>13.335078</td>\n",
              "      <td>1.771775</td>\n",
              "      <td>-1.889209</td>\n",
              "      <td>-10.515924</td>\n",
              "      <td>1.568554</td>\n",
              "      <td>-10.526720</td>\n",
              "      <td>4.445639</td>\n",
              "      <td>...</td>\n",
              "      <td>0.263033</td>\n",
              "      <td>0.120143</td>\n",
              "      <td>-0.164163</td>\n",
              "      <td>0.045422</td>\n",
              "      <td>0.228182</td>\n",
              "      <td>0.101197</td>\n",
              "      <td>-0.367908</td>\n",
              "      <td>0.131092</td>\n",
              "      <td>-0.519238</td>\n",
              "      <td>0.162462</td>\n",
              "    </tr>\n",
              "    <tr>\n",
              "      <th>2</th>\n",
              "      <td>10.156317</td>\n",
              "      <td>18.035262</td>\n",
              "      <td>-19.505176</td>\n",
              "      <td>-5.275327</td>\n",
              "      <td>-1.828789</td>\n",
              "      <td>-2.033097</td>\n",
              "      <td>2.348628</td>\n",
              "      <td>-1.265188</td>\n",
              "      <td>-2.633313</td>\n",
              "      <td>0.687709</td>\n",
              "      <td>...</td>\n",
              "      <td>-0.332208</td>\n",
              "      <td>-0.267642</td>\n",
              "      <td>0.058030</td>\n",
              "      <td>-0.160483</td>\n",
              "      <td>0.015299</td>\n",
              "      <td>0.025495</td>\n",
              "      <td>0.021312</td>\n",
              "      <td>0.447342</td>\n",
              "      <td>0.197395</td>\n",
              "      <td>-0.736638</td>\n",
              "    </tr>\n",
              "    <tr>\n",
              "      <th>3</th>\n",
              "      <td>0.268981</td>\n",
              "      <td>-35.060825</td>\n",
              "      <td>19.283566</td>\n",
              "      <td>6.714026</td>\n",
              "      <td>14.508100</td>\n",
              "      <td>12.507948</td>\n",
              "      <td>0.311915</td>\n",
              "      <td>1.899709</td>\n",
              "      <td>8.096542</td>\n",
              "      <td>1.803489</td>\n",
              "      <td>...</td>\n",
              "      <td>-0.268752</td>\n",
              "      <td>0.329053</td>\n",
              "      <td>-0.345284</td>\n",
              "      <td>-0.078363</td>\n",
              "      <td>0.159181</td>\n",
              "      <td>-0.145672</td>\n",
              "      <td>0.199554</td>\n",
              "      <td>0.561027</td>\n",
              "      <td>-0.240143</td>\n",
              "      <td>0.087657</td>\n",
              "    </tr>\n",
              "    <tr>\n",
              "      <th>4</th>\n",
              "      <td>-20.173860</td>\n",
              "      <td>-20.289051</td>\n",
              "      <td>8.178842</td>\n",
              "      <td>-13.120544</td>\n",
              "      <td>-9.799398</td>\n",
              "      <td>-7.425660</td>\n",
              "      <td>-0.632836</td>\n",
              "      <td>0.464587</td>\n",
              "      <td>-4.465496</td>\n",
              "      <td>13.924570</td>\n",
              "      <td>...</td>\n",
              "      <td>0.235805</td>\n",
              "      <td>0.439011</td>\n",
              "      <td>0.544248</td>\n",
              "      <td>-0.381840</td>\n",
              "      <td>0.008682</td>\n",
              "      <td>-0.325774</td>\n",
              "      <td>-0.502826</td>\n",
              "      <td>-0.285031</td>\n",
              "      <td>0.300070</td>\n",
              "      <td>0.285291</td>\n",
              "    </tr>\n",
              "    <tr>\n",
              "      <th>...</th>\n",
              "      <td>...</td>\n",
              "      <td>...</td>\n",
              "      <td>...</td>\n",
              "      <td>...</td>\n",
              "      <td>...</td>\n",
              "      <td>...</td>\n",
              "      <td>...</td>\n",
              "      <td>...</td>\n",
              "      <td>...</td>\n",
              "      <td>...</td>\n",
              "      <td>...</td>\n",
              "      <td>...</td>\n",
              "      <td>...</td>\n",
              "      <td>...</td>\n",
              "      <td>...</td>\n",
              "      <td>...</td>\n",
              "      <td>...</td>\n",
              "      <td>...</td>\n",
              "      <td>...</td>\n",
              "      <td>...</td>\n",
              "      <td>...</td>\n",
              "    </tr>\n",
              "    <tr>\n",
              "      <th>33914</th>\n",
              "      <td>32.091917</td>\n",
              "      <td>0.989462</td>\n",
              "      <td>21.609068</td>\n",
              "      <td>-0.479054</td>\n",
              "      <td>-11.047549</td>\n",
              "      <td>14.064228</td>\n",
              "      <td>5.832311</td>\n",
              "      <td>10.877337</td>\n",
              "      <td>0.079430</td>\n",
              "      <td>-6.661612</td>\n",
              "      <td>...</td>\n",
              "      <td>0.081937</td>\n",
              "      <td>-0.194082</td>\n",
              "      <td>-0.070867</td>\n",
              "      <td>0.014594</td>\n",
              "      <td>-0.083400</td>\n",
              "      <td>0.008059</td>\n",
              "      <td>0.118251</td>\n",
              "      <td>-0.092516</td>\n",
              "      <td>0.160675</td>\n",
              "      <td>0.002754</td>\n",
              "    </tr>\n",
              "    <tr>\n",
              "      <th>33915</th>\n",
              "      <td>20.943983</td>\n",
              "      <td>-4.274181</td>\n",
              "      <td>24.516973</td>\n",
              "      <td>-6.807001</td>\n",
              "      <td>-10.125250</td>\n",
              "      <td>19.305950</td>\n",
              "      <td>11.725083</td>\n",
              "      <td>10.336371</td>\n",
              "      <td>-0.242646</td>\n",
              "      <td>-10.010815</td>\n",
              "      <td>...</td>\n",
              "      <td>-0.217663</td>\n",
              "      <td>-0.055551</td>\n",
              "      <td>0.075559</td>\n",
              "      <td>0.103837</td>\n",
              "      <td>0.111787</td>\n",
              "      <td>-0.160399</td>\n",
              "      <td>0.196858</td>\n",
              "      <td>-0.081156</td>\n",
              "      <td>-0.140888</td>\n",
              "      <td>-0.025571</td>\n",
              "    </tr>\n",
              "    <tr>\n",
              "      <th>33916</th>\n",
              "      <td>28.856373</td>\n",
              "      <td>-18.754434</td>\n",
              "      <td>7.174762</td>\n",
              "      <td>10.937106</td>\n",
              "      <td>-14.072002</td>\n",
              "      <td>21.821416</td>\n",
              "      <td>7.268500</td>\n",
              "      <td>12.610332</td>\n",
              "      <td>2.154578</td>\n",
              "      <td>-2.855083</td>\n",
              "      <td>...</td>\n",
              "      <td>-0.396198</td>\n",
              "      <td>-0.155353</td>\n",
              "      <td>-0.016878</td>\n",
              "      <td>0.198918</td>\n",
              "      <td>-0.118357</td>\n",
              "      <td>-0.170937</td>\n",
              "      <td>0.137027</td>\n",
              "      <td>0.300203</td>\n",
              "      <td>0.055343</td>\n",
              "      <td>0.308930</td>\n",
              "    </tr>\n",
              "    <tr>\n",
              "      <th>33917</th>\n",
              "      <td>28.845378</td>\n",
              "      <td>-18.632547</td>\n",
              "      <td>7.272540</td>\n",
              "      <td>10.808300</td>\n",
              "      <td>-14.019257</td>\n",
              "      <td>21.799341</td>\n",
              "      <td>7.272250</td>\n",
              "      <td>12.624797</td>\n",
              "      <td>2.131454</td>\n",
              "      <td>-2.899118</td>\n",
              "      <td>...</td>\n",
              "      <td>-0.395570</td>\n",
              "      <td>-0.154195</td>\n",
              "      <td>-0.013924</td>\n",
              "      <td>0.197750</td>\n",
              "      <td>-0.115885</td>\n",
              "      <td>-0.170200</td>\n",
              "      <td>0.137582</td>\n",
              "      <td>0.299649</td>\n",
              "      <td>0.055507</td>\n",
              "      <td>0.306373</td>\n",
              "    </tr>\n",
              "    <tr>\n",
              "      <th>33918</th>\n",
              "      <td>28.473431</td>\n",
              "      <td>-14.509413</td>\n",
              "      <td>10.580093</td>\n",
              "      <td>6.451164</td>\n",
              "      <td>-12.235023</td>\n",
              "      <td>21.052618</td>\n",
              "      <td>7.399109</td>\n",
              "      <td>13.114105</td>\n",
              "      <td>1.349227</td>\n",
              "      <td>-4.388695</td>\n",
              "      <td>...</td>\n",
              "      <td>-0.374326</td>\n",
              "      <td>-0.115041</td>\n",
              "      <td>0.086012</td>\n",
              "      <td>0.158232</td>\n",
              "      <td>-0.032266</td>\n",
              "      <td>-0.145268</td>\n",
              "      <td>0.156335</td>\n",
              "      <td>0.280915</td>\n",
              "      <td>0.061036</td>\n",
              "      <td>0.219876</td>\n",
              "    </tr>\n",
              "  </tbody>\n",
              "</table>\n",
              "<p>33919 rows × 4557 columns</p>\n",
              "</div>\n",
              "      <button class=\"colab-df-convert\" onclick=\"convertToInteractive('df-eac034df-92e9-40b5-b011-803ce3e45ace')\"\n",
              "              title=\"Convert this dataframe to an interactive table.\"\n",
              "              style=\"display:none;\">\n",
              "        \n",
              "  <svg xmlns=\"http://www.w3.org/2000/svg\" height=\"24px\"viewBox=\"0 0 24 24\"\n",
              "       width=\"24px\">\n",
              "    <path d=\"M0 0h24v24H0V0z\" fill=\"none\"/>\n",
              "    <path d=\"M18.56 5.44l.94 2.06.94-2.06 2.06-.94-2.06-.94-.94-2.06-.94 2.06-2.06.94zm-11 1L8.5 8.5l.94-2.06 2.06-.94-2.06-.94L8.5 2.5l-.94 2.06-2.06.94zm10 10l.94 2.06.94-2.06 2.06-.94-2.06-.94-.94-2.06-.94 2.06-2.06.94z\"/><path d=\"M17.41 7.96l-1.37-1.37c-.4-.4-.92-.59-1.43-.59-.52 0-1.04.2-1.43.59L10.3 9.45l-7.72 7.72c-.78.78-.78 2.05 0 2.83L4 21.41c.39.39.9.59 1.41.59.51 0 1.02-.2 1.41-.59l7.78-7.78 2.81-2.81c.8-.78.8-2.07 0-2.86zM5.41 20L4 18.59l7.72-7.72 1.47 1.35L5.41 20z\"/>\n",
              "  </svg>\n",
              "      </button>\n",
              "      \n",
              "  <style>\n",
              "    .colab-df-container {\n",
              "      display:flex;\n",
              "      flex-wrap:wrap;\n",
              "      gap: 12px;\n",
              "    }\n",
              "\n",
              "    .colab-df-convert {\n",
              "      background-color: #E8F0FE;\n",
              "      border: none;\n",
              "      border-radius: 50%;\n",
              "      cursor: pointer;\n",
              "      display: none;\n",
              "      fill: #1967D2;\n",
              "      height: 32px;\n",
              "      padding: 0 0 0 0;\n",
              "      width: 32px;\n",
              "    }\n",
              "\n",
              "    .colab-df-convert:hover {\n",
              "      background-color: #E2EBFA;\n",
              "      box-shadow: 0px 1px 2px rgba(60, 64, 67, 0.3), 0px 1px 3px 1px rgba(60, 64, 67, 0.15);\n",
              "      fill: #174EA6;\n",
              "    }\n",
              "\n",
              "    [theme=dark] .colab-df-convert {\n",
              "      background-color: #3B4455;\n",
              "      fill: #D2E3FC;\n",
              "    }\n",
              "\n",
              "    [theme=dark] .colab-df-convert:hover {\n",
              "      background-color: #434B5C;\n",
              "      box-shadow: 0px 1px 3px 1px rgba(0, 0, 0, 0.15);\n",
              "      filter: drop-shadow(0px 1px 2px rgba(0, 0, 0, 0.3));\n",
              "      fill: #FFFFFF;\n",
              "    }\n",
              "  </style>\n",
              "\n",
              "      <script>\n",
              "        const buttonEl =\n",
              "          document.querySelector('#df-eac034df-92e9-40b5-b011-803ce3e45ace button.colab-df-convert');\n",
              "        buttonEl.style.display =\n",
              "          google.colab.kernel.accessAllowed ? 'block' : 'none';\n",
              "\n",
              "        async function convertToInteractive(key) {\n",
              "          const element = document.querySelector('#df-eac034df-92e9-40b5-b011-803ce3e45ace');\n",
              "          const dataTable =\n",
              "            await google.colab.kernel.invokeFunction('convertToInteractive',\n",
              "                                                     [key], {});\n",
              "          if (!dataTable) return;\n",
              "\n",
              "          const docLinkHtml = 'Like what you see? Visit the ' +\n",
              "            '<a target=\"_blank\" href=https://colab.research.google.com/notebooks/data_table.ipynb>data table notebook</a>'\n",
              "            + ' to learn more about interactive tables.';\n",
              "          element.innerHTML = '';\n",
              "          dataTable['output_type'] = 'display_data';\n",
              "          await google.colab.output.renderOutput(dataTable, element);\n",
              "          const docLink = document.createElement('div');\n",
              "          docLink.innerHTML = docLinkHtml;\n",
              "          element.appendChild(docLink);\n",
              "        }\n",
              "      </script>\n",
              "    </div>\n",
              "  </div>\n",
              "  "
            ]
          },
          "metadata": {},
          "execution_count": 4
        }
      ]
    },
    {
      "cell_type": "code",
      "source": [
        "#pd.DataFrame(y_train_ada).to_pickle(f\"{path}/pickle/y_train_ada_latest.pkl\")\n",
        "#pd.DataFrame(x_train_ada).to_pickle(f\"{path}/pickle/x_train_ada_latest.pkl\")\n",
        "\n",
        "#x_test.to_pickle(f\"{path}/pickle/x_test_latest.pkl\")"
      ],
      "metadata": {
        "id": "EIAqlx9PD1Vz"
      },
      "execution_count": null,
      "outputs": []
    },
    {
      "cell_type": "code",
      "source": [
        "y_train_ada = pd.read_pickle(f\"{path}/pickle/y_train_ada_latest.pkl\")\n",
        "x_train_ada = pd.read_pickle(f\"{path}/pickle/x_train_ada_latest.pkl\")\n",
        "\n",
        "x_test = pd.read_pickle(f\"{path}/pickle/x_test_latest.pkl\")"
      ],
      "metadata": {
        "id": "OjaRZyA0TtE_"
      },
      "execution_count": null,
      "outputs": []
    },
    {
      "cell_type": "code",
      "source": [
        "# scale data \n",
        "from sklearn.preprocessing import MinMaxScaler\n",
        "t = MinMaxScaler().fit(x_train_ada)\n",
        "X_train_scaled = t.transform(x_train_ada)\n",
        "#X_val_scaled = t.transform(X_val)\n",
        "X_test_scaled = t.transform(x_test)"
      ],
      "metadata": {
        "colab": {
          "base_uri": "https://localhost:8080/"
        },
        "id": "CCGMcSiUwyxB",
        "outputId": "953cba34-7b22-424f-f68b-e6166220d1d8"
      },
      "execution_count": null,
      "outputs": [
        {
          "output_type": "stream",
          "name": "stderr",
          "text": [
            "/usr/local/lib/python3.10/dist-packages/sklearn/base.py:432: UserWarning: X has feature names, but MinMaxScaler was fitted without feature names\n",
            "  warnings.warn(\n"
          ]
        }
      ]
    },
    {
      "cell_type": "code",
      "source": [
        "# Function for reparameterization trick to make model differentiable\n",
        "\n",
        "def sampling(args):\n",
        "    \n",
        "    import tensorflow as tf\n",
        "    # Function with args required for Keras Lambda function\n",
        "    z_mean, z_log_var = args\n",
        "\n",
        "    # Draw epsilon of the same shape from a standard normal distribution\n",
        "    epsilon = K.random_normal(shape=tf.shape(z_mean), mean=0.,\n",
        "                              stddev=epsilon_std)\n",
        "    \n",
        "    # The latent vector is non-deterministic and differentiable\n",
        "    # in respect to z_mean and z_log_var\n",
        "    z = z_mean + K.exp(z_log_var / 2) * epsilon\n",
        "    return z\n",
        "\n",
        "class CustomVariationalLayer(Layer):\n",
        "    \"\"\"\n",
        "    Define a custom layer that learns and performs the training\n",
        "    This function is borrowed from:\n",
        "    https://github.com/fchollet/keras/blob/master/examples/variational_autoencoder.py\n",
        "    \"\"\"\n",
        "    def __init__(self, **kwargs):\n",
        "        # https://keras.io/layers/writing-your-own-keras-layers/\n",
        "        self.is_placeholder = True\n",
        "        super(CustomVariationalLayer, self).__init__(**kwargs)\n",
        "\n",
        "    def vae_loss(self, x_input, x_decoded):\n",
        "        reconstruction_loss = original_dim * metrics.binary_crossentropy(x_input, x_decoded)\n",
        "        kl_loss = - 0.5 * K.sum(1 + z_log_var_encoded - K.square(z_mean_encoded) - \n",
        "                                K.exp(z_log_var_encoded), axis=-1)\n",
        "        return K.mean(reconstruction_loss + (K.get_value(beta) * kl_loss))\n",
        "\n",
        "    def call(self, inputs):\n",
        "        x = inputs[0]\n",
        "        x_decoded = inputs[1]\n",
        "        loss = self.vae_loss(x, x_decoded)\n",
        "        self.add_loss(loss, inputs=inputs)\n",
        "        # We won't actually use the output.\n",
        "        return x\n",
        "\n",
        "class WarmUpCallback(Callback):\n",
        "    def __init__(self, beta, kappa):\n",
        "        self.beta = beta\n",
        "        self.kappa = kappa\n",
        "    # Behavior on each epoch\n",
        "    def on_epoch_end(self, epoch, logs={}):\n",
        "        if K.get_value(self.beta) <= 1:\n",
        "            K.set_value(self.beta, K.get_value(self.beta) + self.kappa)\n"
      ],
      "metadata": {
        "id": "Y9n72o5eSaSg"
      },
      "execution_count": null,
      "outputs": []
    },
    {
      "cell_type": "code",
      "source": [
        "# define the size of the latent space\n",
        "original_dim = x_train_ada.shape[1]\n",
        "latent_dim = 50\n",
        "batch_size = 512\n",
        "epochs = 200\n",
        "learning_rate = 0.00015\n",
        "\n",
        "epsilon_std = 1.0\n",
        "beta = K.variable(0)\n",
        "kappa = 1"
      ],
      "metadata": {
        "id": "XczjBSFpr2tU"
      },
      "execution_count": null,
      "outputs": []
    },
    {
      "cell_type": "code",
      "source": [
        "# Encoder\n",
        "# Input place holder for RNAseq data with specific input size\n",
        "rnaseq_input = Input(shape=(original_dim, ))\n",
        "\n",
        "# Input layer is compressed into a mean and log variance vector of size `latent_dim`\n",
        "# Each layer is initialized with glorot uniform weights and each step (dense connections,\n",
        "# batch norm, and relu activation) are funneled separately\n",
        "# Each vector of length `latent_dim` are connected to the rnaseq input tensor\n",
        "z_mean_dense_linear = Dense(latent_dim, kernel_initializer='glorot_uniform')(rnaseq_input)\n",
        "z_mean_dense_batchnorm = BatchNormalization()(z_mean_dense_linear)\n",
        "z_mean_encoded = Activation('gelu')(z_mean_dense_batchnorm)\n",
        "\n",
        "z_log_var_dense_linear = Dense(latent_dim, kernel_initializer='glorot_uniform')(rnaseq_input)\n",
        "z_log_var_dense_batchnorm = BatchNormalization()(z_log_var_dense_linear)\n",
        "z_log_var_encoded = Activation('gelu')(z_log_var_dense_batchnorm)\n",
        "\n",
        "# return the encoded and randomly sampled z vector\n",
        "# Takes two keras layers as input to the custom sampling function layer with a `latent_dim` output\n",
        "z = Lambda(sampling, output_shape=(latent_dim, ))([z_mean_encoded, z_log_var_encoded])"
      ],
      "metadata": {
        "id": "DHqDy4NKadVO"
      },
      "execution_count": null,
      "outputs": []
    },
    {
      "cell_type": "code",
      "source": [
        "# Decoder\n",
        "decoder_to_reconstruct = Dense(original_dim, kernel_initializer='glorot_uniform', activation='gelu')\n",
        "rnaseq_reconstruct = decoder_to_reconstruct(z)"
      ],
      "metadata": {
        "id": "0xTLt7doaeo0"
      },
      "execution_count": null,
      "outputs": []
    },
    {
      "cell_type": "code",
      "source": [
        "adam = Adam(lr=learning_rate)\n",
        "vae_layer = CustomVariationalLayer()([rnaseq_input, rnaseq_reconstruct])\n",
        "vae = Model(rnaseq_input, vae_layer)\n",
        "vae.compile(optimizer=adam, loss=None, loss_weights=[beta])\n",
        "\n",
        "vae.summary()"
      ],
      "metadata": {
        "colab": {
          "base_uri": "https://localhost:8080/"
        },
        "id": "xtLYByXmaqfh",
        "outputId": "3468a6bf-2a28-4711-c2e0-4b7c2b16cb89"
      },
      "execution_count": null,
      "outputs": [
        {
          "output_type": "stream",
          "name": "stdout",
          "text": [
            "Model: \"model_3\"\n",
            "__________________________________________________________________________________________________\n",
            " Layer (type)                   Output Shape         Param #     Connected to                     \n",
            "==================================================================================================\n",
            " input_4 (InputLayer)           [(None, 4557)]       0           []                               \n",
            "                                                                                                  \n",
            " dense_9 (Dense)                (None, 50)           227900      ['input_4[0][0]']                \n",
            "                                                                                                  \n",
            " dense_10 (Dense)               (None, 50)           227900      ['input_4[0][0]']                \n",
            "                                                                                                  \n",
            " batch_normalization_6 (BatchNo  (None, 50)          200         ['dense_9[0][0]']                \n",
            " rmalization)                                                                                     \n",
            "                                                                                                  \n",
            " batch_normalization_7 (BatchNo  (None, 50)          200         ['dense_10[0][0]']               \n",
            " rmalization)                                                                                     \n",
            "                                                                                                  \n",
            " activation_6 (Activation)      (None, 50)           0           ['batch_normalization_6[0][0]']  \n",
            "                                                                                                  \n",
            " activation_7 (Activation)      (None, 50)           0           ['batch_normalization_7[0][0]']  \n",
            "                                                                                                  \n",
            " lambda_3 (Lambda)              (None, 50)           0           ['activation_6[0][0]',           \n",
            "                                                                  'activation_7[0][0]']           \n",
            "                                                                                                  \n",
            " dense_11 (Dense)               (None, 4557)         232407      ['lambda_3[0][0]']               \n",
            "                                                                                                  \n",
            " custom_variational_layer_3 (Cu  (None, 4557)        0           ['input_4[0][0]',                \n",
            " stomVariationalLayer)                                            'dense_11[0][0]']               \n",
            "                                                                                                  \n",
            "==================================================================================================\n",
            "Total params: 688,607\n",
            "Trainable params: 688,407\n",
            "Non-trainable params: 200\n",
            "__________________________________________________________________________________________________\n"
          ]
        }
      ]
    },
    {
      "cell_type": "code",
      "source": [
        "disable_eager_execution()\n",
        "\n",
        "hist = vae.fit(np.array(X_train_scaled),\n",
        "               epochs=epochs,\n",
        "               verbose=0,\n",
        "               batch_size=batch_size,\n",
        "               validation_data=(np.array(X_val_scaled), None),\n",
        "               callbacks=[WarmUpCallback(beta, kappa)])"
      ],
      "metadata": {
        "id": "ouLAtdRqQfnq",
        "colab": {
          "base_uri": "https://localhost:8080/",
          "height": 399
        },
        "outputId": "f670ecf6-dde0-4fae-8932-2b09b7459986"
      },
      "execution_count": null,
      "outputs": [
        {
          "output_type": "error",
          "ename": "ValueError",
          "evalue": "ignored",
          "traceback": [
            "\u001b[0;31m---------------------------------------------------------------------------\u001b[0m",
            "\u001b[0;31mValueError\u001b[0m                                Traceback (most recent call last)",
            "\u001b[0;32m<ipython-input-20-1dcb31d44899>\u001b[0m in \u001b[0;36m<cell line: 3>\u001b[0;34m()\u001b[0m\n\u001b[1;32m      1\u001b[0m \u001b[0mdisable_eager_execution\u001b[0m\u001b[0;34m(\u001b[0m\u001b[0;34m)\u001b[0m\u001b[0;34m\u001b[0m\u001b[0;34m\u001b[0m\u001b[0m\n\u001b[1;32m      2\u001b[0m \u001b[0;34m\u001b[0m\u001b[0m\n\u001b[0;32m----> 3\u001b[0;31m hist = vae.fit(np.array(X_train_scaled),\n\u001b[0m\u001b[1;32m      4\u001b[0m                \u001b[0mepochs\u001b[0m\u001b[0;34m=\u001b[0m\u001b[0mepochs\u001b[0m\u001b[0;34m,\u001b[0m\u001b[0;34m\u001b[0m\u001b[0;34m\u001b[0m\u001b[0m\n\u001b[1;32m      5\u001b[0m                \u001b[0mverbose\u001b[0m\u001b[0;34m=\u001b[0m\u001b[0;36m0\u001b[0m\u001b[0;34m,\u001b[0m\u001b[0;34m\u001b[0m\u001b[0;34m\u001b[0m\u001b[0m\n",
            "\u001b[0;32m/usr/local/lib/python3.10/dist-packages/keras/utils/traceback_utils.py\u001b[0m in \u001b[0;36merror_handler\u001b[0;34m(*args, **kwargs)\u001b[0m\n\u001b[1;32m     68\u001b[0m             \u001b[0;31m# To get the full stack trace, call:\u001b[0m\u001b[0;34m\u001b[0m\u001b[0;34m\u001b[0m\u001b[0m\n\u001b[1;32m     69\u001b[0m             \u001b[0;31m# `tf.debugging.disable_traceback_filtering()`\u001b[0m\u001b[0;34m\u001b[0m\u001b[0;34m\u001b[0m\u001b[0m\n\u001b[0;32m---> 70\u001b[0;31m             \u001b[0;32mraise\u001b[0m \u001b[0me\u001b[0m\u001b[0;34m.\u001b[0m\u001b[0mwith_traceback\u001b[0m\u001b[0;34m(\u001b[0m\u001b[0mfiltered_tb\u001b[0m\u001b[0;34m)\u001b[0m \u001b[0;32mfrom\u001b[0m \u001b[0;32mNone\u001b[0m\u001b[0;34m\u001b[0m\u001b[0;34m\u001b[0m\u001b[0m\n\u001b[0m\u001b[1;32m     71\u001b[0m         \u001b[0;32mfinally\u001b[0m\u001b[0;34m:\u001b[0m\u001b[0;34m\u001b[0m\u001b[0;34m\u001b[0m\u001b[0m\n\u001b[1;32m     72\u001b[0m             \u001b[0;32mdel\u001b[0m \u001b[0mfiltered_tb\u001b[0m\u001b[0;34m\u001b[0m\u001b[0;34m\u001b[0m\u001b[0m\n",
            "\u001b[0;32m/usr/local/lib/python3.10/dist-packages/keras/utils/version_utils.py\u001b[0m in \u001b[0;36mdisallow_legacy_graph\u001b[0;34m(cls_name, method_name)\u001b[0m\n\u001b[1;32m    124\u001b[0m             \u001b[0;34m\"eager mode enabled.\"\u001b[0m\u001b[0;34m\u001b[0m\u001b[0;34m\u001b[0m\u001b[0m\n\u001b[1;32m    125\u001b[0m         )\n\u001b[0;32m--> 126\u001b[0;31m         \u001b[0;32mraise\u001b[0m \u001b[0mValueError\u001b[0m\u001b[0;34m(\u001b[0m\u001b[0merror_msg\u001b[0m\u001b[0;34m)\u001b[0m\u001b[0;34m\u001b[0m\u001b[0;34m\u001b[0m\u001b[0m\n\u001b[0m\u001b[1;32m    127\u001b[0m \u001b[0;34m\u001b[0m\u001b[0m\n\u001b[1;32m    128\u001b[0m \u001b[0;34m\u001b[0m\u001b[0m\n",
            "\u001b[0;31mValueError\u001b[0m: Calling `Model.fit` in graph mode is not supported when the `Model` instance was constructed with eager mode enabled. Please construct your `Model` instance in graph mode or call `Model.fit` with eager mode enabled."
          ]
        }
      ]
    },
    {
      "cell_type": "code",
      "source": [
        "plot_model(vae)"
      ],
      "metadata": {
        "id": "4vjXLzeLa7Hh"
      },
      "execution_count": null,
      "outputs": []
    },
    {
      "cell_type": "code",
      "source": [
        "plt.plot(hist.history[\"loss\"], label=\"Training Loss\")\n",
        "plt.plot(hist.history[\"val_loss\"], label=\"Validation Loss\")\n",
        "plt.legend()"
      ],
      "metadata": {
        "id": "XvZkV7nhQkVL"
      },
      "execution_count": null,
      "outputs": []
    },
    {
      "cell_type": "code",
      "source": [
        "encoder = Model(rnaseq_input, z_mean_encoded)"
      ],
      "metadata": {
        "id": "tAS5t3AYdSi5"
      },
      "execution_count": null,
      "outputs": []
    },
    {
      "cell_type": "code",
      "source": [
        "# testing data\n",
        "x_test_encoded = encoder.predict(X_test_scaled, batch_size=batch_size) # X_test_scaled\n",
        "\n",
        "temp = pd.DataFrame(x_test_encoded).reset_index()\n",
        "temp"
      ],
      "metadata": {
        "colab": {
          "base_uri": "https://localhost:8080/",
          "height": 487
        },
        "id": "i8OChXbyQsEs",
        "outputId": "41b6c15a-ef4d-498c-9cec-55f0eae3d6ee"
      },
      "execution_count": null,
      "outputs": [
        {
          "output_type": "execute_result",
          "data": {
            "text/plain": [
              "      index         0         1         2         3         4         5  \\\n",
              "0         0  0.813978  0.034304 -0.138385  0.023659  0.858496  1.310539   \n",
              "1         1 -0.010307 -0.162665  1.371191  0.631584 -0.146819  1.016971   \n",
              "2         2 -0.166531  0.883531 -0.149403 -0.021492 -0.124863  0.212593   \n",
              "3         3  0.315563  0.030576  0.261325  0.492417  2.940787  1.626618   \n",
              "4         4  1.445847 -0.094258 -0.043909  0.957756  0.919686  0.997377   \n",
              "...     ...       ...       ...       ...       ...       ...       ...   \n",
              "2151   2151  0.383579  0.014833  0.152904  1.070466 -0.165756  1.781122   \n",
              "2152   2152  1.605507  0.082936  0.123267 -0.078949  0.368250 -0.029578   \n",
              "2153   2153  0.466124  1.457700  1.812516  2.652836  0.137167  0.892337   \n",
              "2154   2154 -0.054760  0.135444  0.203186  0.662257  0.443430 -0.106505   \n",
              "2155   2155  0.808844 -0.147409  0.448104  0.184247  0.072471  0.583709   \n",
              "\n",
              "             6         7         8  ...       118       119       120  \\\n",
              "0     0.085009  0.933837  0.321365  ...  0.253905  0.007144  1.337824   \n",
              "1    -0.099609  0.092845 -0.073709  ... -0.122062 -0.098201  0.474340   \n",
              "2     0.855761 -0.047874 -0.013254  ...  0.802752  0.260408 -0.147036   \n",
              "3     1.686944  0.902159  1.875275  ... -0.164253  0.909141  1.949654   \n",
              "4     1.358455  0.163847  1.129921  ... -0.093112  1.077867  0.326034   \n",
              "...        ...       ...       ...  ...       ...       ...       ...   \n",
              "2151  1.061129  0.468211  0.652665  ... -0.032927  2.016425  0.876193   \n",
              "2152 -0.169905  0.474656  0.933525  ... -0.151322  0.592680  0.324494   \n",
              "2153  0.898731  0.538793  0.041432  ... -0.124383  0.470545  0.376830   \n",
              "2154  1.768190  0.533879 -0.017878  ... -0.148893  0.123102  1.676513   \n",
              "2155  1.513430 -0.154717  0.706904  ...  0.925669  0.304649 -0.145104   \n",
              "\n",
              "           121       122       123       124       125       126       127  \n",
              "0     0.985740  0.430511  1.903935  2.076302 -0.099974  1.144478  2.720396  \n",
              "1     0.198049 -0.036991  0.772392 -0.014499 -0.104503  0.753066  1.086632  \n",
              "2     0.195075  1.778080  2.619074 -0.158729 -0.003332 -0.095238  1.131071  \n",
              "3     0.387453  0.143623  0.691164  0.989879  0.108470  0.793490  0.227866  \n",
              "4     0.108830  0.042532  0.324776  1.456211  0.072304  0.500636  0.325651  \n",
              "...        ...       ...       ...       ...       ...       ...       ...  \n",
              "2151  0.541602  2.648481  1.429955  0.290847 -0.108674  1.578215 -0.167062  \n",
              "2152  0.861944 -0.166413  1.910821 -0.169140 -0.119289  0.734402  1.532928  \n",
              "2153  0.179856  0.864443  0.392427  0.776329  1.793663  0.539945  0.275950  \n",
              "2154  0.878446  0.191181 -0.001049  0.156658  0.384941  0.582924  0.603407  \n",
              "2155  0.103894  1.274719  2.374968  0.128313  0.508662  0.762310  0.429575  \n",
              "\n",
              "[2156 rows x 129 columns]"
            ],
            "text/html": [
              "\n",
              "  <div id=\"df-b939440d-5d4a-4526-9e09-bd7797d4481a\">\n",
              "    <div class=\"colab-df-container\">\n",
              "      <div>\n",
              "<style scoped>\n",
              "    .dataframe tbody tr th:only-of-type {\n",
              "        vertical-align: middle;\n",
              "    }\n",
              "\n",
              "    .dataframe tbody tr th {\n",
              "        vertical-align: top;\n",
              "    }\n",
              "\n",
              "    .dataframe thead th {\n",
              "        text-align: right;\n",
              "    }\n",
              "</style>\n",
              "<table border=\"1\" class=\"dataframe\">\n",
              "  <thead>\n",
              "    <tr style=\"text-align: right;\">\n",
              "      <th></th>\n",
              "      <th>index</th>\n",
              "      <th>0</th>\n",
              "      <th>1</th>\n",
              "      <th>2</th>\n",
              "      <th>3</th>\n",
              "      <th>4</th>\n",
              "      <th>5</th>\n",
              "      <th>6</th>\n",
              "      <th>7</th>\n",
              "      <th>8</th>\n",
              "      <th>...</th>\n",
              "      <th>118</th>\n",
              "      <th>119</th>\n",
              "      <th>120</th>\n",
              "      <th>121</th>\n",
              "      <th>122</th>\n",
              "      <th>123</th>\n",
              "      <th>124</th>\n",
              "      <th>125</th>\n",
              "      <th>126</th>\n",
              "      <th>127</th>\n",
              "    </tr>\n",
              "  </thead>\n",
              "  <tbody>\n",
              "    <tr>\n",
              "      <th>0</th>\n",
              "      <td>0</td>\n",
              "      <td>0.813978</td>\n",
              "      <td>0.034304</td>\n",
              "      <td>-0.138385</td>\n",
              "      <td>0.023659</td>\n",
              "      <td>0.858496</td>\n",
              "      <td>1.310539</td>\n",
              "      <td>0.085009</td>\n",
              "      <td>0.933837</td>\n",
              "      <td>0.321365</td>\n",
              "      <td>...</td>\n",
              "      <td>0.253905</td>\n",
              "      <td>0.007144</td>\n",
              "      <td>1.337824</td>\n",
              "      <td>0.985740</td>\n",
              "      <td>0.430511</td>\n",
              "      <td>1.903935</td>\n",
              "      <td>2.076302</td>\n",
              "      <td>-0.099974</td>\n",
              "      <td>1.144478</td>\n",
              "      <td>2.720396</td>\n",
              "    </tr>\n",
              "    <tr>\n",
              "      <th>1</th>\n",
              "      <td>1</td>\n",
              "      <td>-0.010307</td>\n",
              "      <td>-0.162665</td>\n",
              "      <td>1.371191</td>\n",
              "      <td>0.631584</td>\n",
              "      <td>-0.146819</td>\n",
              "      <td>1.016971</td>\n",
              "      <td>-0.099609</td>\n",
              "      <td>0.092845</td>\n",
              "      <td>-0.073709</td>\n",
              "      <td>...</td>\n",
              "      <td>-0.122062</td>\n",
              "      <td>-0.098201</td>\n",
              "      <td>0.474340</td>\n",
              "      <td>0.198049</td>\n",
              "      <td>-0.036991</td>\n",
              "      <td>0.772392</td>\n",
              "      <td>-0.014499</td>\n",
              "      <td>-0.104503</td>\n",
              "      <td>0.753066</td>\n",
              "      <td>1.086632</td>\n",
              "    </tr>\n",
              "    <tr>\n",
              "      <th>2</th>\n",
              "      <td>2</td>\n",
              "      <td>-0.166531</td>\n",
              "      <td>0.883531</td>\n",
              "      <td>-0.149403</td>\n",
              "      <td>-0.021492</td>\n",
              "      <td>-0.124863</td>\n",
              "      <td>0.212593</td>\n",
              "      <td>0.855761</td>\n",
              "      <td>-0.047874</td>\n",
              "      <td>-0.013254</td>\n",
              "      <td>...</td>\n",
              "      <td>0.802752</td>\n",
              "      <td>0.260408</td>\n",
              "      <td>-0.147036</td>\n",
              "      <td>0.195075</td>\n",
              "      <td>1.778080</td>\n",
              "      <td>2.619074</td>\n",
              "      <td>-0.158729</td>\n",
              "      <td>-0.003332</td>\n",
              "      <td>-0.095238</td>\n",
              "      <td>1.131071</td>\n",
              "    </tr>\n",
              "    <tr>\n",
              "      <th>3</th>\n",
              "      <td>3</td>\n",
              "      <td>0.315563</td>\n",
              "      <td>0.030576</td>\n",
              "      <td>0.261325</td>\n",
              "      <td>0.492417</td>\n",
              "      <td>2.940787</td>\n",
              "      <td>1.626618</td>\n",
              "      <td>1.686944</td>\n",
              "      <td>0.902159</td>\n",
              "      <td>1.875275</td>\n",
              "      <td>...</td>\n",
              "      <td>-0.164253</td>\n",
              "      <td>0.909141</td>\n",
              "      <td>1.949654</td>\n",
              "      <td>0.387453</td>\n",
              "      <td>0.143623</td>\n",
              "      <td>0.691164</td>\n",
              "      <td>0.989879</td>\n",
              "      <td>0.108470</td>\n",
              "      <td>0.793490</td>\n",
              "      <td>0.227866</td>\n",
              "    </tr>\n",
              "    <tr>\n",
              "      <th>4</th>\n",
              "      <td>4</td>\n",
              "      <td>1.445847</td>\n",
              "      <td>-0.094258</td>\n",
              "      <td>-0.043909</td>\n",
              "      <td>0.957756</td>\n",
              "      <td>0.919686</td>\n",
              "      <td>0.997377</td>\n",
              "      <td>1.358455</td>\n",
              "      <td>0.163847</td>\n",
              "      <td>1.129921</td>\n",
              "      <td>...</td>\n",
              "      <td>-0.093112</td>\n",
              "      <td>1.077867</td>\n",
              "      <td>0.326034</td>\n",
              "      <td>0.108830</td>\n",
              "      <td>0.042532</td>\n",
              "      <td>0.324776</td>\n",
              "      <td>1.456211</td>\n",
              "      <td>0.072304</td>\n",
              "      <td>0.500636</td>\n",
              "      <td>0.325651</td>\n",
              "    </tr>\n",
              "    <tr>\n",
              "      <th>...</th>\n",
              "      <td>...</td>\n",
              "      <td>...</td>\n",
              "      <td>...</td>\n",
              "      <td>...</td>\n",
              "      <td>...</td>\n",
              "      <td>...</td>\n",
              "      <td>...</td>\n",
              "      <td>...</td>\n",
              "      <td>...</td>\n",
              "      <td>...</td>\n",
              "      <td>...</td>\n",
              "      <td>...</td>\n",
              "      <td>...</td>\n",
              "      <td>...</td>\n",
              "      <td>...</td>\n",
              "      <td>...</td>\n",
              "      <td>...</td>\n",
              "      <td>...</td>\n",
              "      <td>...</td>\n",
              "      <td>...</td>\n",
              "      <td>...</td>\n",
              "    </tr>\n",
              "    <tr>\n",
              "      <th>2151</th>\n",
              "      <td>2151</td>\n",
              "      <td>0.383579</td>\n",
              "      <td>0.014833</td>\n",
              "      <td>0.152904</td>\n",
              "      <td>1.070466</td>\n",
              "      <td>-0.165756</td>\n",
              "      <td>1.781122</td>\n",
              "      <td>1.061129</td>\n",
              "      <td>0.468211</td>\n",
              "      <td>0.652665</td>\n",
              "      <td>...</td>\n",
              "      <td>-0.032927</td>\n",
              "      <td>2.016425</td>\n",
              "      <td>0.876193</td>\n",
              "      <td>0.541602</td>\n",
              "      <td>2.648481</td>\n",
              "      <td>1.429955</td>\n",
              "      <td>0.290847</td>\n",
              "      <td>-0.108674</td>\n",
              "      <td>1.578215</td>\n",
              "      <td>-0.167062</td>\n",
              "    </tr>\n",
              "    <tr>\n",
              "      <th>2152</th>\n",
              "      <td>2152</td>\n",
              "      <td>1.605507</td>\n",
              "      <td>0.082936</td>\n",
              "      <td>0.123267</td>\n",
              "      <td>-0.078949</td>\n",
              "      <td>0.368250</td>\n",
              "      <td>-0.029578</td>\n",
              "      <td>-0.169905</td>\n",
              "      <td>0.474656</td>\n",
              "      <td>0.933525</td>\n",
              "      <td>...</td>\n",
              "      <td>-0.151322</td>\n",
              "      <td>0.592680</td>\n",
              "      <td>0.324494</td>\n",
              "      <td>0.861944</td>\n",
              "      <td>-0.166413</td>\n",
              "      <td>1.910821</td>\n",
              "      <td>-0.169140</td>\n",
              "      <td>-0.119289</td>\n",
              "      <td>0.734402</td>\n",
              "      <td>1.532928</td>\n",
              "    </tr>\n",
              "    <tr>\n",
              "      <th>2153</th>\n",
              "      <td>2153</td>\n",
              "      <td>0.466124</td>\n",
              "      <td>1.457700</td>\n",
              "      <td>1.812516</td>\n",
              "      <td>2.652836</td>\n",
              "      <td>0.137167</td>\n",
              "      <td>0.892337</td>\n",
              "      <td>0.898731</td>\n",
              "      <td>0.538793</td>\n",
              "      <td>0.041432</td>\n",
              "      <td>...</td>\n",
              "      <td>-0.124383</td>\n",
              "      <td>0.470545</td>\n",
              "      <td>0.376830</td>\n",
              "      <td>0.179856</td>\n",
              "      <td>0.864443</td>\n",
              "      <td>0.392427</td>\n",
              "      <td>0.776329</td>\n",
              "      <td>1.793663</td>\n",
              "      <td>0.539945</td>\n",
              "      <td>0.275950</td>\n",
              "    </tr>\n",
              "    <tr>\n",
              "      <th>2154</th>\n",
              "      <td>2154</td>\n",
              "      <td>-0.054760</td>\n",
              "      <td>0.135444</td>\n",
              "      <td>0.203186</td>\n",
              "      <td>0.662257</td>\n",
              "      <td>0.443430</td>\n",
              "      <td>-0.106505</td>\n",
              "      <td>1.768190</td>\n",
              "      <td>0.533879</td>\n",
              "      <td>-0.017878</td>\n",
              "      <td>...</td>\n",
              "      <td>-0.148893</td>\n",
              "      <td>0.123102</td>\n",
              "      <td>1.676513</td>\n",
              "      <td>0.878446</td>\n",
              "      <td>0.191181</td>\n",
              "      <td>-0.001049</td>\n",
              "      <td>0.156658</td>\n",
              "      <td>0.384941</td>\n",
              "      <td>0.582924</td>\n",
              "      <td>0.603407</td>\n",
              "    </tr>\n",
              "    <tr>\n",
              "      <th>2155</th>\n",
              "      <td>2155</td>\n",
              "      <td>0.808844</td>\n",
              "      <td>-0.147409</td>\n",
              "      <td>0.448104</td>\n",
              "      <td>0.184247</td>\n",
              "      <td>0.072471</td>\n",
              "      <td>0.583709</td>\n",
              "      <td>1.513430</td>\n",
              "      <td>-0.154717</td>\n",
              "      <td>0.706904</td>\n",
              "      <td>...</td>\n",
              "      <td>0.925669</td>\n",
              "      <td>0.304649</td>\n",
              "      <td>-0.145104</td>\n",
              "      <td>0.103894</td>\n",
              "      <td>1.274719</td>\n",
              "      <td>2.374968</td>\n",
              "      <td>0.128313</td>\n",
              "      <td>0.508662</td>\n",
              "      <td>0.762310</td>\n",
              "      <td>0.429575</td>\n",
              "    </tr>\n",
              "  </tbody>\n",
              "</table>\n",
              "<p>2156 rows × 129 columns</p>\n",
              "</div>\n",
              "      <button class=\"colab-df-convert\" onclick=\"convertToInteractive('df-b939440d-5d4a-4526-9e09-bd7797d4481a')\"\n",
              "              title=\"Convert this dataframe to an interactive table.\"\n",
              "              style=\"display:none;\">\n",
              "        \n",
              "  <svg xmlns=\"http://www.w3.org/2000/svg\" height=\"24px\"viewBox=\"0 0 24 24\"\n",
              "       width=\"24px\">\n",
              "    <path d=\"M0 0h24v24H0V0z\" fill=\"none\"/>\n",
              "    <path d=\"M18.56 5.44l.94 2.06.94-2.06 2.06-.94-2.06-.94-.94-2.06-.94 2.06-2.06.94zm-11 1L8.5 8.5l.94-2.06 2.06-.94-2.06-.94L8.5 2.5l-.94 2.06-2.06.94zm10 10l.94 2.06.94-2.06 2.06-.94-2.06-.94-.94-2.06-.94 2.06-2.06.94z\"/><path d=\"M17.41 7.96l-1.37-1.37c-.4-.4-.92-.59-1.43-.59-.52 0-1.04.2-1.43.59L10.3 9.45l-7.72 7.72c-.78.78-.78 2.05 0 2.83L4 21.41c.39.39.9.59 1.41.59.51 0 1.02-.2 1.41-.59l7.78-7.78 2.81-2.81c.8-.78.8-2.07 0-2.86zM5.41 20L4 18.59l7.72-7.72 1.47 1.35L5.41 20z\"/>\n",
              "  </svg>\n",
              "      </button>\n",
              "      \n",
              "  <style>\n",
              "    .colab-df-container {\n",
              "      display:flex;\n",
              "      flex-wrap:wrap;\n",
              "      gap: 12px;\n",
              "    }\n",
              "\n",
              "    .colab-df-convert {\n",
              "      background-color: #E8F0FE;\n",
              "      border: none;\n",
              "      border-radius: 50%;\n",
              "      cursor: pointer;\n",
              "      display: none;\n",
              "      fill: #1967D2;\n",
              "      height: 32px;\n",
              "      padding: 0 0 0 0;\n",
              "      width: 32px;\n",
              "    }\n",
              "\n",
              "    .colab-df-convert:hover {\n",
              "      background-color: #E2EBFA;\n",
              "      box-shadow: 0px 1px 2px rgba(60, 64, 67, 0.3), 0px 1px 3px 1px rgba(60, 64, 67, 0.15);\n",
              "      fill: #174EA6;\n",
              "    }\n",
              "\n",
              "    [theme=dark] .colab-df-convert {\n",
              "      background-color: #3B4455;\n",
              "      fill: #D2E3FC;\n",
              "    }\n",
              "\n",
              "    [theme=dark] .colab-df-convert:hover {\n",
              "      background-color: #434B5C;\n",
              "      box-shadow: 0px 1px 3px 1px rgba(0, 0, 0, 0.15);\n",
              "      filter: drop-shadow(0px 1px 2px rgba(0, 0, 0, 0.3));\n",
              "      fill: #FFFFFF;\n",
              "    }\n",
              "  </style>\n",
              "\n",
              "      <script>\n",
              "        const buttonEl =\n",
              "          document.querySelector('#df-b939440d-5d4a-4526-9e09-bd7797d4481a button.colab-df-convert');\n",
              "        buttonEl.style.display =\n",
              "          google.colab.kernel.accessAllowed ? 'block' : 'none';\n",
              "\n",
              "        async function convertToInteractive(key) {\n",
              "          const element = document.querySelector('#df-b939440d-5d4a-4526-9e09-bd7797d4481a');\n",
              "          const dataTable =\n",
              "            await google.colab.kernel.invokeFunction('convertToInteractive',\n",
              "                                                     [key], {});\n",
              "          if (!dataTable) return;\n",
              "\n",
              "          const docLinkHtml = 'Like what you see? Visit the ' +\n",
              "            '<a target=\"_blank\" href=https://colab.research.google.com/notebooks/data_table.ipynb>data table notebook</a>'\n",
              "            + ' to learn more about interactive tables.';\n",
              "          element.innerHTML = '';\n",
              "          dataTable['output_type'] = 'display_data';\n",
              "          await google.colab.output.renderOutput(dataTable, element);\n",
              "          const docLink = document.createElement('div');\n",
              "          docLink.innerHTML = docLinkHtml;\n",
              "          element.appendChild(docLink);\n",
              "        }\n",
              "      </script>\n",
              "    </div>\n",
              "  </div>\n",
              "  "
            ]
          },
          "metadata": {},
          "execution_count": 120
        }
      ]
    },
    {
      "cell_type": "code",
      "source": [
        "silhouetteScore = silhouette_score(temp, y_test[\"Label\"], metric=\"euclidean\")\n",
        "davies_bouldinScore = davies_bouldin_score(temp, y_test[\"Label\"])\n",
        "\n",
        "print(\"Silhuette\", silhouetteScore, \"davies_bouldinScore\", davies_bouldinScore)"
      ],
      "metadata": {
        "colab": {
          "base_uri": "https://localhost:8080/"
        },
        "id": "2oigoJViQsHN",
        "outputId": "44a5245a-b9fd-4fd0-debb-6e16c63b379f"
      },
      "execution_count": null,
      "outputs": [
        {
          "output_type": "stream",
          "name": "stdout",
          "text": [
            "Silhuette -0.21981339776353218 davies_bouldinScore 32.232931611864586\n"
          ]
        }
      ]
    },
    {
      "cell_type": "code",
      "source": [
        "# validation\n",
        "x_test_encoded = encoder.predict(X_val_scaled, batch_size=batch_size) # X_test_scaled\n",
        "\n",
        "temp = pd.DataFrame(x_test_encoded).reset_index()\n",
        "\n",
        "silhouetteScore = silhouette_score(temp, y_val, metric=\"euclidean\")\n",
        "davies_bouldinScore = davies_bouldin_score(temp, y_val)\n",
        "\n",
        "print(\"Silhuette\", silhouetteScore, \"davies_bouldinScore\", davies_bouldinScore)"
      ],
      "metadata": {
        "colab": {
          "base_uri": "https://localhost:8080/"
        },
        "id": "EBQwUmZ0lleM",
        "outputId": "3d6c3cbc-5148-4735-fc61-c23002c7d9bf"
      },
      "execution_count": null,
      "outputs": [
        {
          "output_type": "stream",
          "name": "stdout",
          "text": [
            "Silhuette -0.07713830696630734 davies_bouldinScore 363.01564256891925\n"
          ]
        }
      ]
    },
    {
      "cell_type": "markdown",
      "source": [
        "# Testing different batch sizes of VAE (quaestion for discussion for the state exam)\n",
        "\n",
        "At the end, the variational autoencoder was not presented in the\n",
        "thesis due to lack of performance. It is not clear whether all\n",
        "hyperparameters of standard autoencoder presented in Methods\n",
        "were tested on variational autoencoder. I would expect poor\n",
        "performance of the variational autoencoder with small batches due to\n",
        "amplification of the noise. Did you test all batch sizes on the\n",
        "variational autoencoder?"
      ],
      "metadata": {
        "id": "iUI0hA-9KiMV"
      }
    },
    {
      "cell_type": "code",
      "source": [
        "import gc\n",
        "\n",
        "disable_eager_execution()\n",
        "\n",
        "batch_sizes = [64, 128, 256, 512, 1024, 2048]\n",
        "\n",
        "latent_dim = 50\n",
        "epochs = 200\n",
        "learning_rate = 0.00015\n",
        "\n",
        "epsilon_std = 1.0\n",
        "beta = K.variable(0)\n",
        "kappa = 1\n",
        "l = []\n",
        "\n",
        "cnt = 0\n",
        "kf = KFold(n_splits=5, shuffle=True, random_state=811)\n",
        "\n",
        "for batch_size in batch_sizes:\n",
        "  for train_index, val_index in kf.split(x_train_ada.index):\n",
        "    cnt+=1\n",
        "    X_val = x_train_ada.iloc[val_index, :]\n",
        "    y_val = y_train_ada.iloc[val_index, :]\n",
        "    X_train = x_train_ada.iloc[train_index, :]\n",
        "\n",
        "    from sklearn.preprocessing import MinMaxScaler\n",
        "    t = MinMaxScaler().fit(X_train)\n",
        "    X_train_scaled = t.transform(X_train)\n",
        "    X_val_scaled = t.transform(X_val)\n",
        "\n",
        "    original_dim = X_train_scaled.shape[1]\n",
        "    rnaseq_input = Input(shape=(original_dim, ))\n",
        "\n",
        "    z_mean_dense_linear = Dense(latent_dim, kernel_initializer='glorot_uniform')(rnaseq_input)\n",
        "    z_mean_dense_batchnorm = BatchNormalization()(z_mean_dense_linear)\n",
        "    z_mean_encoded = Activation('gelu')(z_mean_dense_batchnorm)\n",
        "\n",
        "    z_log_var_dense_linear = Dense(latent_dim, kernel_initializer='glorot_uniform')(rnaseq_input)\n",
        "    z_log_var_dense_batchnorm = BatchNormalization()(z_log_var_dense_linear)\n",
        "    z_log_var_encoded = Activation('gelu')(z_log_var_dense_batchnorm)\n",
        "\n",
        "    # return the encoded and randomly sampled z vector\n",
        "    z = Lambda(sampling, output_shape=(latent_dim, ))([z_mean_encoded, z_log_var_encoded])\n",
        "\n",
        "    decoder_to_reconstruct = Dense(original_dim, kernel_initializer='glorot_uniform', activation='gelu')\n",
        "    rnaseq_reconstruct = decoder_to_reconstruct(z)\n",
        "\n",
        "    adam = Adam(lr=learning_rate)\n",
        "    vae_layer = CustomVariationalLayer()([rnaseq_input, rnaseq_reconstruct])\n",
        "    vae = Model(rnaseq_input, vae_layer)\n",
        "    vae.compile(optimizer=adam, loss=None, loss_weights=[beta])\n",
        "\n",
        "    history = vae.fit(np.array(X_train_scaled),\n",
        "                epochs=epochs,\n",
        "                verbose=0,\n",
        "                batch_size=batch_size,\n",
        "                validation_data=(np.array(X_val_scaled), None),\n",
        "                callbacks=[WarmUpCallback(beta, kappa)])\n",
        "    \n",
        "    encoder = Model(rnaseq_input, z_mean_encoded)\n",
        "\n",
        "    x_test_encoded = encoder.predict(X_val_scaled, batch_size=batch_size) # X_test_scaled\n",
        "    a = y_val[0].tolist()\n",
        "\n",
        "    temp = pd.DataFrame(x_test_encoded)\n",
        "\n",
        "    km = KMeans(n_clusters=10, random_state=42)\n",
        "    y_pred = km.fit_predict(temp)\n",
        "    ari = adjusted_rand_score(y_pred, a)\n",
        "\n",
        "    silhouetteScore = silhouette_score(temp, a, metric=\"euclidean\")\n",
        "    davies_bouldinScore = davies_bouldin_score(temp, a)\n",
        "    #del vae, encoder, history\n",
        "    #K.clear_session()\n",
        "    #gc.collect()\n",
        "    l.append((cnt, batch_size, silhouetteScore, davies_bouldinScore))\n",
        "    ae_df = pd.DataFrame.from_records(l, columns=[\"CNT\",\"Batch size\", \"Silhouette\", \"DB score\"])\n",
        "    ae_df.to_csv(f\"{path}/autoencoder_grid_search_VAE.csv\")"
      ],
      "metadata": {
        "colab": {
          "base_uri": "https://localhost:8080/"
        },
        "id": "-FTUlYM-NRoV",
        "outputId": "6f5033bc-25ca-4523-ebb3-15dea1bdc593"
      },
      "execution_count": null,
      "outputs": [
        {
          "output_type": "stream",
          "name": "stderr",
          "text": [
            "WARNING:tensorflow:From /usr/local/lib/python3.10/dist-packages/keras/layers/normalization/batch_normalization.py:581: _colocate_with (from tensorflow.python.framework.ops) is deprecated and will be removed in a future version.\n",
            "Instructions for updating:\n",
            "Colocations handled automatically by placer.\n",
            "/usr/local/lib/python3.10/dist-packages/keras/optimizers/legacy/adam.py:117: UserWarning: The `lr` argument is deprecated, use `learning_rate` instead.\n",
            "  super().__init__(name, **kwargs)\n",
            "WARNING:tensorflow:Output {0} missing from loss dictionary. We assume this was done on purpose. The fit and evaluate APIs will not be expecting any data to be passed to custom_variational_layer.\n",
            "/usr/local/lib/python3.10/dist-packages/keras/engine/training_v1.py:2335: UserWarning: `Model.state_updates` will be removed in a future version. This property should not be used in TensorFlow 2.0, as `updates` are applied automatically.\n",
            "  updates = self.state_updates\n",
            "/usr/local/lib/python3.10/dist-packages/keras/engine/training_v1.py:2359: UserWarning: `Model.state_updates` will be removed in a future version. This property should not be used in TensorFlow 2.0, as `updates` are applied automatically.\n",
            "  updates=self.state_updates,\n",
            "/usr/local/lib/python3.10/dist-packages/sklearn/cluster/_kmeans.py:870: FutureWarning: The default value of `n_init` will change from 10 to 'auto' in 1.4. Set the value of `n_init` explicitly to suppress the warning\n",
            "  warnings.warn(\n",
            "/usr/local/lib/python3.10/dist-packages/keras/optimizers/legacy/adam.py:117: UserWarning: The `lr` argument is deprecated, use `learning_rate` instead.\n",
            "  super().__init__(name, **kwargs)\n",
            "WARNING:tensorflow:Output {0} missing from loss dictionary. We assume this was done on purpose. The fit and evaluate APIs will not be expecting any data to be passed to custom_variational_layer_1.\n",
            "/usr/local/lib/python3.10/dist-packages/keras/engine/training_v1.py:2335: UserWarning: `Model.state_updates` will be removed in a future version. This property should not be used in TensorFlow 2.0, as `updates` are applied automatically.\n",
            "  updates = self.state_updates\n",
            "/usr/local/lib/python3.10/dist-packages/keras/engine/training_v1.py:2359: UserWarning: `Model.state_updates` will be removed in a future version. This property should not be used in TensorFlow 2.0, as `updates` are applied automatically.\n",
            "  updates=self.state_updates,\n",
            "/usr/local/lib/python3.10/dist-packages/sklearn/cluster/_kmeans.py:870: FutureWarning: The default value of `n_init` will change from 10 to 'auto' in 1.4. Set the value of `n_init` explicitly to suppress the warning\n",
            "  warnings.warn(\n",
            "/usr/local/lib/python3.10/dist-packages/keras/optimizers/legacy/adam.py:117: UserWarning: The `lr` argument is deprecated, use `learning_rate` instead.\n",
            "  super().__init__(name, **kwargs)\n",
            "WARNING:tensorflow:Output {0} missing from loss dictionary. We assume this was done on purpose. The fit and evaluate APIs will not be expecting any data to be passed to custom_variational_layer_2.\n",
            "/usr/local/lib/python3.10/dist-packages/keras/engine/training_v1.py:2335: UserWarning: `Model.state_updates` will be removed in a future version. This property should not be used in TensorFlow 2.0, as `updates` are applied automatically.\n",
            "  updates = self.state_updates\n",
            "/usr/local/lib/python3.10/dist-packages/keras/engine/training_v1.py:2359: UserWarning: `Model.state_updates` will be removed in a future version. This property should not be used in TensorFlow 2.0, as `updates` are applied automatically.\n",
            "  updates=self.state_updates,\n",
            "/usr/local/lib/python3.10/dist-packages/sklearn/cluster/_kmeans.py:870: FutureWarning: The default value of `n_init` will change from 10 to 'auto' in 1.4. Set the value of `n_init` explicitly to suppress the warning\n",
            "  warnings.warn(\n",
            "/usr/local/lib/python3.10/dist-packages/keras/optimizers/legacy/adam.py:117: UserWarning: The `lr` argument is deprecated, use `learning_rate` instead.\n",
            "  super().__init__(name, **kwargs)\n",
            "WARNING:tensorflow:Output {0} missing from loss dictionary. We assume this was done on purpose. The fit and evaluate APIs will not be expecting any data to be passed to custom_variational_layer_3.\n",
            "/usr/local/lib/python3.10/dist-packages/keras/engine/training_v1.py:2335: UserWarning: `Model.state_updates` will be removed in a future version. This property should not be used in TensorFlow 2.0, as `updates` are applied automatically.\n",
            "  updates = self.state_updates\n",
            "/usr/local/lib/python3.10/dist-packages/keras/engine/training_v1.py:2359: UserWarning: `Model.state_updates` will be removed in a future version. This property should not be used in TensorFlow 2.0, as `updates` are applied automatically.\n",
            "  updates=self.state_updates,\n",
            "/usr/local/lib/python3.10/dist-packages/sklearn/cluster/_kmeans.py:870: FutureWarning: The default value of `n_init` will change from 10 to 'auto' in 1.4. Set the value of `n_init` explicitly to suppress the warning\n",
            "  warnings.warn(\n",
            "/usr/local/lib/python3.10/dist-packages/keras/optimizers/legacy/adam.py:117: UserWarning: The `lr` argument is deprecated, use `learning_rate` instead.\n",
            "  super().__init__(name, **kwargs)\n",
            "WARNING:tensorflow:Output {0} missing from loss dictionary. We assume this was done on purpose. The fit and evaluate APIs will not be expecting any data to be passed to custom_variational_layer_4.\n",
            "/usr/local/lib/python3.10/dist-packages/keras/engine/training_v1.py:2335: UserWarning: `Model.state_updates` will be removed in a future version. This property should not be used in TensorFlow 2.0, as `updates` are applied automatically.\n",
            "  updates = self.state_updates\n",
            "/usr/local/lib/python3.10/dist-packages/keras/engine/training_v1.py:2359: UserWarning: `Model.state_updates` will be removed in a future version. This property should not be used in TensorFlow 2.0, as `updates` are applied automatically.\n",
            "  updates=self.state_updates,\n",
            "/usr/local/lib/python3.10/dist-packages/sklearn/cluster/_kmeans.py:870: FutureWarning: The default value of `n_init` will change from 10 to 'auto' in 1.4. Set the value of `n_init` explicitly to suppress the warning\n",
            "  warnings.warn(\n",
            "/usr/local/lib/python3.10/dist-packages/keras/optimizers/legacy/adam.py:117: UserWarning: The `lr` argument is deprecated, use `learning_rate` instead.\n",
            "  super().__init__(name, **kwargs)\n",
            "WARNING:tensorflow:Output {0} missing from loss dictionary. We assume this was done on purpose. The fit and evaluate APIs will not be expecting any data to be passed to custom_variational_layer_5.\n",
            "/usr/local/lib/python3.10/dist-packages/keras/engine/training_v1.py:2335: UserWarning: `Model.state_updates` will be removed in a future version. This property should not be used in TensorFlow 2.0, as `updates` are applied automatically.\n",
            "  updates = self.state_updates\n",
            "/usr/local/lib/python3.10/dist-packages/keras/engine/training_v1.py:2359: UserWarning: `Model.state_updates` will be removed in a future version. This property should not be used in TensorFlow 2.0, as `updates` are applied automatically.\n",
            "  updates=self.state_updates,\n",
            "/usr/local/lib/python3.10/dist-packages/sklearn/cluster/_kmeans.py:870: FutureWarning: The default value of `n_init` will change from 10 to 'auto' in 1.4. Set the value of `n_init` explicitly to suppress the warning\n",
            "  warnings.warn(\n",
            "/usr/local/lib/python3.10/dist-packages/keras/optimizers/legacy/adam.py:117: UserWarning: The `lr` argument is deprecated, use `learning_rate` instead.\n",
            "  super().__init__(name, **kwargs)\n",
            "WARNING:tensorflow:Output {0} missing from loss dictionary. We assume this was done on purpose. The fit and evaluate APIs will not be expecting any data to be passed to custom_variational_layer_6.\n",
            "/usr/local/lib/python3.10/dist-packages/keras/engine/training_v1.py:2335: UserWarning: `Model.state_updates` will be removed in a future version. This property should not be used in TensorFlow 2.0, as `updates` are applied automatically.\n",
            "  updates = self.state_updates\n",
            "/usr/local/lib/python3.10/dist-packages/keras/engine/training_v1.py:2359: UserWarning: `Model.state_updates` will be removed in a future version. This property should not be used in TensorFlow 2.0, as `updates` are applied automatically.\n",
            "  updates=self.state_updates,\n",
            "/usr/local/lib/python3.10/dist-packages/sklearn/cluster/_kmeans.py:870: FutureWarning: The default value of `n_init` will change from 10 to 'auto' in 1.4. Set the value of `n_init` explicitly to suppress the warning\n",
            "  warnings.warn(\n",
            "/usr/local/lib/python3.10/dist-packages/keras/optimizers/legacy/adam.py:117: UserWarning: The `lr` argument is deprecated, use `learning_rate` instead.\n",
            "  super().__init__(name, **kwargs)\n",
            "WARNING:tensorflow:Output {0} missing from loss dictionary. We assume this was done on purpose. The fit and evaluate APIs will not be expecting any data to be passed to custom_variational_layer_7.\n",
            "/usr/local/lib/python3.10/dist-packages/keras/engine/training_v1.py:2335: UserWarning: `Model.state_updates` will be removed in a future version. This property should not be used in TensorFlow 2.0, as `updates` are applied automatically.\n",
            "  updates = self.state_updates\n",
            "/usr/local/lib/python3.10/dist-packages/keras/engine/training_v1.py:2359: UserWarning: `Model.state_updates` will be removed in a future version. This property should not be used in TensorFlow 2.0, as `updates` are applied automatically.\n",
            "  updates=self.state_updates,\n",
            "/usr/local/lib/python3.10/dist-packages/sklearn/cluster/_kmeans.py:870: FutureWarning: The default value of `n_init` will change from 10 to 'auto' in 1.4. Set the value of `n_init` explicitly to suppress the warning\n",
            "  warnings.warn(\n",
            "/usr/local/lib/python3.10/dist-packages/keras/optimizers/legacy/adam.py:117: UserWarning: The `lr` argument is deprecated, use `learning_rate` instead.\n",
            "  super().__init__(name, **kwargs)\n",
            "WARNING:tensorflow:Output {0} missing from loss dictionary. We assume this was done on purpose. The fit and evaluate APIs will not be expecting any data to be passed to custom_variational_layer_8.\n",
            "/usr/local/lib/python3.10/dist-packages/keras/engine/training_v1.py:2335: UserWarning: `Model.state_updates` will be removed in a future version. This property should not be used in TensorFlow 2.0, as `updates` are applied automatically.\n",
            "  updates = self.state_updates\n",
            "/usr/local/lib/python3.10/dist-packages/keras/engine/training_v1.py:2359: UserWarning: `Model.state_updates` will be removed in a future version. This property should not be used in TensorFlow 2.0, as `updates` are applied automatically.\n",
            "  updates=self.state_updates,\n",
            "/usr/local/lib/python3.10/dist-packages/sklearn/cluster/_kmeans.py:870: FutureWarning: The default value of `n_init` will change from 10 to 'auto' in 1.4. Set the value of `n_init` explicitly to suppress the warning\n",
            "  warnings.warn(\n",
            "/usr/local/lib/python3.10/dist-packages/keras/optimizers/legacy/adam.py:117: UserWarning: The `lr` argument is deprecated, use `learning_rate` instead.\n",
            "  super().__init__(name, **kwargs)\n",
            "WARNING:tensorflow:Output {0} missing from loss dictionary. We assume this was done on purpose. The fit and evaluate APIs will not be expecting any data to be passed to custom_variational_layer_9.\n",
            "/usr/local/lib/python3.10/dist-packages/keras/engine/training_v1.py:2335: UserWarning: `Model.state_updates` will be removed in a future version. This property should not be used in TensorFlow 2.0, as `updates` are applied automatically.\n",
            "  updates = self.state_updates\n",
            "/usr/local/lib/python3.10/dist-packages/keras/engine/training_v1.py:2359: UserWarning: `Model.state_updates` will be removed in a future version. This property should not be used in TensorFlow 2.0, as `updates` are applied automatically.\n",
            "  updates=self.state_updates,\n",
            "/usr/local/lib/python3.10/dist-packages/sklearn/cluster/_kmeans.py:870: FutureWarning: The default value of `n_init` will change from 10 to 'auto' in 1.4. Set the value of `n_init` explicitly to suppress the warning\n",
            "  warnings.warn(\n"
          ]
        }
      ]
    },
    {
      "cell_type": "markdown",
      "source": [
        "## VAE (batch effect)"
      ],
      "metadata": {
        "id": "bW8vjMTz-Xbo"
      }
    },
    {
      "cell_type": "code",
      "source": [
        "data = pd.read_csv(f\"{path}/../VAE.csv.zip\", compression=\"zip\", sep=\";\")\n",
        "data"
      ],
      "metadata": {
        "colab": {
          "base_uri": "https://localhost:8080/",
          "height": 990
        },
        "id": "CUJLBKaF-WY4",
        "outputId": "38bfe501-98ad-4e62-865e-b616e417b687"
      },
      "execution_count": null,
      "outputs": [
        {
          "output_type": "execute_result",
          "data": {
            "text/plain": [
              "    Batch size  Silhouette   DB score\n",
              "0           64      -0.132   8.480773\n",
              "1           64      -0.126  11.658598\n",
              "2           64      -0.123   9.310343\n",
              "3           64      -0.122   9.497042\n",
              "4           64      -0.128  10.252876\n",
              "5          128      -0.130   8.905380\n",
              "6          128      -0.120  13.970644\n",
              "7          128      -0.130  11.684253\n",
              "8          128      -0.110  13.072489\n",
              "9          128      -0.120  13.106810\n",
              "10         256      -0.080  16.851555\n",
              "11         256      -0.070  17.432252\n",
              "12         256      -0.110  14.205430\n",
              "13         256      -0.080  18.072123\n",
              "14         256      -0.100  14.656956\n",
              "15         512      -0.030  18.519735\n",
              "16         512      -0.030  16.151068\n",
              "17         512      -0.028  17.292534\n",
              "18         512      -0.037  15.815022\n",
              "19         512      -0.034  17.173414\n",
              "20        1024      -0.020  17.759944\n",
              "21        1024      -0.020  20.205160\n",
              "22        1024      -0.022  18.478400\n",
              "23        1024      -0.027  19.783372\n",
              "24        1024      -0.022  18.821996\n",
              "25        2048      -0.027  19.986843\n",
              "26        2048      -0.024  20.006203\n",
              "27        2048      -0.026  20.346635\n",
              "28        2048      -0.024  19.705513\n",
              "29        2048      -0.024  20.455494"
            ],
            "text/html": [
              "\n",
              "  <div id=\"df-ad9eb535-b67b-474b-8b4d-fe3276c87ad9\">\n",
              "    <div class=\"colab-df-container\">\n",
              "      <div>\n",
              "<style scoped>\n",
              "    .dataframe tbody tr th:only-of-type {\n",
              "        vertical-align: middle;\n",
              "    }\n",
              "\n",
              "    .dataframe tbody tr th {\n",
              "        vertical-align: top;\n",
              "    }\n",
              "\n",
              "    .dataframe thead th {\n",
              "        text-align: right;\n",
              "    }\n",
              "</style>\n",
              "<table border=\"1\" class=\"dataframe\">\n",
              "  <thead>\n",
              "    <tr style=\"text-align: right;\">\n",
              "      <th></th>\n",
              "      <th>Batch size</th>\n",
              "      <th>Silhouette</th>\n",
              "      <th>DB score</th>\n",
              "    </tr>\n",
              "  </thead>\n",
              "  <tbody>\n",
              "    <tr>\n",
              "      <th>0</th>\n",
              "      <td>64</td>\n",
              "      <td>-0.132</td>\n",
              "      <td>8.480773</td>\n",
              "    </tr>\n",
              "    <tr>\n",
              "      <th>1</th>\n",
              "      <td>64</td>\n",
              "      <td>-0.126</td>\n",
              "      <td>11.658598</td>\n",
              "    </tr>\n",
              "    <tr>\n",
              "      <th>2</th>\n",
              "      <td>64</td>\n",
              "      <td>-0.123</td>\n",
              "      <td>9.310343</td>\n",
              "    </tr>\n",
              "    <tr>\n",
              "      <th>3</th>\n",
              "      <td>64</td>\n",
              "      <td>-0.122</td>\n",
              "      <td>9.497042</td>\n",
              "    </tr>\n",
              "    <tr>\n",
              "      <th>4</th>\n",
              "      <td>64</td>\n",
              "      <td>-0.128</td>\n",
              "      <td>10.252876</td>\n",
              "    </tr>\n",
              "    <tr>\n",
              "      <th>5</th>\n",
              "      <td>128</td>\n",
              "      <td>-0.130</td>\n",
              "      <td>8.905380</td>\n",
              "    </tr>\n",
              "    <tr>\n",
              "      <th>6</th>\n",
              "      <td>128</td>\n",
              "      <td>-0.120</td>\n",
              "      <td>13.970644</td>\n",
              "    </tr>\n",
              "    <tr>\n",
              "      <th>7</th>\n",
              "      <td>128</td>\n",
              "      <td>-0.130</td>\n",
              "      <td>11.684253</td>\n",
              "    </tr>\n",
              "    <tr>\n",
              "      <th>8</th>\n",
              "      <td>128</td>\n",
              "      <td>-0.110</td>\n",
              "      <td>13.072489</td>\n",
              "    </tr>\n",
              "    <tr>\n",
              "      <th>9</th>\n",
              "      <td>128</td>\n",
              "      <td>-0.120</td>\n",
              "      <td>13.106810</td>\n",
              "    </tr>\n",
              "    <tr>\n",
              "      <th>10</th>\n",
              "      <td>256</td>\n",
              "      <td>-0.080</td>\n",
              "      <td>16.851555</td>\n",
              "    </tr>\n",
              "    <tr>\n",
              "      <th>11</th>\n",
              "      <td>256</td>\n",
              "      <td>-0.070</td>\n",
              "      <td>17.432252</td>\n",
              "    </tr>\n",
              "    <tr>\n",
              "      <th>12</th>\n",
              "      <td>256</td>\n",
              "      <td>-0.110</td>\n",
              "      <td>14.205430</td>\n",
              "    </tr>\n",
              "    <tr>\n",
              "      <th>13</th>\n",
              "      <td>256</td>\n",
              "      <td>-0.080</td>\n",
              "      <td>18.072123</td>\n",
              "    </tr>\n",
              "    <tr>\n",
              "      <th>14</th>\n",
              "      <td>256</td>\n",
              "      <td>-0.100</td>\n",
              "      <td>14.656956</td>\n",
              "    </tr>\n",
              "    <tr>\n",
              "      <th>15</th>\n",
              "      <td>512</td>\n",
              "      <td>-0.030</td>\n",
              "      <td>18.519735</td>\n",
              "    </tr>\n",
              "    <tr>\n",
              "      <th>16</th>\n",
              "      <td>512</td>\n",
              "      <td>-0.030</td>\n",
              "      <td>16.151068</td>\n",
              "    </tr>\n",
              "    <tr>\n",
              "      <th>17</th>\n",
              "      <td>512</td>\n",
              "      <td>-0.028</td>\n",
              "      <td>17.292534</td>\n",
              "    </tr>\n",
              "    <tr>\n",
              "      <th>18</th>\n",
              "      <td>512</td>\n",
              "      <td>-0.037</td>\n",
              "      <td>15.815022</td>\n",
              "    </tr>\n",
              "    <tr>\n",
              "      <th>19</th>\n",
              "      <td>512</td>\n",
              "      <td>-0.034</td>\n",
              "      <td>17.173414</td>\n",
              "    </tr>\n",
              "    <tr>\n",
              "      <th>20</th>\n",
              "      <td>1024</td>\n",
              "      <td>-0.020</td>\n",
              "      <td>17.759944</td>\n",
              "    </tr>\n",
              "    <tr>\n",
              "      <th>21</th>\n",
              "      <td>1024</td>\n",
              "      <td>-0.020</td>\n",
              "      <td>20.205160</td>\n",
              "    </tr>\n",
              "    <tr>\n",
              "      <th>22</th>\n",
              "      <td>1024</td>\n",
              "      <td>-0.022</td>\n",
              "      <td>18.478400</td>\n",
              "    </tr>\n",
              "    <tr>\n",
              "      <th>23</th>\n",
              "      <td>1024</td>\n",
              "      <td>-0.027</td>\n",
              "      <td>19.783372</td>\n",
              "    </tr>\n",
              "    <tr>\n",
              "      <th>24</th>\n",
              "      <td>1024</td>\n",
              "      <td>-0.022</td>\n",
              "      <td>18.821996</td>\n",
              "    </tr>\n",
              "    <tr>\n",
              "      <th>25</th>\n",
              "      <td>2048</td>\n",
              "      <td>-0.027</td>\n",
              "      <td>19.986843</td>\n",
              "    </tr>\n",
              "    <tr>\n",
              "      <th>26</th>\n",
              "      <td>2048</td>\n",
              "      <td>-0.024</td>\n",
              "      <td>20.006203</td>\n",
              "    </tr>\n",
              "    <tr>\n",
              "      <th>27</th>\n",
              "      <td>2048</td>\n",
              "      <td>-0.026</td>\n",
              "      <td>20.346635</td>\n",
              "    </tr>\n",
              "    <tr>\n",
              "      <th>28</th>\n",
              "      <td>2048</td>\n",
              "      <td>-0.024</td>\n",
              "      <td>19.705513</td>\n",
              "    </tr>\n",
              "    <tr>\n",
              "      <th>29</th>\n",
              "      <td>2048</td>\n",
              "      <td>-0.024</td>\n",
              "      <td>20.455494</td>\n",
              "    </tr>\n",
              "  </tbody>\n",
              "</table>\n",
              "</div>\n",
              "      <button class=\"colab-df-convert\" onclick=\"convertToInteractive('df-ad9eb535-b67b-474b-8b4d-fe3276c87ad9')\"\n",
              "              title=\"Convert this dataframe to an interactive table.\"\n",
              "              style=\"display:none;\">\n",
              "        \n",
              "  <svg xmlns=\"http://www.w3.org/2000/svg\" height=\"24px\"viewBox=\"0 0 24 24\"\n",
              "       width=\"24px\">\n",
              "    <path d=\"M0 0h24v24H0V0z\" fill=\"none\"/>\n",
              "    <path d=\"M18.56 5.44l.94 2.06.94-2.06 2.06-.94-2.06-.94-.94-2.06-.94 2.06-2.06.94zm-11 1L8.5 8.5l.94-2.06 2.06-.94-2.06-.94L8.5 2.5l-.94 2.06-2.06.94zm10 10l.94 2.06.94-2.06 2.06-.94-2.06-.94-.94-2.06-.94 2.06-2.06.94z\"/><path d=\"M17.41 7.96l-1.37-1.37c-.4-.4-.92-.59-1.43-.59-.52 0-1.04.2-1.43.59L10.3 9.45l-7.72 7.72c-.78.78-.78 2.05 0 2.83L4 21.41c.39.39.9.59 1.41.59.51 0 1.02-.2 1.41-.59l7.78-7.78 2.81-2.81c.8-.78.8-2.07 0-2.86zM5.41 20L4 18.59l7.72-7.72 1.47 1.35L5.41 20z\"/>\n",
              "  </svg>\n",
              "      </button>\n",
              "      \n",
              "  <style>\n",
              "    .colab-df-container {\n",
              "      display:flex;\n",
              "      flex-wrap:wrap;\n",
              "      gap: 12px;\n",
              "    }\n",
              "\n",
              "    .colab-df-convert {\n",
              "      background-color: #E8F0FE;\n",
              "      border: none;\n",
              "      border-radius: 50%;\n",
              "      cursor: pointer;\n",
              "      display: none;\n",
              "      fill: #1967D2;\n",
              "      height: 32px;\n",
              "      padding: 0 0 0 0;\n",
              "      width: 32px;\n",
              "    }\n",
              "\n",
              "    .colab-df-convert:hover {\n",
              "      background-color: #E2EBFA;\n",
              "      box-shadow: 0px 1px 2px rgba(60, 64, 67, 0.3), 0px 1px 3px 1px rgba(60, 64, 67, 0.15);\n",
              "      fill: #174EA6;\n",
              "    }\n",
              "\n",
              "    [theme=dark] .colab-df-convert {\n",
              "      background-color: #3B4455;\n",
              "      fill: #D2E3FC;\n",
              "    }\n",
              "\n",
              "    [theme=dark] .colab-df-convert:hover {\n",
              "      background-color: #434B5C;\n",
              "      box-shadow: 0px 1px 3px 1px rgba(0, 0, 0, 0.15);\n",
              "      filter: drop-shadow(0px 1px 2px rgba(0, 0, 0, 0.3));\n",
              "      fill: #FFFFFF;\n",
              "    }\n",
              "  </style>\n",
              "\n",
              "      <script>\n",
              "        const buttonEl =\n",
              "          document.querySelector('#df-ad9eb535-b67b-474b-8b4d-fe3276c87ad9 button.colab-df-convert');\n",
              "        buttonEl.style.display =\n",
              "          google.colab.kernel.accessAllowed ? 'block' : 'none';\n",
              "\n",
              "        async function convertToInteractive(key) {\n",
              "          const element = document.querySelector('#df-ad9eb535-b67b-474b-8b4d-fe3276c87ad9');\n",
              "          const dataTable =\n",
              "            await google.colab.kernel.invokeFunction('convertToInteractive',\n",
              "                                                     [key], {});\n",
              "          if (!dataTable) return;\n",
              "\n",
              "          const docLinkHtml = 'Like what you see? Visit the ' +\n",
              "            '<a target=\"_blank\" href=https://colab.research.google.com/notebooks/data_table.ipynb>data table notebook</a>'\n",
              "            + ' to learn more about interactive tables.';\n",
              "          element.innerHTML = '';\n",
              "          dataTable['output_type'] = 'display_data';\n",
              "          await google.colab.output.renderOutput(dataTable, element);\n",
              "          const docLink = document.createElement('div');\n",
              "          docLink.innerHTML = docLinkHtml;\n",
              "          element.appendChild(docLink);\n",
              "        }\n",
              "      </script>\n",
              "    </div>\n",
              "  </div>\n",
              "  "
            ]
          },
          "metadata": {},
          "execution_count": 21
        }
      ]
    },
    {
      "cell_type": "code",
      "source": [
        "sns.barplot(data=data, x=\"Batch size\", y=\"Silhouette\")\n",
        "plt.title(\"The Silhuette score over batch sizes\",fontsize=14)\n",
        "plt.ylabel(\"The Silhuette score [-]\", fontsize=14)\n",
        "plt.xlabel(\"\", fontsize=14)\n",
        "plt.xticks(fontsize=14, rotation=45, ha=\"right\")\n",
        "plt.yticks(fontsize=14)\n",
        "plt.show()"
      ],
      "metadata": {
        "colab": {
          "base_uri": "https://localhost:8080/",
          "height": 488
        },
        "id": "Vh2TUnB-D66Z",
        "outputId": "99012d44-2d13-4dfe-eca3-13cd7890859d"
      },
      "execution_count": null,
      "outputs": [
        {
          "output_type": "display_data",
          "data": {
            "text/plain": [
              "<Figure size 640x480 with 1 Axes>"
            ],
            "image/png": "[encoded data removed]"
          },
          "metadata": {}
        }
      ]
    },
    {
      "cell_type": "code",
      "source": [
        "sns.barplot(data=data, x=\"Batch size\", y=\"DB score\")\n",
        "plt.title(\"The Davies-Bouldin score over batch sizes\",fontsize=14)\n",
        "plt.ylabel(\"The Davies-Bouldin score [-]\", fontsize=14)\n",
        "plt.xlabel(\"\", fontsize=14)\n",
        "plt.xticks(fontsize=14, rotation=45, ha=\"right\")\n",
        "plt.yticks(fontsize=14)\n",
        "plt.show()"
      ],
      "metadata": {
        "colab": {
          "base_uri": "https://localhost:8080/",
          "height": 488
        },
        "id": "kMk-73W5EnmK",
        "outputId": "9315f356-39e6-4e2d-d07b-f7a51f8365d6"
      },
      "execution_count": null,
      "outputs": [
        {
          "output_type": "display_data",
          "data": {
            "text/plain": [
              "<Figure size 640x480 with 1 Axes>"
            ],
            "image/png": "[encoded data removed]"
          },
          "metadata": {}
        }
      ]
    }
  ],
  "metadata": {
    "colab": {
      "machine_shape": "hm",
      "provenance": [],
      "toc_visible": true,
      "gpuType": "T4",
      "gpuClass": "premium",
      "include_colab_link": true
    },
    "gpuClass": "premium",
    "kernelspec": {
      "display_name": "Python 3",
      "name": "python3"
    },
    "language_info": {
      "name": "python"
    },
    "accelerator": "GPU"
  },
  "nbformat": 4,
  "nbformat_minor": 0
}