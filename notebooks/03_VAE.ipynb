{
  "cells": [
    {
      "cell_type": "markdown",
      "metadata": {
        "id": "view-in-github",
        "colab_type": "text"
      },
      "source": [
        "<a href=\"https://colab.research.google.com/github/kate-simonova/cancer-subtyping/blob/main/notebooks/03_VAE.ipynb\" target=\"_parent\"><img src=\"https://colab.research.google.com/assets/colab-badge.svg\" alt=\"Open In Colab\"/></a>"
      ]
    },
    {
      "cell_type": "markdown",
      "source": [
        " ## Data Loading and installation of packages"
      ],
      "metadata": {
        "id": "lsonb89Jfn0g"
      }
    },
    {
      "cell_type": "code",
      "source": [
        "!pip install umap-learn\n",
        "!pip install imblearn"
      ],
      "metadata": {
        "id": "RJBnqsCvRn_w"
      },
      "execution_count": null,
      "outputs": []
    },
    {
      "cell_type": "code",
      "execution_count": null,
      "metadata": {
        "id": "NVJ81ITZtoC5",
        "colab": {
          "base_uri": "https://localhost:8080/",
          "height": 381
        },
        "outputId": "744579b0-1d81-44f0-cf7e-c86e04fb6fd1"
      },
      "outputs": [
        {
          "output_type": "error",
          "ename": "MessageError",
          "evalue": "ignored",
          "traceback": [
            "\u001b[0;31m---------------------------------------------------------------------------\u001b[0m",
            "\u001b[0;31mMessageError\u001b[0m                              Traceback (most recent call last)",
            "\u001b[0;32m<ipython-input-2-451b8f20cd70>\u001b[0m in \u001b[0;36m<cell line: 3>\u001b[0;34m()\u001b[0m\n\u001b[1;32m      1\u001b[0m \u001b[0;31m# importing necessary packages\u001b[0m\u001b[0;34m\u001b[0m\u001b[0;34m\u001b[0m\u001b[0m\n\u001b[1;32m      2\u001b[0m \u001b[0;32mfrom\u001b[0m \u001b[0mgoogle\u001b[0m\u001b[0;34m.\u001b[0m\u001b[0mcolab\u001b[0m \u001b[0;32mimport\u001b[0m \u001b[0mdrive\u001b[0m\u001b[0;34m\u001b[0m\u001b[0;34m\u001b[0m\u001b[0m\n\u001b[0;32m----> 3\u001b[0;31m \u001b[0mdrive\u001b[0m\u001b[0;34m.\u001b[0m\u001b[0mmount\u001b[0m\u001b[0;34m(\u001b[0m\u001b[0;34m'/content/drive'\u001b[0m\u001b[0;34m)\u001b[0m\u001b[0;34m\u001b[0m\u001b[0;34m\u001b[0m\u001b[0m\n\u001b[0m\u001b[1;32m      4\u001b[0m \u001b[0mpath\u001b[0m \u001b[0;34m=\u001b[0m \u001b[0;34m\"/content/drive/MyDrive/MY_DATA/merged\"\u001b[0m\u001b[0;34m\u001b[0m\u001b[0;34m\u001b[0m\u001b[0m\n\u001b[1;32m      5\u001b[0m \u001b[0;34m\u001b[0m\u001b[0m\n",
            "\u001b[0;32m/usr/local/lib/python3.9/dist-packages/google/colab/drive.py\u001b[0m in \u001b[0;36mmount\u001b[0;34m(mountpoint, force_remount, timeout_ms, readonly)\u001b[0m\n\u001b[1;32m    101\u001b[0m \u001b[0;32mdef\u001b[0m \u001b[0mmount\u001b[0m\u001b[0;34m(\u001b[0m\u001b[0mmountpoint\u001b[0m\u001b[0;34m,\u001b[0m \u001b[0mforce_remount\u001b[0m\u001b[0;34m=\u001b[0m\u001b[0;32mFalse\u001b[0m\u001b[0;34m,\u001b[0m \u001b[0mtimeout_ms\u001b[0m\u001b[0;34m=\u001b[0m\u001b[0;36m120000\u001b[0m\u001b[0;34m,\u001b[0m \u001b[0mreadonly\u001b[0m\u001b[0;34m=\u001b[0m\u001b[0;32mFalse\u001b[0m\u001b[0;34m)\u001b[0m\u001b[0;34m:\u001b[0m\u001b[0;34m\u001b[0m\u001b[0;34m\u001b[0m\u001b[0m\n\u001b[1;32m    102\u001b[0m   \u001b[0;34m\"\"\"Mount your Google Drive at the specified mountpoint path.\"\"\"\u001b[0m\u001b[0;34m\u001b[0m\u001b[0;34m\u001b[0m\u001b[0m\n\u001b[0;32m--> 103\u001b[0;31m   return _mount(\n\u001b[0m\u001b[1;32m    104\u001b[0m       \u001b[0mmountpoint\u001b[0m\u001b[0;34m,\u001b[0m\u001b[0;34m\u001b[0m\u001b[0;34m\u001b[0m\u001b[0m\n\u001b[1;32m    105\u001b[0m       \u001b[0mforce_remount\u001b[0m\u001b[0;34m=\u001b[0m\u001b[0mforce_remount\u001b[0m\u001b[0;34m,\u001b[0m\u001b[0;34m\u001b[0m\u001b[0;34m\u001b[0m\u001b[0m\n",
            "\u001b[0;32m/usr/local/lib/python3.9/dist-packages/google/colab/drive.py\u001b[0m in \u001b[0;36m_mount\u001b[0;34m(mountpoint, force_remount, timeout_ms, ephemeral, readonly)\u001b[0m\n\u001b[1;32m    130\u001b[0m   )\n\u001b[1;32m    131\u001b[0m   \u001b[0;32mif\u001b[0m \u001b[0mephemeral\u001b[0m\u001b[0;34m:\u001b[0m\u001b[0;34m\u001b[0m\u001b[0;34m\u001b[0m\u001b[0m\n\u001b[0;32m--> 132\u001b[0;31m     _message.blocking_request(\n\u001b[0m\u001b[1;32m    133\u001b[0m         \u001b[0;34m'request_auth'\u001b[0m\u001b[0;34m,\u001b[0m \u001b[0mrequest\u001b[0m\u001b[0;34m=\u001b[0m\u001b[0;34m{\u001b[0m\u001b[0;34m'authType'\u001b[0m\u001b[0;34m:\u001b[0m \u001b[0;34m'dfs_ephemeral'\u001b[0m\u001b[0;34m}\u001b[0m\u001b[0;34m,\u001b[0m \u001b[0mtimeout_sec\u001b[0m\u001b[0;34m=\u001b[0m\u001b[0;32mNone\u001b[0m\u001b[0;34m\u001b[0m\u001b[0;34m\u001b[0m\u001b[0m\n\u001b[1;32m    134\u001b[0m     )\n",
            "\u001b[0;32m/usr/local/lib/python3.9/dist-packages/google/colab/_message.py\u001b[0m in \u001b[0;36mblocking_request\u001b[0;34m(request_type, request, timeout_sec, parent)\u001b[0m\n\u001b[1;32m    175\u001b[0m       \u001b[0mrequest_type\u001b[0m\u001b[0;34m,\u001b[0m \u001b[0mrequest\u001b[0m\u001b[0;34m,\u001b[0m \u001b[0mparent\u001b[0m\u001b[0;34m=\u001b[0m\u001b[0mparent\u001b[0m\u001b[0;34m,\u001b[0m \u001b[0mexpect_reply\u001b[0m\u001b[0;34m=\u001b[0m\u001b[0;32mTrue\u001b[0m\u001b[0;34m\u001b[0m\u001b[0;34m\u001b[0m\u001b[0m\n\u001b[1;32m    176\u001b[0m   )\n\u001b[0;32m--> 177\u001b[0;31m   \u001b[0;32mreturn\u001b[0m \u001b[0mread_reply_from_input\u001b[0m\u001b[0;34m(\u001b[0m\u001b[0mrequest_id\u001b[0m\u001b[0;34m,\u001b[0m \u001b[0mtimeout_sec\u001b[0m\u001b[0;34m)\u001b[0m\u001b[0;34m\u001b[0m\u001b[0;34m\u001b[0m\u001b[0m\n\u001b[0m",
            "\u001b[0;32m/usr/local/lib/python3.9/dist-packages/google/colab/_message.py\u001b[0m in \u001b[0;36mread_reply_from_input\u001b[0;34m(message_id, timeout_sec)\u001b[0m\n\u001b[1;32m    102\u001b[0m     ):\n\u001b[1;32m    103\u001b[0m       \u001b[0;32mif\u001b[0m \u001b[0;34m'error'\u001b[0m \u001b[0;32min\u001b[0m \u001b[0mreply\u001b[0m\u001b[0;34m:\u001b[0m\u001b[0;34m\u001b[0m\u001b[0;34m\u001b[0m\u001b[0m\n\u001b[0;32m--> 104\u001b[0;31m         \u001b[0;32mraise\u001b[0m \u001b[0mMessageError\u001b[0m\u001b[0;34m(\u001b[0m\u001b[0mreply\u001b[0m\u001b[0;34m[\u001b[0m\u001b[0;34m'error'\u001b[0m\u001b[0;34m]\u001b[0m\u001b[0;34m)\u001b[0m\u001b[0;34m\u001b[0m\u001b[0;34m\u001b[0m\u001b[0m\n\u001b[0m\u001b[1;32m    105\u001b[0m       \u001b[0;32mreturn\u001b[0m \u001b[0mreply\u001b[0m\u001b[0;34m.\u001b[0m\u001b[0mget\u001b[0m\u001b[0;34m(\u001b[0m\u001b[0;34m'data'\u001b[0m\u001b[0;34m,\u001b[0m \u001b[0;32mNone\u001b[0m\u001b[0;34m)\u001b[0m\u001b[0;34m\u001b[0m\u001b[0;34m\u001b[0m\u001b[0m\n\u001b[1;32m    106\u001b[0m \u001b[0;34m\u001b[0m\u001b[0m\n",
            "\u001b[0;31mMessageError\u001b[0m: Error: credential propagation was unsuccessful"
          ]
        }
      ],
      "source": [
        "# importing necessary packages\n",
        "from google.colab import drive\n",
        "drive.mount('/content/drive') \n",
        "path = \"/content/drive/MyDrive/MY_DATA/merged\"\n",
        "\n",
        "import re\n",
        "\n",
        "import plotly.express as px\n",
        "import numpy as np\n",
        "import pandas as pd\n",
        "import seaborn as sns\n",
        "from collections import Counter\n",
        "import matplotlib.pyplot as plt\n",
        "\n",
        "from sklearn.manifold import TSNE\n",
        "from sklearn.decomposition import PCA\n",
        "from sklearn.model_selection import train_test_split\n",
        "from sklearn.preprocessing import StandardScaler\n",
        "\n",
        "from imblearn.over_sampling import ADASYN\n",
        "from collections import Counter\n",
        "from sklearn.preprocessing import LabelEncoder\n",
        "\n",
        "from sklearn.cluster import KMeans\n",
        "from sklearn.decomposition import KernelPCA, PCA\n",
        "from sklearn.metrics import silhouette_score, davies_bouldin_score\n",
        "from sklearn.model_selection import KFold\n",
        "from keras.layers import Layer, Activation\n",
        "from keras.callbacks import Callback\n",
        "\n",
        "import keras\n",
        "keras.backend.clear_session()\n",
        "\n",
        "import seaborn as sns\n",
        "from tensorflow.keras.models import Model\n",
        "from tensorflow.keras.layers import Input\n",
        "from tensorflow.keras.layers import Dense\n",
        "from tensorflow.keras.layers import LeakyReLU, Lambda\n",
        "from tensorflow.keras.utils import plot_model\n",
        "from tensorflow.keras.layers import BatchNormalization\n",
        "\n",
        "from sklearn.preprocessing import MinMaxScaler"
      ]
    },
    {
      "cell_type": "markdown",
      "source": [
        "## Loading data "
      ],
      "metadata": {
        "id": "vjlncEi4hZW1"
      }
    },
    {
      "cell_type": "markdown",
      "source": [
        "Data were previosuly generated in [data splitting step](https://colab.research.google.com/drive/1FoqO_K2jZzqqD49h6zzHFwUWCHT_Ddg4)."
      ],
      "metadata": {
        "id": "61zFWHZs6hoG"
      }
    },
    {
      "cell_type": "code",
      "source": [
        "test_df = pd.read_csv(f\"{path}/split_circle/X_test_A_merged_CRC_BRCA.csv.tar.gz\", compression = \"gzip\", index_col=0).T\n",
        "test_df.shape"
      ],
      "metadata": {
        "colab": {
          "base_uri": "https://localhost:8080/",
          "height": 341
        },
        "id": "M3d97pXzSk5h",
        "outputId": "9407ae6a-4d5d-4898-8f21-50172ae52b4e"
      },
      "execution_count": null,
      "outputs": [
        {
          "output_type": "error",
          "ename": "KeyboardInterrupt",
          "evalue": "ignored",
          "traceback": [
            "\u001b[0;31m---------------------------------------------------------------------------\u001b[0m",
            "\u001b[0;31mKeyboardInterrupt\u001b[0m                         Traceback (most recent call last)",
            "\u001b[0;32m<ipython-input-3-baa5c17422b5>\u001b[0m in \u001b[0;36m<cell line: 1>\u001b[0;34m()\u001b[0m\n\u001b[0;32m----> 1\u001b[0;31m \u001b[0mtest_df\u001b[0m \u001b[0;34m=\u001b[0m \u001b[0mpd\u001b[0m\u001b[0;34m.\u001b[0m\u001b[0mread_csv\u001b[0m\u001b[0;34m(\u001b[0m\u001b[0;34mf\"{path}/split_circle/X_test_A_merged_CRC_BRCA.csv.tar.gz\"\u001b[0m\u001b[0;34m,\u001b[0m \u001b[0mcompression\u001b[0m \u001b[0;34m=\u001b[0m \u001b[0;34m\"gzip\"\u001b[0m\u001b[0;34m,\u001b[0m \u001b[0mindex_col\u001b[0m\u001b[0;34m=\u001b[0m\u001b[0;36m0\u001b[0m\u001b[0;34m)\u001b[0m\u001b[0;34m.\u001b[0m\u001b[0mT\u001b[0m\u001b[0;34m\u001b[0m\u001b[0;34m\u001b[0m\u001b[0m\n\u001b[0m\u001b[1;32m      2\u001b[0m \u001b[0mtest_df\u001b[0m\u001b[0;34m.\u001b[0m\u001b[0mshape\u001b[0m\u001b[0;34m\u001b[0m\u001b[0;34m\u001b[0m\u001b[0m\n",
            "\u001b[0;32m/usr/local/lib/python3.9/dist-packages/pandas/util/_decorators.py\u001b[0m in \u001b[0;36mwrapper\u001b[0;34m(*args, **kwargs)\u001b[0m\n\u001b[1;32m    209\u001b[0m                 \u001b[0;32melse\u001b[0m\u001b[0;34m:\u001b[0m\u001b[0;34m\u001b[0m\u001b[0;34m\u001b[0m\u001b[0m\n\u001b[1;32m    210\u001b[0m                     \u001b[0mkwargs\u001b[0m\u001b[0;34m[\u001b[0m\u001b[0mnew_arg_name\u001b[0m\u001b[0;34m]\u001b[0m \u001b[0;34m=\u001b[0m \u001b[0mnew_arg_value\u001b[0m\u001b[0;34m\u001b[0m\u001b[0;34m\u001b[0m\u001b[0m\n\u001b[0;32m--> 211\u001b[0;31m             \u001b[0;32mreturn\u001b[0m \u001b[0mfunc\u001b[0m\u001b[0;34m(\u001b[0m\u001b[0;34m*\u001b[0m\u001b[0margs\u001b[0m\u001b[0;34m,\u001b[0m \u001b[0;34m**\u001b[0m\u001b[0mkwargs\u001b[0m\u001b[0;34m)\u001b[0m\u001b[0;34m\u001b[0m\u001b[0;34m\u001b[0m\u001b[0m\n\u001b[0m\u001b[1;32m    212\u001b[0m \u001b[0;34m\u001b[0m\u001b[0m\n\u001b[1;32m    213\u001b[0m         \u001b[0;32mreturn\u001b[0m \u001b[0mcast\u001b[0m\u001b[0;34m(\u001b[0m\u001b[0mF\u001b[0m\u001b[0;34m,\u001b[0m \u001b[0mwrapper\u001b[0m\u001b[0;34m)\u001b[0m\u001b[0;34m\u001b[0m\u001b[0;34m\u001b[0m\u001b[0m\n",
            "\u001b[0;32m/usr/local/lib/python3.9/dist-packages/pandas/util/_decorators.py\u001b[0m in \u001b[0;36mwrapper\u001b[0;34m(*args, **kwargs)\u001b[0m\n\u001b[1;32m    329\u001b[0m                     \u001b[0mstacklevel\u001b[0m\u001b[0;34m=\u001b[0m\u001b[0mfind_stack_level\u001b[0m\u001b[0;34m(\u001b[0m\u001b[0;34m)\u001b[0m\u001b[0;34m,\u001b[0m\u001b[0;34m\u001b[0m\u001b[0;34m\u001b[0m\u001b[0m\n\u001b[1;32m    330\u001b[0m                 )\n\u001b[0;32m--> 331\u001b[0;31m             \u001b[0;32mreturn\u001b[0m \u001b[0mfunc\u001b[0m\u001b[0;34m(\u001b[0m\u001b[0;34m*\u001b[0m\u001b[0margs\u001b[0m\u001b[0;34m,\u001b[0m \u001b[0;34m**\u001b[0m\u001b[0mkwargs\u001b[0m\u001b[0;34m)\u001b[0m\u001b[0;34m\u001b[0m\u001b[0;34m\u001b[0m\u001b[0m\n\u001b[0m\u001b[1;32m    332\u001b[0m \u001b[0;34m\u001b[0m\u001b[0m\n\u001b[1;32m    333\u001b[0m         \u001b[0;31m# error: \"Callable[[VarArg(Any), KwArg(Any)], Any]\" has no\u001b[0m\u001b[0;34m\u001b[0m\u001b[0;34m\u001b[0m\u001b[0m\n",
            "\u001b[0;32m/usr/local/lib/python3.9/dist-packages/pandas/io/parsers/readers.py\u001b[0m in \u001b[0;36mread_csv\u001b[0;34m(filepath_or_buffer, sep, delimiter, header, names, index_col, usecols, squeeze, prefix, mangle_dupe_cols, dtype, engine, converters, true_values, false_values, skipinitialspace, skiprows, skipfooter, nrows, na_values, keep_default_na, na_filter, verbose, skip_blank_lines, parse_dates, infer_datetime_format, keep_date_col, date_parser, dayfirst, cache_dates, iterator, chunksize, compression, thousands, decimal, lineterminator, quotechar, quoting, doublequote, escapechar, comment, encoding, encoding_errors, dialect, error_bad_lines, warn_bad_lines, on_bad_lines, delim_whitespace, low_memory, memory_map, float_precision, storage_options)\u001b[0m\n\u001b[1;32m    948\u001b[0m     \u001b[0mkwds\u001b[0m\u001b[0;34m.\u001b[0m\u001b[0mupdate\u001b[0m\u001b[0;34m(\u001b[0m\u001b[0mkwds_defaults\u001b[0m\u001b[0;34m)\u001b[0m\u001b[0;34m\u001b[0m\u001b[0;34m\u001b[0m\u001b[0m\n\u001b[1;32m    949\u001b[0m \u001b[0;34m\u001b[0m\u001b[0m\n\u001b[0;32m--> 950\u001b[0;31m     \u001b[0;32mreturn\u001b[0m \u001b[0m_read\u001b[0m\u001b[0;34m(\u001b[0m\u001b[0mfilepath_or_buffer\u001b[0m\u001b[0;34m,\u001b[0m \u001b[0mkwds\u001b[0m\u001b[0;34m)\u001b[0m\u001b[0;34m\u001b[0m\u001b[0;34m\u001b[0m\u001b[0m\n\u001b[0m\u001b[1;32m    951\u001b[0m \u001b[0;34m\u001b[0m\u001b[0m\n\u001b[1;32m    952\u001b[0m \u001b[0;34m\u001b[0m\u001b[0m\n",
            "\u001b[0;32m/usr/local/lib/python3.9/dist-packages/pandas/io/parsers/readers.py\u001b[0m in \u001b[0;36m_read\u001b[0;34m(filepath_or_buffer, kwds)\u001b[0m\n\u001b[1;32m    609\u001b[0m \u001b[0;34m\u001b[0m\u001b[0m\n\u001b[1;32m    610\u001b[0m     \u001b[0;32mwith\u001b[0m \u001b[0mparser\u001b[0m\u001b[0;34m:\u001b[0m\u001b[0;34m\u001b[0m\u001b[0;34m\u001b[0m\u001b[0m\n\u001b[0;32m--> 611\u001b[0;31m         \u001b[0;32mreturn\u001b[0m \u001b[0mparser\u001b[0m\u001b[0;34m.\u001b[0m\u001b[0mread\u001b[0m\u001b[0;34m(\u001b[0m\u001b[0mnrows\u001b[0m\u001b[0;34m)\u001b[0m\u001b[0;34m\u001b[0m\u001b[0;34m\u001b[0m\u001b[0m\n\u001b[0m\u001b[1;32m    612\u001b[0m \u001b[0;34m\u001b[0m\u001b[0m\n\u001b[1;32m    613\u001b[0m \u001b[0;34m\u001b[0m\u001b[0m\n",
            "\u001b[0;32m/usr/local/lib/python3.9/dist-packages/pandas/io/parsers/readers.py\u001b[0m in \u001b[0;36mread\u001b[0;34m(self, nrows)\u001b[0m\n\u001b[1;32m   1776\u001b[0m                     \u001b[0mcolumns\u001b[0m\u001b[0;34m,\u001b[0m\u001b[0;34m\u001b[0m\u001b[0;34m\u001b[0m\u001b[0m\n\u001b[1;32m   1777\u001b[0m                     \u001b[0mcol_dict\u001b[0m\u001b[0;34m,\u001b[0m\u001b[0;34m\u001b[0m\u001b[0;34m\u001b[0m\u001b[0m\n\u001b[0;32m-> 1778\u001b[0;31m                 \u001b[0;34m)\u001b[0m \u001b[0;34m=\u001b[0m \u001b[0mself\u001b[0m\u001b[0;34m.\u001b[0m\u001b[0m_engine\u001b[0m\u001b[0;34m.\u001b[0m\u001b[0mread\u001b[0m\u001b[0;34m(\u001b[0m  \u001b[0;31m# type: ignore[attr-defined]\u001b[0m\u001b[0;34m\u001b[0m\u001b[0;34m\u001b[0m\u001b[0m\n\u001b[0m\u001b[1;32m   1779\u001b[0m                     \u001b[0mnrows\u001b[0m\u001b[0;34m\u001b[0m\u001b[0;34m\u001b[0m\u001b[0m\n\u001b[1;32m   1780\u001b[0m                 )\n",
            "\u001b[0;32m/usr/local/lib/python3.9/dist-packages/pandas/io/parsers/c_parser_wrapper.py\u001b[0m in \u001b[0;36mread\u001b[0;34m(self, nrows)\u001b[0m\n\u001b[1;32m    228\u001b[0m         \u001b[0;32mtry\u001b[0m\u001b[0;34m:\u001b[0m\u001b[0;34m\u001b[0m\u001b[0;34m\u001b[0m\u001b[0m\n\u001b[1;32m    229\u001b[0m             \u001b[0;32mif\u001b[0m \u001b[0mself\u001b[0m\u001b[0;34m.\u001b[0m\u001b[0mlow_memory\u001b[0m\u001b[0;34m:\u001b[0m\u001b[0;34m\u001b[0m\u001b[0;34m\u001b[0m\u001b[0m\n\u001b[0;32m--> 230\u001b[0;31m                 \u001b[0mchunks\u001b[0m \u001b[0;34m=\u001b[0m \u001b[0mself\u001b[0m\u001b[0;34m.\u001b[0m\u001b[0m_reader\u001b[0m\u001b[0;34m.\u001b[0m\u001b[0mread_low_memory\u001b[0m\u001b[0;34m(\u001b[0m\u001b[0mnrows\u001b[0m\u001b[0;34m)\u001b[0m\u001b[0;34m\u001b[0m\u001b[0;34m\u001b[0m\u001b[0m\n\u001b[0m\u001b[1;32m    231\u001b[0m                 \u001b[0;31m# destructive to chunks\u001b[0m\u001b[0;34m\u001b[0m\u001b[0;34m\u001b[0m\u001b[0m\n\u001b[1;32m    232\u001b[0m                 \u001b[0mdata\u001b[0m \u001b[0;34m=\u001b[0m \u001b[0m_concatenate_chunks\u001b[0m\u001b[0;34m(\u001b[0m\u001b[0mchunks\u001b[0m\u001b[0;34m)\u001b[0m\u001b[0;34m\u001b[0m\u001b[0;34m\u001b[0m\u001b[0m\n",
            "\u001b[0;32m/usr/local/lib/python3.9/dist-packages/pandas/_libs/parsers.pyx\u001b[0m in \u001b[0;36mpandas._libs.parsers.TextReader.read_low_memory\u001b[0;34m()\u001b[0m\n",
            "\u001b[0;32m/usr/local/lib/python3.9/dist-packages/pandas/_libs/parsers.pyx\u001b[0m in \u001b[0;36mpandas._libs.parsers.TextReader._read_rows\u001b[0;34m()\u001b[0m\n",
            "\u001b[0;32m/usr/local/lib/python3.9/dist-packages/pandas/_libs/parsers.pyx\u001b[0m in \u001b[0;36mpandas._libs.parsers.TextReader._tokenize_rows\u001b[0;34m()\u001b[0m\n",
            "\u001b[0;32m/usr/local/lib/python3.9/dist-packages/pandas/_libs/parsers.pyx\u001b[0m in \u001b[0;36mpandas._libs.parsers.raise_parser_error\u001b[0;34m()\u001b[0m\n",
            "\u001b[0;32m/usr/lib/python3.9/_compression.py\u001b[0m in \u001b[0;36mreadinto\u001b[0;34m(self, b)\u001b[0m\n\u001b[1;32m     66\u001b[0m     \u001b[0;32mdef\u001b[0m \u001b[0mreadinto\u001b[0m\u001b[0;34m(\u001b[0m\u001b[0mself\u001b[0m\u001b[0;34m,\u001b[0m \u001b[0mb\u001b[0m\u001b[0;34m)\u001b[0m\u001b[0;34m:\u001b[0m\u001b[0;34m\u001b[0m\u001b[0;34m\u001b[0m\u001b[0m\n\u001b[1;32m     67\u001b[0m         \u001b[0;32mwith\u001b[0m \u001b[0mmemoryview\u001b[0m\u001b[0;34m(\u001b[0m\u001b[0mb\u001b[0m\u001b[0;34m)\u001b[0m \u001b[0;32mas\u001b[0m \u001b[0mview\u001b[0m\u001b[0;34m,\u001b[0m \u001b[0mview\u001b[0m\u001b[0;34m.\u001b[0m\u001b[0mcast\u001b[0m\u001b[0;34m(\u001b[0m\u001b[0;34m\"B\"\u001b[0m\u001b[0;34m)\u001b[0m \u001b[0;32mas\u001b[0m \u001b[0mbyte_view\u001b[0m\u001b[0;34m:\u001b[0m\u001b[0;34m\u001b[0m\u001b[0;34m\u001b[0m\u001b[0m\n\u001b[0;32m---> 68\u001b[0;31m             \u001b[0mdata\u001b[0m \u001b[0;34m=\u001b[0m \u001b[0mself\u001b[0m\u001b[0;34m.\u001b[0m\u001b[0mread\u001b[0m\u001b[0;34m(\u001b[0m\u001b[0mlen\u001b[0m\u001b[0;34m(\u001b[0m\u001b[0mbyte_view\u001b[0m\u001b[0;34m)\u001b[0m\u001b[0;34m)\u001b[0m\u001b[0;34m\u001b[0m\u001b[0;34m\u001b[0m\u001b[0m\n\u001b[0m\u001b[1;32m     69\u001b[0m             \u001b[0mbyte_view\u001b[0m\u001b[0;34m[\u001b[0m\u001b[0;34m:\u001b[0m\u001b[0mlen\u001b[0m\u001b[0;34m(\u001b[0m\u001b[0mdata\u001b[0m\u001b[0;34m)\u001b[0m\u001b[0;34m]\u001b[0m \u001b[0;34m=\u001b[0m \u001b[0mdata\u001b[0m\u001b[0;34m\u001b[0m\u001b[0;34m\u001b[0m\u001b[0m\n\u001b[1;32m     70\u001b[0m         \u001b[0;32mreturn\u001b[0m \u001b[0mlen\u001b[0m\u001b[0;34m(\u001b[0m\u001b[0mdata\u001b[0m\u001b[0;34m)\u001b[0m\u001b[0;34m\u001b[0m\u001b[0;34m\u001b[0m\u001b[0m\n",
            "\u001b[0;32m/usr/lib/python3.9/gzip.py\u001b[0m in \u001b[0;36mread\u001b[0;34m(self, size)\u001b[0m\n\u001b[1;32m    491\u001b[0m \u001b[0;34m\u001b[0m\u001b[0m\n\u001b[1;32m    492\u001b[0m             \u001b[0;31m# Read a chunk of data from the file\u001b[0m\u001b[0;34m\u001b[0m\u001b[0;34m\u001b[0m\u001b[0m\n\u001b[0;32m--> 493\u001b[0;31m             \u001b[0mbuf\u001b[0m \u001b[0;34m=\u001b[0m \u001b[0mself\u001b[0m\u001b[0;34m.\u001b[0m\u001b[0m_fp\u001b[0m\u001b[0;34m.\u001b[0m\u001b[0mread\u001b[0m\u001b[0;34m(\u001b[0m\u001b[0mio\u001b[0m\u001b[0;34m.\u001b[0m\u001b[0mDEFAULT_BUFFER_SIZE\u001b[0m\u001b[0;34m)\u001b[0m\u001b[0;34m\u001b[0m\u001b[0;34m\u001b[0m\u001b[0m\n\u001b[0m\u001b[1;32m    494\u001b[0m \u001b[0;34m\u001b[0m\u001b[0m\n\u001b[1;32m    495\u001b[0m             \u001b[0muncompress\u001b[0m \u001b[0;34m=\u001b[0m \u001b[0mself\u001b[0m\u001b[0;34m.\u001b[0m\u001b[0m_decompressor\u001b[0m\u001b[0;34m.\u001b[0m\u001b[0mdecompress\u001b[0m\u001b[0;34m(\u001b[0m\u001b[0mbuf\u001b[0m\u001b[0;34m,\u001b[0m \u001b[0msize\u001b[0m\u001b[0;34m)\u001b[0m\u001b[0;34m\u001b[0m\u001b[0;34m\u001b[0m\u001b[0m\n",
            "\u001b[0;32m/usr/lib/python3.9/gzip.py\u001b[0m in \u001b[0;36mread\u001b[0;34m(self, size)\u001b[0m\n\u001b[1;32m     85\u001b[0m     \u001b[0;32mdef\u001b[0m \u001b[0mread\u001b[0m\u001b[0;34m(\u001b[0m\u001b[0mself\u001b[0m\u001b[0;34m,\u001b[0m \u001b[0msize\u001b[0m\u001b[0;34m)\u001b[0m\u001b[0;34m:\u001b[0m\u001b[0;34m\u001b[0m\u001b[0;34m\u001b[0m\u001b[0m\n\u001b[1;32m     86\u001b[0m         \u001b[0;32mif\u001b[0m \u001b[0mself\u001b[0m\u001b[0;34m.\u001b[0m\u001b[0m_read\u001b[0m \u001b[0;32mis\u001b[0m \u001b[0;32mNone\u001b[0m\u001b[0;34m:\u001b[0m\u001b[0;34m\u001b[0m\u001b[0;34m\u001b[0m\u001b[0m\n\u001b[0;32m---> 87\u001b[0;31m             \u001b[0;32mreturn\u001b[0m \u001b[0mself\u001b[0m\u001b[0;34m.\u001b[0m\u001b[0mfile\u001b[0m\u001b[0;34m.\u001b[0m\u001b[0mread\u001b[0m\u001b[0;34m(\u001b[0m\u001b[0msize\u001b[0m\u001b[0;34m)\u001b[0m\u001b[0;34m\u001b[0m\u001b[0;34m\u001b[0m\u001b[0m\n\u001b[0m\u001b[1;32m     88\u001b[0m         \u001b[0;32mif\u001b[0m \u001b[0mself\u001b[0m\u001b[0;34m.\u001b[0m\u001b[0m_read\u001b[0m \u001b[0;34m+\u001b[0m \u001b[0msize\u001b[0m \u001b[0;34m<=\u001b[0m \u001b[0mself\u001b[0m\u001b[0;34m.\u001b[0m\u001b[0m_length\u001b[0m\u001b[0;34m:\u001b[0m\u001b[0;34m\u001b[0m\u001b[0;34m\u001b[0m\u001b[0m\n\u001b[1;32m     89\u001b[0m             \u001b[0mread\u001b[0m \u001b[0;34m=\u001b[0m \u001b[0mself\u001b[0m\u001b[0;34m.\u001b[0m\u001b[0m_read\u001b[0m\u001b[0;34m\u001b[0m\u001b[0;34m\u001b[0m\u001b[0m\n",
            "\u001b[0;31mKeyboardInterrupt\u001b[0m: "
          ]
        }
      ]
    },
    {
      "cell_type": "code",
      "source": [
        "y_test = pd.read_csv(f\"{path}/split_circle/y_test_A_merged_CRC_BRCA.csv.tar.gz\", compression = \"gzip\", index_col=0)\n",
        "#y_test = y_test.reset_index(drop=True)\n",
        "#y_test.index = test_df.index\n",
        "y_test.shape"
      ],
      "metadata": {
        "id": "J-tlXn78q235"
      },
      "execution_count": null,
      "outputs": []
    },
    {
      "cell_type": "code",
      "source": [
        "train_df = pd.read_csv(f\"{path}/split_circle/X_train_A_merged_CRC_BRCA.csv.tar.gz\", compression=\"gzip\", index_col=0).T\n",
        "train_df.shape"
      ],
      "metadata": {
        "id": "IzQvNKZh_Oq3"
      },
      "execution_count": null,
      "outputs": []
    },
    {
      "cell_type": "code",
      "source": [
        "y_train = pd.read_csv(f\"{path}/split_circle/y_train_A_merged_CRC_BRCA.csv.tar.gz\", compression = \"gzip\", index_col=0)\n",
        "#y_train = y_train.reset_index(drop=True)\n",
        "#y_train.index = train_df.index\n",
        "y_train.shape"
      ],
      "metadata": {
        "id": "3DLby2MG_O2y"
      },
      "execution_count": null,
      "outputs": []
    },
    {
      "cell_type": "markdown",
      "source": [
        "# Dimensionality reduction with PCA"
      ],
      "metadata": {
        "id": "Qbmncoxg_tWe"
      }
    },
    {
      "cell_type": "code",
      "source": [
        "pca = PCA(0.95).fit(train_df)\n",
        "x_train = pca.transform(train_df)\n",
        "x_test = pca.transform(test_df)\n",
        "print(x_train.shape)\n",
        "print(x_test.shape)"
      ],
      "metadata": {
        "id": "mnBebGZF_uKx"
      },
      "execution_count": null,
      "outputs": []
    },
    {
      "cell_type": "code",
      "source": [
        "x_test = pd.DataFrame(x_test, index=test_df.index)\n",
        "x_train = pd.DataFrame(x_train, index=train_df.index)\n",
        "x_test.shape"
      ],
      "metadata": {
        "id": "7w9d8iDD_7Ii"
      },
      "execution_count": null,
      "outputs": []
    },
    {
      "cell_type": "code",
      "source": [
        "x_test.columns = [\"PC\"+ str(i+1) for i in range(4557)]"
      ],
      "metadata": {
        "id": "f0BtlXZfASVK"
      },
      "execution_count": null,
      "outputs": []
    },
    {
      "cell_type": "code",
      "source": [
        "X_tr, X_val, y_tr, y_val = train_test_split(x_train, y_train[\"Label\"], test_size=0.2, random_state=42, stratify=y_train[\"Label\"])\n",
        "X_tr.shape"
      ],
      "metadata": {
        "id": "TJ2y26xzAGb0"
      },
      "execution_count": null,
      "outputs": []
    },
    {
      "cell_type": "markdown",
      "source": [
        "# Oversampling and synthetic data generation"
      ],
      "metadata": {
        "id": "ILMnyi2GAhXl"
      }
    },
    {
      "cell_type": "code",
      "source": [
        "mapp = LabelEncoder()\n",
        "\n",
        "y_train_adasyn = mapp.fit_transform(y_tr).ravel()\n",
        "\n",
        "before_counter = Counter(y_tr)\n",
        "print('Before', before_counter)\n",
        "\n",
        "ada = ADASYN(random_state=0, sampling_strategy='all')\n",
        "x_train_ada, y_train_ada = ada.fit_resample(X_tr, y_train_adasyn)\n",
        "\n",
        "after_counter = Counter(y_train_ada)\n",
        "print('After', after_counter)"
      ],
      "metadata": {
        "id": "x_n807UtAYrj"
      },
      "execution_count": null,
      "outputs": []
    },
    {
      "cell_type": "code",
      "source": [
        "mapping = dict(zip(mapp.classes_, mapp.transform(mapp.classes_)))\n",
        "print(mapping)"
      ],
      "metadata": {
        "id": "m4d8DZ2mAzrd"
      },
      "execution_count": null,
      "outputs": []
    },
    {
      "cell_type": "code",
      "source": [
        "x_train_ada = pd.DataFrame(x_train_ada)\n",
        "y_train_ada = pd.DataFrame(y_train_ada)\n",
        "y_train_ada.columns = [\"Label\"]"
      ],
      "metadata": {
        "id": "Esmdi2gSBDOv"
      },
      "execution_count": null,
      "outputs": []
    },
    {
      "cell_type": "markdown",
      "source": [
        "# Variational autoencoder"
      ],
      "metadata": {
        "id": "uS9ujZgEBoUF"
      }
    },
    {
      "cell_type": "code",
      "source": [
        "import gc\n",
        "\n",
        "del encoder, vae\n",
        "K.clear_session()\n",
        "gc.collect()"
      ],
      "metadata": {
        "colab": {
          "base_uri": "https://localhost:8080/"
        },
        "id": "c37RjbWHdeFB",
        "outputId": "6481c995-d73f-40a0-aa1f-87d268e5af9c"
      },
      "execution_count": null,
      "outputs": [
        {
          "output_type": "execute_result",
          "data": {
            "text/plain": [
              "1153"
            ]
          },
          "metadata": {},
          "execution_count": 124
        }
      ]
    },
    {
      "cell_type": "code",
      "source": [
        "y_train_ada = pd.read_pickle(f\"{path}/pickle/y_train_ada_circle.pkl\")\n",
        "x_train_ada = pd.read_pickle(f\"{path}/pickle/x_train_ada_circle.pkl\")\n",
        "x_test = pd.read_pickle(f\"{path}/pickle/x_test_circle.pkl\")\n",
        "y_test = pd.read_pickle(f\"{path}/pickle/y_test_circle.pkl\")\n",
        "X_val = pd.read_pickle(f\"{path}/pickle/X_val_circle.pkl\")\n",
        "y_val = pd.read_pickle(f\"{path}/pickle/y_val_circle.pkl\")"
      ],
      "metadata": {
        "id": "cKDbLIN1BHTY"
      },
      "execution_count": null,
      "outputs": []
    },
    {
      "cell_type": "code",
      "source": [
        "# scale data \n",
        "from sklearn.preprocessing import MinMaxScaler\n",
        "t = MinMaxScaler().fit(x_train_ada)\n",
        "X_train_scaled = t.transform(x_train_ada)\n",
        "X_val_scaled = t.transform(X_val)\n",
        "X_test_scaled = t.transform(x_test)"
      ],
      "metadata": {
        "colab": {
          "base_uri": "https://localhost:8080/"
        },
        "id": "CCGMcSiUwyxB",
        "outputId": "c5e56727-4856-412e-ac32-2f08f2d60ca6"
      },
      "execution_count": null,
      "outputs": [
        {
          "output_type": "stream",
          "name": "stderr",
          "text": [
            "/usr/local/lib/python3.9/dist-packages/sklearn/base.py:432: UserWarning: X has feature names, but MinMaxScaler was fitted without feature names\n",
            "  warnings.warn(\n"
          ]
        }
      ]
    },
    {
      "cell_type": "code",
      "source": [
        "# Function for reparameterization trick to make model differentiable\n",
        "\n",
        "def sampling(args):\n",
        "    \n",
        "    import tensorflow as tf\n",
        "    # Function with args required for Keras Lambda function\n",
        "    z_mean, z_log_var = args\n",
        "\n",
        "    # Draw epsilon of the same shape from a standard normal distribution\n",
        "    epsilon = K.random_normal(shape=tf.shape(z_mean), mean=0.,\n",
        "                              stddev=epsilon_std)\n",
        "    \n",
        "    # The latent vector is non-deterministic and differentiable\n",
        "    # in respect to z_mean and z_log_var\n",
        "    z = z_mean + K.exp(z_log_var / 2) * epsilon\n",
        "    return z\n",
        "\n",
        "class CustomVariationalLayer(Layer):\n",
        "    \"\"\"\n",
        "    Define a custom layer that learns and performs the training\n",
        "    This function is borrowed from:\n",
        "    https://github.com/fchollet/keras/blob/master/examples/variational_autoencoder.py\n",
        "    \"\"\"\n",
        "    def __init__(self, **kwargs):\n",
        "        # https://keras.io/layers/writing-your-own-keras-layers/\n",
        "        self.is_placeholder = True\n",
        "        super(CustomVariationalLayer, self).__init__(**kwargs)\n",
        "\n",
        "    def vae_loss(self, x_input, x_decoded):\n",
        "        reconstruction_loss = original_dim * metrics.binary_crossentropy(x_input, x_decoded)\n",
        "        kl_loss = - 0.5 * K.sum(1 + z_log_var_encoded - K.square(z_mean_encoded) - \n",
        "                                K.exp(z_log_var_encoded), axis=-1)\n",
        "        return K.mean(reconstruction_loss + (K.get_value(beta) * kl_loss))\n",
        "\n",
        "    def call(self, inputs):\n",
        "        x = inputs[0]\n",
        "        x_decoded = inputs[1]\n",
        "        loss = self.vae_loss(x, x_decoded)\n",
        "        self.add_loss(loss, inputs=inputs)\n",
        "        # We won't actually use the output.\n",
        "        return x\n",
        "\n",
        "class WarmUpCallback(Callback):\n",
        "    def __init__(self, beta, kappa):\n",
        "        self.beta = beta\n",
        "        self.kappa = kappa\n",
        "    # Behavior on each epoch\n",
        "    def on_epoch_end(self, epoch, logs={}):\n",
        "        if K.get_value(self.beta) <= 1:\n",
        "            K.set_value(self.beta, K.get_value(self.beta) + self.kappa)\n"
      ],
      "metadata": {
        "id": "Y9n72o5eSaSg"
      },
      "execution_count": null,
      "outputs": []
    },
    {
      "cell_type": "code",
      "source": [
        "from keras.layers import Input, Dense, Lambda, Activation\n",
        "from keras.models import Model\n",
        "from keras import backend as K\n",
        "from keras import metrics\n",
        "from tensorflow.python.framework.ops import disable_eager_execution\n",
        "\n",
        "\n",
        "# define the size of the latent space\n",
        "original_dim = x_train_ada.shape[1]\n",
        "latent_dim = 50\n",
        "batch_size = 512\n",
        "epochs = 200\n",
        "learning_rate = 0.00015\n",
        "\n",
        "epsilon_std = 1.0\n",
        "beta = K.variable(0)\n",
        "kappa = 1"
      ],
      "metadata": {
        "id": "XczjBSFpr2tU"
      },
      "execution_count": null,
      "outputs": []
    },
    {
      "cell_type": "code",
      "source": [
        "# Encoder\n",
        "# Input place holder for RNAseq data with specific input size\n",
        "rnaseq_input = Input(shape=(original_dim, ))\n",
        "\n",
        "# Input layer is compressed into a mean and log variance vector of size `latent_dim`\n",
        "# Each layer is initialized with glorot uniform weights and each step (dense connections,\n",
        "# batch norm, and relu activation) are funneled separately\n",
        "# Each vector of length `latent_dim` are connected to the rnaseq input tensor\n",
        "z_mean_dense_linear = Dense(latent_dim, kernel_initializer='glorot_uniform')(rnaseq_input)\n",
        "z_mean_dense_batchnorm = BatchNormalization()(z_mean_dense_linear)\n",
        "z_mean_encoded = Activation('gelu')(z_mean_dense_batchnorm)\n",
        "\n",
        "z_log_var_dense_linear = Dense(latent_dim, kernel_initializer='glorot_uniform')(rnaseq_input)\n",
        "z_log_var_dense_batchnorm = BatchNormalization()(z_log_var_dense_linear)\n",
        "z_log_var_encoded = Activation('gelu')(z_log_var_dense_batchnorm)\n",
        "\n",
        "# return the encoded and randomly sampled z vector\n",
        "# Takes two keras layers as input to the custom sampling function layer with a `latent_dim` output\n",
        "z = Lambda(sampling, output_shape=(latent_dim, ))([z_mean_encoded, z_log_var_encoded])"
      ],
      "metadata": {
        "id": "DHqDy4NKadVO"
      },
      "execution_count": null,
      "outputs": []
    },
    {
      "cell_type": "code",
      "source": [
        "# Decoder\n",
        "decoder_to_reconstruct = Dense(original_dim, kernel_initializer='glorot_uniform', activation='gelu')\n",
        "rnaseq_reconstruct = decoder_to_reconstruct(z)"
      ],
      "metadata": {
        "id": "0xTLt7doaeo0"
      },
      "execution_count": null,
      "outputs": []
    },
    {
      "cell_type": "code",
      "source": [
        "from keras.optimizers import Adam\n",
        "\n",
        "adam = Adam(lr=learning_rate)\n",
        "vae_layer = CustomVariationalLayer()([rnaseq_input, rnaseq_reconstruct])\n",
        "vae = Model(rnaseq_input, vae_layer)\n",
        "vae.compile(optimizer=adam, loss=None, loss_weights=[beta])\n",
        "\n",
        "vae.summary()"
      ],
      "metadata": {
        "colab": {
          "base_uri": "https://localhost:8080/"
        },
        "id": "xtLYByXmaqfh",
        "outputId": "a42ee65e-3a01-4d46-ec4b-654e63767b55"
      },
      "execution_count": null,
      "outputs": [
        {
          "output_type": "stream",
          "name": "stderr",
          "text": [
            "WARNING:tensorflow:Output {0} missing from loss dictionary. We assume this was done on purpose. The fit and evaluate APIs will not be expecting any data to be passed to custom_variational_layer_1.\n"
          ]
        },
        {
          "output_type": "stream",
          "name": "stdout",
          "text": [
            "Model: \"model_1\"\n",
            "__________________________________________________________________________________________________\n",
            " Layer (type)                   Output Shape         Param #     Connected to                     \n",
            "==================================================================================================\n",
            " input_2 (InputLayer)           [(None, 4557)]       0           []                               \n",
            "                                                                                                  \n",
            " dense_3 (Dense)                (None, 50)           227900      ['input_2[0][0]']                \n",
            "                                                                                                  \n",
            " dense_4 (Dense)                (None, 50)           227900      ['input_2[0][0]']                \n",
            "                                                                                                  \n",
            " batch_normalization_2 (BatchNo  (None, 50)          200         ['dense_3[0][0]']                \n",
            " rmalization)                                                                                     \n",
            "                                                                                                  \n",
            " batch_normalization_3 (BatchNo  (None, 50)          200         ['dense_4[0][0]']                \n",
            " rmalization)                                                                                     \n",
            "                                                                                                  \n",
            " activation_2 (Activation)      (None, 50)           0           ['batch_normalization_2[0][0]']  \n",
            "                                                                                                  \n",
            " activation_3 (Activation)      (None, 50)           0           ['batch_normalization_3[0][0]']  \n",
            "                                                                                                  \n",
            " lambda_1 (Lambda)              (None, 50)           0           ['activation_2[0][0]',           \n",
            "                                                                  'activation_3[0][0]']           \n",
            "                                                                                                  \n",
            " dense_5 (Dense)                (None, 4557)         232407      ['lambda_1[0][0]']               \n",
            "                                                                                                  \n",
            " custom_variational_layer_1 (Cu  (None, 4557)        0           ['input_2[0][0]',                \n",
            " stomVariationalLayer)                                            'dense_5[0][0]']                \n",
            "                                                                                                  \n",
            "==================================================================================================\n",
            "Total params: 688,607\n",
            "Trainable params: 688,407\n",
            "Non-trainable params: 200\n",
            "__________________________________________________________________________________________________\n"
          ]
        }
      ]
    },
    {
      "cell_type": "code",
      "source": [
        "disable_eager_execution()\n",
        "\n",
        "hist = vae.fit(np.array(X_train_scaled),\n",
        "               epochs=epochs,\n",
        "               verbose=0,\n",
        "               batch_size=batch_size,\n",
        "               validation_data=(np.array(X_val_scaled), None),\n",
        "               callbacks=[WarmUpCallback(beta, kappa)])"
      ],
      "metadata": {
        "id": "ouLAtdRqQfnq"
      },
      "execution_count": null,
      "outputs": []
    },
    {
      "cell_type": "code",
      "source": [
        "plot_model(vae)"
      ],
      "metadata": {
        "id": "4vjXLzeLa7Hh"
      },
      "execution_count": null,
      "outputs": []
    },
    {
      "cell_type": "code",
      "source": [
        "plt.plot(hist.history[\"loss\"], label=\"Training Loss\")\n",
        "plt.plot(hist.history[\"val_loss\"], label=\"Validation Loss\")\n",
        "plt.legend()"
      ],
      "metadata": {
        "id": "XvZkV7nhQkVL"
      },
      "execution_count": null,
      "outputs": []
    },
    {
      "cell_type": "code",
      "source": [
        "encoder = Model(rnaseq_input, z_mean_encoded)"
      ],
      "metadata": {
        "id": "tAS5t3AYdSi5"
      },
      "execution_count": null,
      "outputs": []
    },
    {
      "cell_type": "code",
      "source": [
        "# testing data\n",
        "x_test_encoded = encoder.predict(X_test_scaled, batch_size=batch_size) # X_test_scaled\n",
        "\n",
        "temp = pd.DataFrame(x_test_encoded).reset_index()\n",
        "temp"
      ],
      "metadata": {
        "colab": {
          "base_uri": "https://localhost:8080/",
          "height": 487
        },
        "id": "i8OChXbyQsEs",
        "outputId": "41b6c15a-ef4d-498c-9cec-55f0eae3d6ee"
      },
      "execution_count": null,
      "outputs": [
        {
          "output_type": "execute_result",
          "data": {
            "text/plain": [
              "      index         0         1         2         3         4         5  \\\n",
              "0         0  0.813978  0.034304 -0.138385  0.023659  0.858496  1.310539   \n",
              "1         1 -0.010307 -0.162665  1.371191  0.631584 -0.146819  1.016971   \n",
              "2         2 -0.166531  0.883531 -0.149403 -0.021492 -0.124863  0.212593   \n",
              "3         3  0.315563  0.030576  0.261325  0.492417  2.940787  1.626618   \n",
              "4         4  1.445847 -0.094258 -0.043909  0.957756  0.919686  0.997377   \n",
              "...     ...       ...       ...       ...       ...       ...       ...   \n",
              "2151   2151  0.383579  0.014833  0.152904  1.070466 -0.165756  1.781122   \n",
              "2152   2152  1.605507  0.082936  0.123267 -0.078949  0.368250 -0.029578   \n",
              "2153   2153  0.466124  1.457700  1.812516  2.652836  0.137167  0.892337   \n",
              "2154   2154 -0.054760  0.135444  0.203186  0.662257  0.443430 -0.106505   \n",
              "2155   2155  0.808844 -0.147409  0.448104  0.184247  0.072471  0.583709   \n",
              "\n",
              "             6         7         8  ...       118       119       120  \\\n",
              "0     0.085009  0.933837  0.321365  ...  0.253905  0.007144  1.337824   \n",
              "1    -0.099609  0.092845 -0.073709  ... -0.122062 -0.098201  0.474340   \n",
              "2     0.855761 -0.047874 -0.013254  ...  0.802752  0.260408 -0.147036   \n",
              "3     1.686944  0.902159  1.875275  ... -0.164253  0.909141  1.949654   \n",
              "4     1.358455  0.163847  1.129921  ... -0.093112  1.077867  0.326034   \n",
              "...        ...       ...       ...  ...       ...       ...       ...   \n",
              "2151  1.061129  0.468211  0.652665  ... -0.032927  2.016425  0.876193   \n",
              "2152 -0.169905  0.474656  0.933525  ... -0.151322  0.592680  0.324494   \n",
              "2153  0.898731  0.538793  0.041432  ... -0.124383  0.470545  0.376830   \n",
              "2154  1.768190  0.533879 -0.017878  ... -0.148893  0.123102  1.676513   \n",
              "2155  1.513430 -0.154717  0.706904  ...  0.925669  0.304649 -0.145104   \n",
              "\n",
              "           121       122       123       124       125       126       127  \n",
              "0     0.985740  0.430511  1.903935  2.076302 -0.099974  1.144478  2.720396  \n",
              "1     0.198049 -0.036991  0.772392 -0.014499 -0.104503  0.753066  1.086632  \n",
              "2     0.195075  1.778080  2.619074 -0.158729 -0.003332 -0.095238  1.131071  \n",
              "3     0.387453  0.143623  0.691164  0.989879  0.108470  0.793490  0.227866  \n",
              "4     0.108830  0.042532  0.324776  1.456211  0.072304  0.500636  0.325651  \n",
              "...        ...       ...       ...       ...       ...       ...       ...  \n",
              "2151  0.541602  2.648481  1.429955  0.290847 -0.108674  1.578215 -0.167062  \n",
              "2152  0.861944 -0.166413  1.910821 -0.169140 -0.119289  0.734402  1.532928  \n",
              "2153  0.179856  0.864443  0.392427  0.776329  1.793663  0.539945  0.275950  \n",
              "2154  0.878446  0.191181 -0.001049  0.156658  0.384941  0.582924  0.603407  \n",
              "2155  0.103894  1.274719  2.374968  0.128313  0.508662  0.762310  0.429575  \n",
              "\n",
              "[2156 rows x 129 columns]"
            ],
            "text/html": [
              "\n",
              "  <div id=\"df-b939440d-5d4a-4526-9e09-bd7797d4481a\">\n",
              "    <div class=\"colab-df-container\">\n",
              "      <div>\n",
              "<style scoped>\n",
              "    .dataframe tbody tr th:only-of-type {\n",
              "        vertical-align: middle;\n",
              "    }\n",
              "\n",
              "    .dataframe tbody tr th {\n",
              "        vertical-align: top;\n",
              "    }\n",
              "\n",
              "    .dataframe thead th {\n",
              "        text-align: right;\n",
              "    }\n",
              "</style>\n",
              "<table border=\"1\" class=\"dataframe\">\n",
              "  <thead>\n",
              "    <tr style=\"text-align: right;\">\n",
              "      <th></th>\n",
              "      <th>index</th>\n",
              "      <th>0</th>\n",
              "      <th>1</th>\n",
              "      <th>2</th>\n",
              "      <th>3</th>\n",
              "      <th>4</th>\n",
              "      <th>5</th>\n",
              "      <th>6</th>\n",
              "      <th>7</th>\n",
              "      <th>8</th>\n",
              "      <th>...</th>\n",
              "      <th>118</th>\n",
              "      <th>119</th>\n",
              "      <th>120</th>\n",
              "      <th>121</th>\n",
              "      <th>122</th>\n",
              "      <th>123</th>\n",
              "      <th>124</th>\n",
              "      <th>125</th>\n",
              "      <th>126</th>\n",
              "      <th>127</th>\n",
              "    </tr>\n",
              "  </thead>\n",
              "  <tbody>\n",
              "    <tr>\n",
              "      <th>0</th>\n",
              "      <td>0</td>\n",
              "      <td>0.813978</td>\n",
              "      <td>0.034304</td>\n",
              "      <td>-0.138385</td>\n",
              "      <td>0.023659</td>\n",
              "      <td>0.858496</td>\n",
              "      <td>1.310539</td>\n",
              "      <td>0.085009</td>\n",
              "      <td>0.933837</td>\n",
              "      <td>0.321365</td>\n",
              "      <td>...</td>\n",
              "      <td>0.253905</td>\n",
              "      <td>0.007144</td>\n",
              "      <td>1.337824</td>\n",
              "      <td>0.985740</td>\n",
              "      <td>0.430511</td>\n",
              "      <td>1.903935</td>\n",
              "      <td>2.076302</td>\n",
              "      <td>-0.099974</td>\n",
              "      <td>1.144478</td>\n",
              "      <td>2.720396</td>\n",
              "    </tr>\n",
              "    <tr>\n",
              "      <th>1</th>\n",
              "      <td>1</td>\n",
              "      <td>-0.010307</td>\n",
              "      <td>-0.162665</td>\n",
              "      <td>1.371191</td>\n",
              "      <td>0.631584</td>\n",
              "      <td>-0.146819</td>\n",
              "      <td>1.016971</td>\n",
              "      <td>-0.099609</td>\n",
              "      <td>0.092845</td>\n",
              "      <td>-0.073709</td>\n",
              "      <td>...</td>\n",
              "      <td>-0.122062</td>\n",
              "      <td>-0.098201</td>\n",
              "      <td>0.474340</td>\n",
              "      <td>0.198049</td>\n",
              "      <td>-0.036991</td>\n",
              "      <td>0.772392</td>\n",
              "      <td>-0.014499</td>\n",
              "      <td>-0.104503</td>\n",
              "      <td>0.753066</td>\n",
              "      <td>1.086632</td>\n",
              "    </tr>\n",
              "    <tr>\n",
              "      <th>2</th>\n",
              "      <td>2</td>\n",
              "      <td>-0.166531</td>\n",
              "      <td>0.883531</td>\n",
              "      <td>-0.149403</td>\n",
              "      <td>-0.021492</td>\n",
              "      <td>-0.124863</td>\n",
              "      <td>0.212593</td>\n",
              "      <td>0.855761</td>\n",
              "      <td>-0.047874</td>\n",
              "      <td>-0.013254</td>\n",
              "      <td>...</td>\n",
              "      <td>0.802752</td>\n",
              "      <td>0.260408</td>\n",
              "      <td>-0.147036</td>\n",
              "      <td>0.195075</td>\n",
              "      <td>1.778080</td>\n",
              "      <td>2.619074</td>\n",
              "      <td>-0.158729</td>\n",
              "      <td>-0.003332</td>\n",
              "      <td>-0.095238</td>\n",
              "      <td>1.131071</td>\n",
              "    </tr>\n",
              "    <tr>\n",
              "      <th>3</th>\n",
              "      <td>3</td>\n",
              "      <td>0.315563</td>\n",
              "      <td>0.030576</td>\n",
              "      <td>0.261325</td>\n",
              "      <td>0.492417</td>\n",
              "      <td>2.940787</td>\n",
              "      <td>1.626618</td>\n",
              "      <td>1.686944</td>\n",
              "      <td>0.902159</td>\n",
              "      <td>1.875275</td>\n",
              "      <td>...</td>\n",
              "      <td>-0.164253</td>\n",
              "      <td>0.909141</td>\n",
              "      <td>1.949654</td>\n",
              "      <td>0.387453</td>\n",
              "      <td>0.143623</td>\n",
              "      <td>0.691164</td>\n",
              "      <td>0.989879</td>\n",
              "      <td>0.108470</td>\n",
              "      <td>0.793490</td>\n",
              "      <td>0.227866</td>\n",
              "    </tr>\n",
              "    <tr>\n",
              "      <th>4</th>\n",
              "      <td>4</td>\n",
              "      <td>1.445847</td>\n",
              "      <td>-0.094258</td>\n",
              "      <td>-0.043909</td>\n",
              "      <td>0.957756</td>\n",
              "      <td>0.919686</td>\n",
              "      <td>0.997377</td>\n",
              "      <td>1.358455</td>\n",
              "      <td>0.163847</td>\n",
              "      <td>1.129921</td>\n",
              "      <td>...</td>\n",
              "      <td>-0.093112</td>\n",
              "      <td>1.077867</td>\n",
              "      <td>0.326034</td>\n",
              "      <td>0.108830</td>\n",
              "      <td>0.042532</td>\n",
              "      <td>0.324776</td>\n",
              "      <td>1.456211</td>\n",
              "      <td>0.072304</td>\n",
              "      <td>0.500636</td>\n",
              "      <td>0.325651</td>\n",
              "    </tr>\n",
              "    <tr>\n",
              "      <th>...</th>\n",
              "      <td>...</td>\n",
              "      <td>...</td>\n",
              "      <td>...</td>\n",
              "      <td>...</td>\n",
              "      <td>...</td>\n",
              "      <td>...</td>\n",
              "      <td>...</td>\n",
              "      <td>...</td>\n",
              "      <td>...</td>\n",
              "      <td>...</td>\n",
              "      <td>...</td>\n",
              "      <td>...</td>\n",
              "      <td>...</td>\n",
              "      <td>...</td>\n",
              "      <td>...</td>\n",
              "      <td>...</td>\n",
              "      <td>...</td>\n",
              "      <td>...</td>\n",
              "      <td>...</td>\n",
              "      <td>...</td>\n",
              "      <td>...</td>\n",
              "    </tr>\n",
              "    <tr>\n",
              "      <th>2151</th>\n",
              "      <td>2151</td>\n",
              "      <td>0.383579</td>\n",
              "      <td>0.014833</td>\n",
              "      <td>0.152904</td>\n",
              "      <td>1.070466</td>\n",
              "      <td>-0.165756</td>\n",
              "      <td>1.781122</td>\n",
              "      <td>1.061129</td>\n",
              "      <td>0.468211</td>\n",
              "      <td>0.652665</td>\n",
              "      <td>...</td>\n",
              "      <td>-0.032927</td>\n",
              "      <td>2.016425</td>\n",
              "      <td>0.876193</td>\n",
              "      <td>0.541602</td>\n",
              "      <td>2.648481</td>\n",
              "      <td>1.429955</td>\n",
              "      <td>0.290847</td>\n",
              "      <td>-0.108674</td>\n",
              "      <td>1.578215</td>\n",
              "      <td>-0.167062</td>\n",
              "    </tr>\n",
              "    <tr>\n",
              "      <th>2152</th>\n",
              "      <td>2152</td>\n",
              "      <td>1.605507</td>\n",
              "      <td>0.082936</td>\n",
              "      <td>0.123267</td>\n",
              "      <td>-0.078949</td>\n",
              "      <td>0.368250</td>\n",
              "      <td>-0.029578</td>\n",
              "      <td>-0.169905</td>\n",
              "      <td>0.474656</td>\n",
              "      <td>0.933525</td>\n",
              "      <td>...</td>\n",
              "      <td>-0.151322</td>\n",
              "      <td>0.592680</td>\n",
              "      <td>0.324494</td>\n",
              "      <td>0.861944</td>\n",
              "      <td>-0.166413</td>\n",
              "      <td>1.910821</td>\n",
              "      <td>-0.169140</td>\n",
              "      <td>-0.119289</td>\n",
              "      <td>0.734402</td>\n",
              "      <td>1.532928</td>\n",
              "    </tr>\n",
              "    <tr>\n",
              "      <th>2153</th>\n",
              "      <td>2153</td>\n",
              "      <td>0.466124</td>\n",
              "      <td>1.457700</td>\n",
              "      <td>1.812516</td>\n",
              "      <td>2.652836</td>\n",
              "      <td>0.137167</td>\n",
              "      <td>0.892337</td>\n",
              "      <td>0.898731</td>\n",
              "      <td>0.538793</td>\n",
              "      <td>0.041432</td>\n",
              "      <td>...</td>\n",
              "      <td>-0.124383</td>\n",
              "      <td>0.470545</td>\n",
              "      <td>0.376830</td>\n",
              "      <td>0.179856</td>\n",
              "      <td>0.864443</td>\n",
              "      <td>0.392427</td>\n",
              "      <td>0.776329</td>\n",
              "      <td>1.793663</td>\n",
              "      <td>0.539945</td>\n",
              "      <td>0.275950</td>\n",
              "    </tr>\n",
              "    <tr>\n",
              "      <th>2154</th>\n",
              "      <td>2154</td>\n",
              "      <td>-0.054760</td>\n",
              "      <td>0.135444</td>\n",
              "      <td>0.203186</td>\n",
              "      <td>0.662257</td>\n",
              "      <td>0.443430</td>\n",
              "      <td>-0.106505</td>\n",
              "      <td>1.768190</td>\n",
              "      <td>0.533879</td>\n",
              "      <td>-0.017878</td>\n",
              "      <td>...</td>\n",
              "      <td>-0.148893</td>\n",
              "      <td>0.123102</td>\n",
              "      <td>1.676513</td>\n",
              "      <td>0.878446</td>\n",
              "      <td>0.191181</td>\n",
              "      <td>-0.001049</td>\n",
              "      <td>0.156658</td>\n",
              "      <td>0.384941</td>\n",
              "      <td>0.582924</td>\n",
              "      <td>0.603407</td>\n",
              "    </tr>\n",
              "    <tr>\n",
              "      <th>2155</th>\n",
              "      <td>2155</td>\n",
              "      <td>0.808844</td>\n",
              "      <td>-0.147409</td>\n",
              "      <td>0.448104</td>\n",
              "      <td>0.184247</td>\n",
              "      <td>0.072471</td>\n",
              "      <td>0.583709</td>\n",
              "      <td>1.513430</td>\n",
              "      <td>-0.154717</td>\n",
              "      <td>0.706904</td>\n",
              "      <td>...</td>\n",
              "      <td>0.925669</td>\n",
              "      <td>0.304649</td>\n",
              "      <td>-0.145104</td>\n",
              "      <td>0.103894</td>\n",
              "      <td>1.274719</td>\n",
              "      <td>2.374968</td>\n",
              "      <td>0.128313</td>\n",
              "      <td>0.508662</td>\n",
              "      <td>0.762310</td>\n",
              "      <td>0.429575</td>\n",
              "    </tr>\n",
              "  </tbody>\n",
              "</table>\n",
              "<p>2156 rows × 129 columns</p>\n",
              "</div>\n",
              "      <button class=\"colab-df-convert\" onclick=\"convertToInteractive('df-b939440d-5d4a-4526-9e09-bd7797d4481a')\"\n",
              "              title=\"Convert this dataframe to an interactive table.\"\n",
              "              style=\"display:none;\">\n",
              "        \n",
              "  <svg xmlns=\"http://www.w3.org/2000/svg\" height=\"24px\"viewBox=\"0 0 24 24\"\n",
              "       width=\"24px\">\n",
              "    <path d=\"M0 0h24v24H0V0z\" fill=\"none\"/>\n",
              "    <path d=\"M18.56 5.44l.94 2.06.94-2.06 2.06-.94-2.06-.94-.94-2.06-.94 2.06-2.06.94zm-11 1L8.5 8.5l.94-2.06 2.06-.94-2.06-.94L8.5 2.5l-.94 2.06-2.06.94zm10 10l.94 2.06.94-2.06 2.06-.94-2.06-.94-.94-2.06-.94 2.06-2.06.94z\"/><path d=\"M17.41 7.96l-1.37-1.37c-.4-.4-.92-.59-1.43-.59-.52 0-1.04.2-1.43.59L10.3 9.45l-7.72 7.72c-.78.78-.78 2.05 0 2.83L4 21.41c.39.39.9.59 1.41.59.51 0 1.02-.2 1.41-.59l7.78-7.78 2.81-2.81c.8-.78.8-2.07 0-2.86zM5.41 20L4 18.59l7.72-7.72 1.47 1.35L5.41 20z\"/>\n",
              "  </svg>\n",
              "      </button>\n",
              "      \n",
              "  <style>\n",
              "    .colab-df-container {\n",
              "      display:flex;\n",
              "      flex-wrap:wrap;\n",
              "      gap: 12px;\n",
              "    }\n",
              "\n",
              "    .colab-df-convert {\n",
              "      background-color: #E8F0FE;\n",
              "      border: none;\n",
              "      border-radius: 50%;\n",
              "      cursor: pointer;\n",
              "      display: none;\n",
              "      fill: #1967D2;\n",
              "      height: 32px;\n",
              "      padding: 0 0 0 0;\n",
              "      width: 32px;\n",
              "    }\n",
              "\n",
              "    .colab-df-convert:hover {\n",
              "      background-color: #E2EBFA;\n",
              "      box-shadow: 0px 1px 2px rgba(60, 64, 67, 0.3), 0px 1px 3px 1px rgba(60, 64, 67, 0.15);\n",
              "      fill: #174EA6;\n",
              "    }\n",
              "\n",
              "    [theme=dark] .colab-df-convert {\n",
              "      background-color: #3B4455;\n",
              "      fill: #D2E3FC;\n",
              "    }\n",
              "\n",
              "    [theme=dark] .colab-df-convert:hover {\n",
              "      background-color: #434B5C;\n",
              "      box-shadow: 0px 1px 3px 1px rgba(0, 0, 0, 0.15);\n",
              "      filter: drop-shadow(0px 1px 2px rgba(0, 0, 0, 0.3));\n",
              "      fill: #FFFFFF;\n",
              "    }\n",
              "  </style>\n",
              "\n",
              "      <script>\n",
              "        const buttonEl =\n",
              "          document.querySelector('#df-b939440d-5d4a-4526-9e09-bd7797d4481a button.colab-df-convert');\n",
              "        buttonEl.style.display =\n",
              "          google.colab.kernel.accessAllowed ? 'block' : 'none';\n",
              "\n",
              "        async function convertToInteractive(key) {\n",
              "          const element = document.querySelector('#df-b939440d-5d4a-4526-9e09-bd7797d4481a');\n",
              "          const dataTable =\n",
              "            await google.colab.kernel.invokeFunction('convertToInteractive',\n",
              "                                                     [key], {});\n",
              "          if (!dataTable) return;\n",
              "\n",
              "          const docLinkHtml = 'Like what you see? Visit the ' +\n",
              "            '<a target=\"_blank\" href=https://colab.research.google.com/notebooks/data_table.ipynb>data table notebook</a>'\n",
              "            + ' to learn more about interactive tables.';\n",
              "          element.innerHTML = '';\n",
              "          dataTable['output_type'] = 'display_data';\n",
              "          await google.colab.output.renderOutput(dataTable, element);\n",
              "          const docLink = document.createElement('div');\n",
              "          docLink.innerHTML = docLinkHtml;\n",
              "          element.appendChild(docLink);\n",
              "        }\n",
              "      </script>\n",
              "    </div>\n",
              "  </div>\n",
              "  "
            ]
          },
          "metadata": {},
          "execution_count": 120
        }
      ]
    },
    {
      "cell_type": "code",
      "source": [
        "silhouetteScore = silhouette_score(temp, y_test[\"Label\"], metric=\"euclidean\")\n",
        "davies_bouldinScore = davies_bouldin_score(temp, y_test[\"Label\"])\n",
        "\n",
        "print(\"Silhuette\", silhouetteScore, \"davies_bouldinScore\", davies_bouldinScore)"
      ],
      "metadata": {
        "colab": {
          "base_uri": "https://localhost:8080/"
        },
        "id": "2oigoJViQsHN",
        "outputId": "44a5245a-b9fd-4fd0-debb-6e16c63b379f"
      },
      "execution_count": null,
      "outputs": [
        {
          "output_type": "stream",
          "name": "stdout",
          "text": [
            "Silhuette -0.21981339776353218 davies_bouldinScore 32.232931611864586\n"
          ]
        }
      ]
    },
    {
      "cell_type": "code",
      "source": [
        "# validation\n",
        "x_test_encoded = encoder.predict(X_val_scaled, batch_size=batch_size) # X_test_scaled\n",
        "\n",
        "temp = pd.DataFrame(x_test_encoded).reset_index()\n",
        "\n",
        "silhouetteScore = silhouette_score(temp, y_val, metric=\"euclidean\")\n",
        "davies_bouldinScore = davies_bouldin_score(temp, y_val)\n",
        "\n",
        "print(\"Silhuette\", silhouetteScore, \"davies_bouldinScore\", davies_bouldinScore)"
      ],
      "metadata": {
        "colab": {
          "base_uri": "https://localhost:8080/"
        },
        "id": "EBQwUmZ0lleM",
        "outputId": "3d6c3cbc-5148-4735-fc61-c23002c7d9bf"
      },
      "execution_count": null,
      "outputs": [
        {
          "output_type": "stream",
          "name": "stdout",
          "text": [
            "Silhuette -0.07713830696630734 davies_bouldinScore 363.01564256891925\n"
          ]
        }
      ]
    }
  ],
  "metadata": {
    "colab": {
      "machine_shape": "hm",
      "provenance": [],
      "toc_visible": true,
      "include_colab_link": true
    },
    "gpuClass": "premium",
    "kernelspec": {
      "display_name": "Python 3",
      "name": "python3"
    },
    "language_info": {
      "name": "python"
    },
    "accelerator": "GPU"
  },
  "nbformat": 4,
  "nbformat_minor": 0
}