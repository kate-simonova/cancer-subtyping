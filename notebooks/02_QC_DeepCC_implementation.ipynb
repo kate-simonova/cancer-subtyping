{
  "cells": [
    {
      "cell_type": "markdown",
      "metadata": {
        "id": "view-in-github",
        "colab_type": "text"
      },
      "source": [
        "<a href=\"https://colab.research.google.com/github/kate-simonova/cancer-subtyping/blob/main/02_QC_DeepCC_implementation.ipynb\" target=\"_parent\"><img src=\"https://colab.research.google.com/assets/colab-badge.svg\" alt=\"Open In Colab\"/></a>"
      ]
    },
    {
      "cell_type": "markdown",
      "metadata": {
        "id": "-Yfm4EYcswVG"
      },
      "source": [
        " # DL based models for cancer subtype identification - Data quality check with DeepCC\n",
        "\n",
        "This notebook is used to prove that preprocessing of the data was done perfectly. As one of the most important steps in preprocessing was conversion to functional spectra. I decided to use DeepCC MLP algorithm on my data, to make sure that everything is done well.\n",
        "\n",
        "**Keywords:** Subtyping, Cancer, Gene Expression, Tumor Microenvironment"
      ]
    },
    {
      "cell_type": "markdown",
      "metadata": {
        "id": "WIDb772jundM"
      },
      "source": [
        "## Data Loading and installation of packages"
      ]
    },
    {
      "cell_type": "code",
      "execution_count": null,
      "metadata": {
        "id": "w8ltppbHBKVM",
        "colab": {
          "base_uri": "https://localhost:8080/"
        },
        "outputId": "1528c510-7a8e-49d9-c060-cc42f81cd000"
      },
      "outputs": [
        {
          "output_type": "stream",
          "name": "stdout",
          "text": [
            "Looking in indexes: https://pypi.org/simple, https://us-python.pkg.dev/colab-wheels/public/simple/\n",
            "Requirement already satisfied: umap-learn in /usr/local/lib/python3.9/dist-packages (0.5.3)\n",
            "Requirement already satisfied: numba>=0.49 in /usr/local/lib/python3.9/dist-packages (from umap-learn) (0.56.4)\n",
            "Requirement already satisfied: pynndescent>=0.5 in /usr/local/lib/python3.9/dist-packages (from umap-learn) (0.5.8)\n",
            "Requirement already satisfied: numpy>=1.17 in /usr/local/lib/python3.9/dist-packages (from umap-learn) (1.22.4)\n",
            "Requirement already satisfied: scikit-learn>=0.22 in /usr/local/lib/python3.9/dist-packages (from umap-learn) (1.2.2)\n",
            "Requirement already satisfied: scipy>=1.0 in /usr/local/lib/python3.9/dist-packages (from umap-learn) (1.10.1)\n",
            "Requirement already satisfied: tqdm in /usr/local/lib/python3.9/dist-packages (from umap-learn) (4.65.0)\n",
            "Requirement already satisfied: llvmlite<0.40,>=0.39.0dev0 in /usr/local/lib/python3.9/dist-packages (from numba>=0.49->umap-learn) (0.39.1)\n",
            "Requirement already satisfied: setuptools in /usr/local/lib/python3.9/dist-packages (from numba>=0.49->umap-learn) (67.6.1)\n",
            "Requirement already satisfied: joblib>=0.11 in /usr/local/lib/python3.9/dist-packages (from pynndescent>=0.5->umap-learn) (1.1.1)\n",
            "Requirement already satisfied: threadpoolctl>=2.0.0 in /usr/local/lib/python3.9/dist-packages (from scikit-learn>=0.22->umap-learn) (3.1.0)\n"
          ]
        }
      ],
      "source": [
        "!pip install umap-learn"
      ]
    },
    {
      "cell_type": "code",
      "execution_count": null,
      "metadata": {
        "colab": {
          "base_uri": "https://localhost:8080/"
        },
        "id": "NVJ81ITZtoC5",
        "outputId": "232c7570-6fea-4638-8cfb-86d8a786c5d4"
      },
      "outputs": [
        {
          "output_type": "stream",
          "name": "stdout",
          "text": [
            "Mounted at /content/drive\n"
          ]
        }
      ],
      "source": [
        "# importing necessary packages\n",
        "\n",
        "from google.colab import drive\n",
        "drive.mount('/content/drive', force_remount=True) \n",
        "path = \"/content/drive/MyDrive/MY_DATA/FS/\"\n",
        "\n",
        "import re\n",
        "import gc\n",
        "from collections import Counter\n",
        "import pandas as pd\n",
        "import matplotlib.pyplot as plt\n",
        "import seaborn as sns\n",
        "from umap import UMAP\n",
        "\n",
        "from sklearn.preprocessing import StandardScaler\n",
        "from sklearn.model_selection import train_test_split\n",
        "from tensorflow import keras\n",
        "\n",
        "import plotly.express as px\n",
        "from keras.utils import plot_model\n",
        "from keras.layers import Dropout, BatchNormalization, Dense, Input\n",
        "from keras.utils.vis_utils import plot_model\n",
        "from keras.models import Model\n",
        "from sklearn.metrics import silhouette_score, davies_bouldin_score, adjusted_rand_score\n",
        "from sklearn.cluster import KMeans\n",
        "\n",
        "from keras import backend\n",
        "from keras import initializers\n",
        "from sklearn.model_selection import KFold\n",
        "from keras import backend as K\n",
        "from imblearn.over_sampling import ADASYN\n",
        "from sklearn.preprocessing import LabelEncoder"
      ]
    },
    {
      "cell_type": "markdown",
      "metadata": {
        "id": "mAgRuniBiEN1"
      },
      "source": [
        "## Loading colorectal data "
      ]
    },
    {
      "cell_type": "code",
      "execution_count": null,
      "metadata": {
        "colab": {
          "base_uri": "https://localhost:8080/"
        },
        "id": "QkJauulvy_rZ",
        "outputId": "c7670cdc-e809-47f0-988f-dcf3794d2d3e"
      },
      "outputs": [
        {
          "output_type": "execute_result",
          "data": {
            "text/plain": [
              "(2436, 6)"
            ]
          },
          "metadata": {},
          "execution_count": 3
        }
      ],
      "source": [
        "# loading colorectal cancer dataset\n",
        "crc_df = pd.read_csv(f\"{path}/crc_fs_final.csv.zip\", compression=\"zip\", index_col=0)\n",
        "crc_meta = pd.read_csv(f\"{path}/crc_metadata.csv.zip\", compression=\"zip\", index_col=0)\n",
        "crc_df = crc_df.loc[crc_meta[\"Sample\"], :]\n",
        "crc_meta[\"Cancer\"] = \"Colorectal\"\n",
        "crc_meta.shape"
      ]
    },
    {
      "cell_type": "code",
      "execution_count": null,
      "metadata": {
        "id": "OAD98_Pkp_uM"
      },
      "outputs": [],
      "source": [
        "X_train, X_test, y_train, y_test = train_test_split(crc_df, crc_meta[\"Label\"], test_size=0.15, random_state=42, stratify=crc_meta[\"Label\"])"
      ]
    },
    {
      "cell_type": "code",
      "execution_count": null,
      "metadata": {
        "colab": {
          "base_uri": "https://localhost:8080/"
        },
        "id": "rkKkDfljsc1H",
        "outputId": "2e0980ae-5c50-4ceb-8443-17a5e1075f22"
      },
      "outputs": [
        {
          "output_type": "stream",
          "name": "stdout",
          "text": [
            "Before Counter({'CMS2': 901, 'CMS4': 537, 'CMS1': 357, 'CMS3': 275})\n",
            "After Counter({3: 943, 0: 904, 1: 901, 2: 897})\n"
          ]
        }
      ],
      "source": [
        "mapp = LabelEncoder()\n",
        "\n",
        "y_train_adasyn = mapp.fit_transform(y_train).ravel()\n",
        "\n",
        "before_counter = Counter(y_train)\n",
        "print('Before', before_counter)\n",
        "\n",
        "ada = ADASYN(random_state=0, sampling_strategy='all')\n",
        "x_train_ada, y_train_ada = ada.fit_resample(X_train, y_train_adasyn)\n",
        "\n",
        "after_counter = Counter(y_train_ada)\n",
        "print('After', after_counter)"
      ]
    },
    {
      "cell_type": "code",
      "execution_count": null,
      "metadata": {
        "id": "-H7SPhSgwnkd"
      },
      "outputs": [],
      "source": [
        "X_train, X_val, y_train, y_val = train_test_split(x_train_ada, y_train_ada, test_size=0.20, random_state=42, stratify=y_train_ada)"
      ]
    },
    {
      "cell_type": "markdown",
      "metadata": {
        "id": "Xtd012VNiST5"
      },
      "source": [
        "## Loading breast cancer data"
      ]
    },
    {
      "cell_type": "code",
      "execution_count": null,
      "metadata": {
        "colab": {
          "base_uri": "https://localhost:8080/"
        },
        "id": "_NTfr5c8vb0s",
        "outputId": "1426357c-5ff5-400c-83f3-824c7c09864d"
      },
      "outputs": [
        {
          "output_type": "execute_result",
          "data": {
            "text/plain": [
              "(11264, 6)"
            ]
          },
          "metadata": {},
          "execution_count": 7
        }
      ],
      "source": [
        "# loading breast cancer dataset\n",
        "brca_df = pd.read_csv(f\"{path}/brca_fs_final.csv.zip\", compression=\"zip\", index_col=0)\n",
        "brca_meta = pd.read_csv(f\"{path}/metadata_breast_combined.csv.zip\", compression=\"zip\", index_col=0)\n",
        "brca_df = brca_df.loc[brca_meta[\"Sample ID\"], :]\n",
        "brca_meta[\"Cancer\"] = \"Breast\"\n",
        "brca_meta.shape"
      ]
    },
    {
      "cell_type": "markdown",
      "metadata": {
        "id": "adrVnoTWh4zF"
      },
      "source": [
        "## DeepCC "
      ]
    },
    {
      "cell_type": "code",
      "execution_count": null,
      "metadata": {
        "id": "oCezCzyHwvys"
      },
      "outputs": [],
      "source": [
        "keras.backend.clear_session()"
      ]
    },
    {
      "cell_type": "code",
      "execution_count": null,
      "metadata": {
        "colab": {
          "base_uri": "https://localhost:8080/"
        },
        "id": "y7aqIpeuW-qS",
        "outputId": "9e4b436e-2145-430b-cf2d-5f098e05c68c"
      },
      "outputs": [
        {
          "output_type": "execute_result",
          "data": {
            "text/plain": [
              "0"
            ]
          },
          "metadata": {},
          "execution_count": 9
        }
      ],
      "source": [
        "gc.collect()"
      ]
    },
    {
      "cell_type": "code",
      "execution_count": null,
      "metadata": {
        "id": "OWiPdO2axFX3"
      },
      "outputs": [],
      "source": [
        "#del model"
      ]
    },
    {
      "cell_type": "code",
      "execution_count": null,
      "metadata": {
        "colab": {
          "base_uri": "https://localhost:8080/"
        },
        "id": "wQW72mjqh9F2",
        "outputId": "1ed9e6db-0fe7-443b-dc25-1d4b8ed253e9"
      },
      "outputs": [
        {
          "output_type": "stream",
          "name": "stderr",
          "text": [
            "/usr/local/lib/python3.9/dist-packages/keras/initializers/initializers_v2.py:120: UserWarning: The initializer GlorotNormal is unseeded and being called multiple times, which will return identical values  each time (even if the initializer is unseeded). Please update your code to provide a seed to the initializer, or avoid using the same initalizer instance more than once.\n",
            "  warnings.warn(\n"
          ]
        }
      ],
      "source": [
        "original_dim = 22596\n",
        "dim1 = 1024\n",
        "dim2 = 256\n",
        "dim3 = 64\n",
        "dim4 = 64\n",
        "dim5 = 10\n",
        "dropout_rate = 0.4\n",
        "epochs = 100\n",
        "batch_size=1024\n",
        "\n",
        "model = keras.Sequential()\n",
        "model.add(Input(shape=(original_dim,)))\n",
        "model.add(BatchNormalization())\n",
        "initializer = keras.initializers.GlorotNormal()\n",
        "model.add(Dense(dim1, activation='tanh', kernel_initializer=initializer))\n",
        "model.add(Dropout(rate=dropout_rate))\n",
        "model.add(Dense(dim2, activation='tanh', kernel_initializer=initializer))\n",
        "model.add(Dropout(rate=dropout_rate))\n",
        "model.add(Dense(dim3, activation='tanh', kernel_initializer=initializer))\n",
        "model.add(Dropout(rate=dropout_rate))\n",
        "model.add(Dense(dim4, activation='tanh', kernel_initializer=initializer))\n",
        "model.add(Dropout(rate=dropout_rate))\n",
        "model.add(Dense(dim5, activation='tanh', kernel_initializer=initializer))\n",
        "model.add(Dropout(rate=dropout_rate))\n",
        "model.add(Dense(dim5, activation='softmax'))"
      ]
    },
    {
      "cell_type": "code",
      "execution_count": null,
      "metadata": {
        "colab": {
          "base_uri": "https://localhost:8080/"
        },
        "id": "kTGXBafC6w9X",
        "outputId": "90ca9ef5-5066-42fb-ff7c-9512138f8ad2"
      },
      "outputs": [
        {
          "output_type": "stream",
          "name": "stdout",
          "text": [
            "Model: \"sequential\"\n",
            "_________________________________________________________________\n",
            " Layer (type)                Output Shape              Param #   \n",
            "=================================================================\n",
            " batch_normalization (BatchN  (None, 22596)            90384     \n",
            " ormalization)                                                   \n",
            "                                                                 \n",
            " dense (Dense)               (None, 1024)              23139328  \n",
            "                                                                 \n",
            " dropout (Dropout)           (None, 1024)              0         \n",
            "                                                                 \n",
            " dense_1 (Dense)             (None, 256)               262400    \n",
            "                                                                 \n",
            " dropout_1 (Dropout)         (None, 256)               0         \n",
            "                                                                 \n",
            " dense_2 (Dense)             (None, 64)                16448     \n",
            "                                                                 \n",
            " dropout_2 (Dropout)         (None, 64)                0         \n",
            "                                                                 \n",
            " dense_3 (Dense)             (None, 64)                4160      \n",
            "                                                                 \n",
            " dropout_3 (Dropout)         (None, 64)                0         \n",
            "                                                                 \n",
            " dense_4 (Dense)             (None, 10)                650       \n",
            "                                                                 \n",
            " dropout_4 (Dropout)         (None, 10)                0         \n",
            "                                                                 \n",
            " dense_5 (Dense)             (None, 10)                110       \n",
            "                                                                 \n",
            "=================================================================\n",
            "Total params: 23,513,480\n",
            "Trainable params: 23,468,288\n",
            "Non-trainable params: 45,192\n",
            "_________________________________________________________________\n"
          ]
        }
      ],
      "source": [
        "model.summary()"
      ]
    },
    {
      "cell_type": "code",
      "execution_count": null,
      "metadata": {
        "id": "Iih07PZ1pEv4"
      },
      "outputs": [],
      "source": [
        "optimizer = keras.optimizers.Adam(learning_rate=0.001, beta_1=0.9, beta_2=0.999)\n",
        "\n",
        "model.compile(optimizer=optimizer, loss=\"sparse_categorical_crossentropy\", metrics=\"accuracy\")"
      ]
    },
    {
      "cell_type": "markdown",
      "metadata": {
        "id": "pF4RSlgFjij4"
      },
      "source": [
        "## Running DeepCC on colorectal cancer dataset"
      ]
    },
    {
      "cell_type": "code",
      "execution_count": null,
      "metadata": {
        "colab": {
          "base_uri": "https://localhost:8080/"
        },
        "id": "NE3KVfNYxU59",
        "outputId": "a4e56b38-b4ff-4e49-ecaa-f86319d94404"
      },
      "outputs": [
        {
          "output_type": "stream",
          "name": "stdout",
          "text": [
            "(2916, 22596) (2916,)\n"
          ]
        }
      ],
      "source": [
        "print(X_train.shape, y_train.shape)"
      ]
    },
    {
      "cell_type": "code",
      "execution_count": null,
      "metadata": {
        "colab": {
          "base_uri": "https://localhost:8080/"
        },
        "id": "Jr7Xg1BFxYek",
        "outputId": "fbc6578f-84c2-487e-b4cd-1e5c62642fa3"
      },
      "outputs": [
        {
          "output_type": "stream",
          "name": "stdout",
          "text": [
            "(729, 22596) (729,)\n"
          ]
        }
      ],
      "source": [
        "print(X_val.shape, y_val.shape)"
      ]
    },
    {
      "cell_type": "code",
      "execution_count": null,
      "metadata": {
        "colab": {
          "base_uri": "https://localhost:8080/"
        },
        "id": "g3AENPwXoeWY",
        "outputId": "bd487333-139b-4d50-de36-6b241c7440c9"
      },
      "outputs": [
        {
          "output_type": "stream",
          "name": "stdout",
          "text": [
            "Epoch 1/100\n",
            "3/3 [==============================] - 8s 389ms/step - loss: 2.3137 - accuracy: 0.2305 - val_loss: 1.6650 - val_accuracy: 0.5267\n",
            "Epoch 2/100\n",
            "3/3 [==============================] - 0s 188ms/step - loss: 2.0483 - accuracy: 0.3186 - val_loss: 1.4840 - val_accuracy: 0.6735\n",
            "Epoch 3/100\n",
            "3/3 [==============================] - 0s 173ms/step - loss: 1.8950 - accuracy: 0.3800 - val_loss: 1.3913 - val_accuracy: 0.6845\n",
            "Epoch 4/100\n",
            "3/3 [==============================] - 0s 177ms/step - loss: 1.7437 - accuracy: 0.4578 - val_loss: 1.2825 - val_accuracy: 0.7037\n",
            "Epoch 5/100\n",
            "3/3 [==============================] - 0s 164ms/step - loss: 1.6369 - accuracy: 0.5014 - val_loss: 1.2327 - val_accuracy: 0.7174\n",
            "Epoch 6/100\n",
            "3/3 [==============================] - 0s 144ms/step - loss: 1.5348 - accuracy: 0.5340 - val_loss: 1.2075 - val_accuracy: 0.6914\n",
            "Epoch 7/100\n",
            "3/3 [==============================] - 0s 165ms/step - loss: 1.4883 - accuracy: 0.5614 - val_loss: 1.1413 - val_accuracy: 0.7160\n",
            "Epoch 8/100\n",
            "3/3 [==============================] - 0s 165ms/step - loss: 1.4170 - accuracy: 0.5792 - val_loss: 1.0743 - val_accuracy: 0.7435\n",
            "Epoch 9/100\n",
            "3/3 [==============================] - 0s 165ms/step - loss: 1.3536 - accuracy: 0.6073 - val_loss: 1.0512 - val_accuracy: 0.7613\n",
            "Epoch 10/100\n",
            "3/3 [==============================] - 0s 163ms/step - loss: 1.3232 - accuracy: 0.6012 - val_loss: 1.0018 - val_accuracy: 0.7586\n",
            "Epoch 11/100\n",
            "3/3 [==============================] - 0s 165ms/step - loss: 1.2739 - accuracy: 0.6296 - val_loss: 0.9675 - val_accuracy: 0.7723\n",
            "Epoch 12/100\n",
            "3/3 [==============================] - 0s 160ms/step - loss: 1.2254 - accuracy: 0.6512 - val_loss: 0.9661 - val_accuracy: 0.7709\n",
            "Epoch 13/100\n",
            "3/3 [==============================] - 0s 158ms/step - loss: 1.2315 - accuracy: 0.6396 - val_loss: 0.8943 - val_accuracy: 0.7901\n",
            "Epoch 14/100\n",
            "3/3 [==============================] - 0s 161ms/step - loss: 1.1692 - accuracy: 0.6660 - val_loss: 0.8632 - val_accuracy: 0.8217\n",
            "Epoch 15/100\n",
            "3/3 [==============================] - 0s 138ms/step - loss: 1.1190 - accuracy: 0.6790 - val_loss: 0.8473 - val_accuracy: 0.8244\n",
            "Epoch 16/100\n",
            "3/3 [==============================] - 0s 163ms/step - loss: 1.1085 - accuracy: 0.6910 - val_loss: 0.8177 - val_accuracy: 0.8272\n",
            "Epoch 17/100\n",
            "3/3 [==============================] - 0s 163ms/step - loss: 1.0512 - accuracy: 0.7154 - val_loss: 0.7873 - val_accuracy: 0.8313\n",
            "Epoch 18/100\n",
            "3/3 [==============================] - 0s 169ms/step - loss: 1.0426 - accuracy: 0.7164 - val_loss: 0.7597 - val_accuracy: 0.8587\n",
            "Epoch 19/100\n",
            "3/3 [==============================] - 0s 171ms/step - loss: 1.0291 - accuracy: 0.7215 - val_loss: 0.7374 - val_accuracy: 0.8628\n",
            "Epoch 20/100\n",
            "3/3 [==============================] - 0s 161ms/step - loss: 0.9781 - accuracy: 0.7353 - val_loss: 0.7139 - val_accuracy: 0.8477\n",
            "Epoch 21/100\n",
            "3/3 [==============================] - 0s 169ms/step - loss: 0.9759 - accuracy: 0.7449 - val_loss: 0.6861 - val_accuracy: 0.8532\n",
            "Epoch 22/100\n",
            "3/3 [==============================] - 0s 164ms/step - loss: 0.9629 - accuracy: 0.7401 - val_loss: 0.6791 - val_accuracy: 0.8628\n",
            "Epoch 23/100\n",
            "3/3 [==============================] - 0s 163ms/step - loss: 0.9089 - accuracy: 0.7644 - val_loss: 0.6494 - val_accuracy: 0.8656\n",
            "Epoch 24/100\n",
            "3/3 [==============================] - 0s 162ms/step - loss: 0.9196 - accuracy: 0.7565 - val_loss: 0.6744 - val_accuracy: 0.8491\n",
            "Epoch 25/100\n",
            "3/3 [==============================] - 0s 159ms/step - loss: 0.9006 - accuracy: 0.7747 - val_loss: 0.6377 - val_accuracy: 0.8505\n",
            "Epoch 26/100\n",
            "3/3 [==============================] - 0s 162ms/step - loss: 0.8704 - accuracy: 0.7802 - val_loss: 0.6161 - val_accuracy: 0.8738\n",
            "Epoch 27/100\n",
            "3/3 [==============================] - 0s 161ms/step - loss: 0.8538 - accuracy: 0.7788 - val_loss: 0.5894 - val_accuracy: 0.8875\n",
            "Epoch 28/100\n",
            "3/3 [==============================] - 0s 167ms/step - loss: 0.8243 - accuracy: 0.7894 - val_loss: 0.6309 - val_accuracy: 0.8477\n",
            "Epoch 29/100\n",
            "3/3 [==============================] - 0s 155ms/step - loss: 0.8213 - accuracy: 0.7918 - val_loss: 0.5806 - val_accuracy: 0.8711\n",
            "Epoch 30/100\n",
            "3/3 [==============================] - 0s 174ms/step - loss: 0.8435 - accuracy: 0.7850 - val_loss: 0.5697 - val_accuracy: 0.8944\n",
            "Epoch 31/100\n",
            "3/3 [==============================] - 0s 183ms/step - loss: 0.8304 - accuracy: 0.7788 - val_loss: 0.5330 - val_accuracy: 0.8944\n",
            "Epoch 32/100\n",
            "3/3 [==============================] - 0s 174ms/step - loss: 0.7836 - accuracy: 0.8049 - val_loss: 0.5639 - val_accuracy: 0.8765\n",
            "Epoch 33/100\n",
            "3/3 [==============================] - 0s 174ms/step - loss: 0.7708 - accuracy: 0.8128 - val_loss: 0.5043 - val_accuracy: 0.9122\n",
            "Epoch 34/100\n",
            "3/3 [==============================] - 0s 176ms/step - loss: 0.7656 - accuracy: 0.8110 - val_loss: 0.4897 - val_accuracy: 0.9150\n",
            "Epoch 35/100\n",
            "3/3 [==============================] - 0s 169ms/step - loss: 0.7322 - accuracy: 0.8381 - val_loss: 0.5171 - val_accuracy: 0.9081\n",
            "Epoch 36/100\n",
            "3/3 [==============================] - 0s 165ms/step - loss: 0.7433 - accuracy: 0.8275 - val_loss: 0.4976 - val_accuracy: 0.9150\n",
            "Epoch 37/100\n",
            "3/3 [==============================] - 0s 159ms/step - loss: 0.7294 - accuracy: 0.8347 - val_loss: 0.4776 - val_accuracy: 0.9259\n",
            "Epoch 38/100\n",
            "3/3 [==============================] - 0s 144ms/step - loss: 0.7091 - accuracy: 0.8323 - val_loss: 0.4793 - val_accuracy: 0.9177\n",
            "Epoch 39/100\n",
            "3/3 [==============================] - 0s 165ms/step - loss: 0.7231 - accuracy: 0.8309 - val_loss: 0.4897 - val_accuracy: 0.8999\n",
            "Epoch 40/100\n",
            "3/3 [==============================] - 0s 160ms/step - loss: 0.6795 - accuracy: 0.8495 - val_loss: 0.4410 - val_accuracy: 0.9287\n",
            "Epoch 41/100\n",
            "3/3 [==============================] - 0s 163ms/step - loss: 0.6476 - accuracy: 0.8580 - val_loss: 0.4274 - val_accuracy: 0.9314\n",
            "Epoch 42/100\n",
            "3/3 [==============================] - 0s 166ms/step - loss: 0.6659 - accuracy: 0.8539 - val_loss: 0.4325 - val_accuracy: 0.9259\n",
            "Epoch 43/100\n",
            "3/3 [==============================] - 0s 166ms/step - loss: 0.6559 - accuracy: 0.8491 - val_loss: 0.4132 - val_accuracy: 0.9355\n",
            "Epoch 44/100\n",
            "3/3 [==============================] - 0s 160ms/step - loss: 0.6140 - accuracy: 0.8611 - val_loss: 0.4090 - val_accuracy: 0.9259\n",
            "Epoch 45/100\n",
            "3/3 [==============================] - 0s 170ms/step - loss: 0.5985 - accuracy: 0.8693 - val_loss: 0.4301 - val_accuracy: 0.9122\n",
            "Epoch 46/100\n",
            "3/3 [==============================] - 0s 165ms/step - loss: 0.6149 - accuracy: 0.8639 - val_loss: 0.4236 - val_accuracy: 0.9163\n",
            "Epoch 47/100\n",
            "3/3 [==============================] - 0s 162ms/step - loss: 0.5653 - accuracy: 0.8793 - val_loss: 0.4031 - val_accuracy: 0.9300\n",
            "Epoch 48/100\n",
            "3/3 [==============================] - 0s 161ms/step - loss: 0.5954 - accuracy: 0.8669 - val_loss: 0.4121 - val_accuracy: 0.9246\n",
            "Epoch 49/100\n",
            "3/3 [==============================] - 0s 159ms/step - loss: 0.5935 - accuracy: 0.8731 - val_loss: 0.4232 - val_accuracy: 0.9150\n",
            "Epoch 50/100\n",
            "3/3 [==============================] - 0s 167ms/step - loss: 0.5933 - accuracy: 0.8717 - val_loss: 0.3822 - val_accuracy: 0.9369\n",
            "Epoch 51/100\n",
            "3/3 [==============================] - 0s 161ms/step - loss: 0.5791 - accuracy: 0.8748 - val_loss: 0.3745 - val_accuracy: 0.9342\n",
            "Epoch 52/100\n",
            "3/3 [==============================] - 0s 169ms/step - loss: 0.5932 - accuracy: 0.8711 - val_loss: 0.3533 - val_accuracy: 0.9342\n",
            "Epoch 53/100\n",
            "3/3 [==============================] - 0s 164ms/step - loss: 0.5816 - accuracy: 0.8714 - val_loss: 0.3484 - val_accuracy: 0.9355\n",
            "Epoch 54/100\n",
            "3/3 [==============================] - 0s 168ms/step - loss: 0.5676 - accuracy: 0.8807 - val_loss: 0.3234 - val_accuracy: 0.9451\n",
            "Epoch 55/100\n",
            "3/3 [==============================] - 0s 162ms/step - loss: 0.5391 - accuracy: 0.8861 - val_loss: 0.3291 - val_accuracy: 0.9438\n",
            "Epoch 56/100\n",
            "3/3 [==============================] - 0s 164ms/step - loss: 0.5184 - accuracy: 0.8944 - val_loss: 0.3174 - val_accuracy: 0.9492\n",
            "Epoch 57/100\n",
            "3/3 [==============================] - 0s 162ms/step - loss: 0.5106 - accuracy: 0.8951 - val_loss: 0.3038 - val_accuracy: 0.9492\n",
            "Epoch 58/100\n",
            "3/3 [==============================] - 0s 158ms/step - loss: 0.5202 - accuracy: 0.8964 - val_loss: 0.3037 - val_accuracy: 0.9506\n",
            "Epoch 59/100\n",
            "3/3 [==============================] - 0s 172ms/step - loss: 0.5176 - accuracy: 0.8909 - val_loss: 0.3255 - val_accuracy: 0.9396\n",
            "Epoch 60/100\n",
            "3/3 [==============================] - 0s 165ms/step - loss: 0.5605 - accuracy: 0.8748 - val_loss: 0.3272 - val_accuracy: 0.9383\n",
            "Epoch 61/100\n",
            "3/3 [==============================] - 0s 148ms/step - loss: 0.5406 - accuracy: 0.8868 - val_loss: 0.2739 - val_accuracy: 0.9520\n",
            "Epoch 62/100\n",
            "3/3 [==============================] - 0s 174ms/step - loss: 0.5102 - accuracy: 0.8930 - val_loss: 0.3133 - val_accuracy: 0.9465\n",
            "Epoch 63/100\n",
            "3/3 [==============================] - 0s 183ms/step - loss: 0.5095 - accuracy: 0.8940 - val_loss: 0.3005 - val_accuracy: 0.9465\n",
            "Epoch 64/100\n",
            "3/3 [==============================] - 0s 173ms/step - loss: 0.5008 - accuracy: 0.8913 - val_loss: 0.2886 - val_accuracy: 0.9534\n",
            "Epoch 65/100\n",
            "3/3 [==============================] - 0s 164ms/step - loss: 0.4897 - accuracy: 0.8988 - val_loss: 0.2883 - val_accuracy: 0.9479\n",
            "Epoch 66/100\n",
            "3/3 [==============================] - 0s 163ms/step - loss: 0.5072 - accuracy: 0.8957 - val_loss: 0.3328 - val_accuracy: 0.9300\n",
            "Epoch 67/100\n",
            "3/3 [==============================] - 0s 166ms/step - loss: 0.5144 - accuracy: 0.8868 - val_loss: 0.2751 - val_accuracy: 0.9520\n",
            "Epoch 68/100\n",
            "3/3 [==============================] - 0s 163ms/step - loss: 0.5236 - accuracy: 0.8851 - val_loss: 0.3114 - val_accuracy: 0.9465\n",
            "Epoch 69/100\n",
            "3/3 [==============================] - 0s 163ms/step - loss: 0.5419 - accuracy: 0.8789 - val_loss: 0.3165 - val_accuracy: 0.9410\n",
            "Epoch 70/100\n",
            "3/3 [==============================] - 0s 162ms/step - loss: 0.5367 - accuracy: 0.8858 - val_loss: 0.2819 - val_accuracy: 0.9438\n",
            "Epoch 71/100\n",
            "3/3 [==============================] - 0s 166ms/step - loss: 0.5220 - accuracy: 0.8813 - val_loss: 0.3254 - val_accuracy: 0.9273\n",
            "Epoch 72/100\n",
            "3/3 [==============================] - 0s 161ms/step - loss: 0.5463 - accuracy: 0.8776 - val_loss: 0.3057 - val_accuracy: 0.9369\n",
            "Epoch 73/100\n",
            "3/3 [==============================] - 0s 162ms/step - loss: 0.5385 - accuracy: 0.8810 - val_loss: 0.3410 - val_accuracy: 0.9232\n",
            "Epoch 74/100\n",
            "3/3 [==============================] - 0s 164ms/step - loss: 0.5521 - accuracy: 0.8721 - val_loss: 0.3149 - val_accuracy: 0.9355\n",
            "Epoch 75/100\n",
            "3/3 [==============================] - 0s 167ms/step - loss: 0.6136 - accuracy: 0.8543 - val_loss: 0.3216 - val_accuracy: 0.9259\n",
            "Epoch 76/100\n",
            "3/3 [==============================] - 0s 167ms/step - loss: 0.5684 - accuracy: 0.8748 - val_loss: 0.3315 - val_accuracy: 0.9328\n",
            "Epoch 77/100\n",
            "3/3 [==============================] - 0s 167ms/step - loss: 0.5320 - accuracy: 0.8872 - val_loss: 0.2752 - val_accuracy: 0.9506\n",
            "Epoch 78/100\n",
            "3/3 [==============================] - 0s 164ms/step - loss: 0.5560 - accuracy: 0.8721 - val_loss: 0.2713 - val_accuracy: 0.9479\n",
            "Epoch 79/100\n",
            "3/3 [==============================] - 0s 142ms/step - loss: 0.5218 - accuracy: 0.8793 - val_loss: 0.2937 - val_accuracy: 0.9396\n",
            "Epoch 80/100\n",
            "3/3 [==============================] - 0s 163ms/step - loss: 0.4924 - accuracy: 0.8923 - val_loss: 0.2785 - val_accuracy: 0.9451\n",
            "Epoch 81/100\n",
            "3/3 [==============================] - 0s 162ms/step - loss: 0.4644 - accuracy: 0.9057 - val_loss: 0.2939 - val_accuracy: 0.9410\n",
            "Epoch 82/100\n",
            "3/3 [==============================] - 0s 165ms/step - loss: 0.4995 - accuracy: 0.8872 - val_loss: 0.2867 - val_accuracy: 0.9355\n",
            "Epoch 83/100\n",
            "3/3 [==============================] - 0s 168ms/step - loss: 0.5017 - accuracy: 0.8868 - val_loss: 0.2822 - val_accuracy: 0.9520\n",
            "Epoch 84/100\n",
            "3/3 [==============================] - 0s 167ms/step - loss: 0.5151 - accuracy: 0.8831 - val_loss: 0.2403 - val_accuracy: 0.9588\n",
            "Epoch 85/100\n",
            "3/3 [==============================] - 0s 164ms/step - loss: 0.4662 - accuracy: 0.8940 - val_loss: 0.2327 - val_accuracy: 0.9588\n",
            "Epoch 86/100\n",
            "3/3 [==============================] - 0s 167ms/step - loss: 0.4630 - accuracy: 0.9036 - val_loss: 0.2389 - val_accuracy: 0.9547\n",
            "Epoch 87/100\n",
            "3/3 [==============================] - 0s 168ms/step - loss: 0.5091 - accuracy: 0.8858 - val_loss: 0.2180 - val_accuracy: 0.9616\n",
            "Epoch 88/100\n",
            "3/3 [==============================] - 0s 168ms/step - loss: 0.4795 - accuracy: 0.8889 - val_loss: 0.2420 - val_accuracy: 0.9506\n",
            "Epoch 89/100\n",
            "3/3 [==============================] - 0s 166ms/step - loss: 0.5127 - accuracy: 0.8841 - val_loss: 0.2461 - val_accuracy: 0.9438\n",
            "Epoch 90/100\n",
            "3/3 [==============================] - 0s 175ms/step - loss: 0.4953 - accuracy: 0.8872 - val_loss: 0.2561 - val_accuracy: 0.9451\n",
            "Epoch 91/100\n",
            "3/3 [==============================] - 0s 178ms/step - loss: 0.4626 - accuracy: 0.8999 - val_loss: 0.2347 - val_accuracy: 0.9534\n",
            "Epoch 92/100\n",
            "3/3 [==============================] - 0s 174ms/step - loss: 0.4502 - accuracy: 0.9009 - val_loss: 0.2383 - val_accuracy: 0.9588\n",
            "Epoch 93/100\n",
            "3/3 [==============================] - 0s 179ms/step - loss: 0.4427 - accuracy: 0.9081 - val_loss: 0.2349 - val_accuracy: 0.9534\n",
            "Epoch 94/100\n",
            "3/3 [==============================] - 0s 175ms/step - loss: 0.4403 - accuracy: 0.9047 - val_loss: 0.2556 - val_accuracy: 0.9479\n",
            "Epoch 95/100\n",
            "3/3 [==============================] - 0s 164ms/step - loss: 0.4599 - accuracy: 0.8913 - val_loss: 0.2108 - val_accuracy: 0.9602\n",
            "Epoch 96/100\n",
            "3/3 [==============================] - 0s 164ms/step - loss: 0.4228 - accuracy: 0.9108 - val_loss: 0.2284 - val_accuracy: 0.9561\n",
            "Epoch 97/100\n",
            "3/3 [==============================] - 0s 165ms/step - loss: 0.4065 - accuracy: 0.9136 - val_loss: 0.2227 - val_accuracy: 0.9616\n",
            "Epoch 98/100\n",
            "3/3 [==============================] - 0s 166ms/step - loss: 0.3910 - accuracy: 0.9150 - val_loss: 0.1954 - val_accuracy: 0.9657\n",
            "Epoch 99/100\n",
            "3/3 [==============================] - 0s 160ms/step - loss: 0.3739 - accuracy: 0.9232 - val_loss: 0.2083 - val_accuracy: 0.9575\n",
            "Epoch 100/100\n",
            "3/3 [==============================] - 0s 155ms/step - loss: 0.3900 - accuracy: 0.9126 - val_loss: 0.1958 - val_accuracy: 0.9602\n"
          ]
        }
      ],
      "source": [
        "history = model.fit(X_train, y_train,\n",
        "                epochs=epochs,\n",
        "                batch_size=batch_size, \n",
        "                validation_data=(X_val, y_val))"
      ]
    },
    {
      "cell_type": "code",
      "execution_count": null,
      "metadata": {
        "colab": {
          "base_uri": "https://localhost:8080/",
          "height": 447
        },
        "id": "ekH_mGs15JE3",
        "outputId": "edb898d3-f4d6-4b64-e8b2-84e9988bc931"
      },
      "outputs": [
        {
          "output_type": "execute_result",
          "data": {
            "text/plain": [
              "<matplotlib.legend.Legend at 0x7f1c912fbd90>"
            ]
          },
          "metadata": {},
          "execution_count": 17
        },
        {
          "output_type": "display_data",
          "data": {
            "text/plain": [
              "<Figure size 640x480 with 1 Axes>"
            ],
            "image/png": "[encoded data removed]"
          },
          "metadata": {}
        }
      ],
      "source": [
        "plt.plot(history.history[\"loss\"], label=\"Training Loss\")\n",
        "plt.plot(history.history[\"val_loss\"], label=\"Validation Loss\")\n",
        "plt.legend()"
      ]
    },
    {
      "cell_type": "code",
      "execution_count": null,
      "metadata": {
        "colab": {
          "base_uri": "https://localhost:8080/",
          "height": 441
        },
        "id": "if-_RpJ8ufs3",
        "outputId": "4d919af4-bb81-4cb9-93a7-60e3b6e0d6a2"
      },
      "outputs": [
        {
          "output_type": "stream",
          "name": "stdout",
          "text": [
            "1/1 [==============================] - 0s 164ms/step\n"
          ]
        },
        {
          "output_type": "execute_result",
          "data": {
            "text/plain": [
              "            0         1         2         3         4         5         6  \\\n",
              "0    0.000250  0.024055  0.013774  0.910349  0.006513  0.007167  0.008050   \n",
              "1    0.000303  0.020780  0.020142  0.905303  0.006602  0.006943  0.008797   \n",
              "2    0.001576  0.953531  0.005002  0.012979  0.003519  0.005344  0.004556   \n",
              "3    0.000248  0.023645  0.013986  0.910595  0.006489  0.007135  0.008070   \n",
              "4    0.000269  0.025874  0.012623  0.909283  0.006704  0.007317  0.008002   \n",
              "..        ...       ...       ...       ...       ...       ...       ...   \n",
              "361  0.013925  0.011346  0.946545  0.003948  0.002978  0.002918  0.003169   \n",
              "362  0.461689  0.000653  0.110675  0.040949  0.080571  0.052554  0.061923   \n",
              "363  0.001607  0.953819  0.005019  0.012729  0.003514  0.005323  0.004547   \n",
              "364  0.013832  0.011295  0.946774  0.003959  0.002963  0.002906  0.003152   \n",
              "365  0.001569  0.951571  0.005270  0.013867  0.003606  0.005493  0.004687   \n",
              "\n",
              "            7         8         9  \n",
              "0    0.007457  0.014059  0.008325  \n",
              "1    0.007873  0.015199  0.008059  \n",
              "2    0.005806  0.004055  0.003632  \n",
              "3    0.007441  0.014063  0.008328  \n",
              "4    0.007671  0.014040  0.008218  \n",
              "..        ...       ...       ...  \n",
              "361  0.003264  0.009702  0.002206  \n",
              "362  0.048929  0.066943  0.075114  \n",
              "363  0.005803  0.004039  0.003600  \n",
              "364  0.003248  0.009680  0.002191  \n",
              "365  0.005941  0.004221  0.003775  \n",
              "\n",
              "[366 rows x 10 columns]"
            ],
            "text/html": [
              "\n",
              "  <div id=\"df-2aebeff4-9b76-4873-91b5-fcfaff0a5d67\">\n",
              "    <div class=\"colab-df-container\">\n",
              "      <div>\n",
              "<style scoped>\n",
              "    .dataframe tbody tr th:only-of-type {\n",
              "        vertical-align: middle;\n",
              "    }\n",
              "\n",
              "    .dataframe tbody tr th {\n",
              "        vertical-align: top;\n",
              "    }\n",
              "\n",
              "    .dataframe thead th {\n",
              "        text-align: right;\n",
              "    }\n",
              "</style>\n",
              "<table border=\"1\" class=\"dataframe\">\n",
              "  <thead>\n",
              "    <tr style=\"text-align: right;\">\n",
              "      <th></th>\n",
              "      <th>0</th>\n",
              "      <th>1</th>\n",
              "      <th>2</th>\n",
              "      <th>3</th>\n",
              "      <th>4</th>\n",
              "      <th>5</th>\n",
              "      <th>6</th>\n",
              "      <th>7</th>\n",
              "      <th>8</th>\n",
              "      <th>9</th>\n",
              "    </tr>\n",
              "  </thead>\n",
              "  <tbody>\n",
              "    <tr>\n",
              "      <th>0</th>\n",
              "      <td>0.000250</td>\n",
              "      <td>0.024055</td>\n",
              "      <td>0.013774</td>\n",
              "      <td>0.910349</td>\n",
              "      <td>0.006513</td>\n",
              "      <td>0.007167</td>\n",
              "      <td>0.008050</td>\n",
              "      <td>0.007457</td>\n",
              "      <td>0.014059</td>\n",
              "      <td>0.008325</td>\n",
              "    </tr>\n",
              "    <tr>\n",
              "      <th>1</th>\n",
              "      <td>0.000303</td>\n",
              "      <td>0.020780</td>\n",
              "      <td>0.020142</td>\n",
              "      <td>0.905303</td>\n",
              "      <td>0.006602</td>\n",
              "      <td>0.006943</td>\n",
              "      <td>0.008797</td>\n",
              "      <td>0.007873</td>\n",
              "      <td>0.015199</td>\n",
              "      <td>0.008059</td>\n",
              "    </tr>\n",
              "    <tr>\n",
              "      <th>2</th>\n",
              "      <td>0.001576</td>\n",
              "      <td>0.953531</td>\n",
              "      <td>0.005002</td>\n",
              "      <td>0.012979</td>\n",
              "      <td>0.003519</td>\n",
              "      <td>0.005344</td>\n",
              "      <td>0.004556</td>\n",
              "      <td>0.005806</td>\n",
              "      <td>0.004055</td>\n",
              "      <td>0.003632</td>\n",
              "    </tr>\n",
              "    <tr>\n",
              "      <th>3</th>\n",
              "      <td>0.000248</td>\n",
              "      <td>0.023645</td>\n",
              "      <td>0.013986</td>\n",
              "      <td>0.910595</td>\n",
              "      <td>0.006489</td>\n",
              "      <td>0.007135</td>\n",
              "      <td>0.008070</td>\n",
              "      <td>0.007441</td>\n",
              "      <td>0.014063</td>\n",
              "      <td>0.008328</td>\n",
              "    </tr>\n",
              "    <tr>\n",
              "      <th>4</th>\n",
              "      <td>0.000269</td>\n",
              "      <td>0.025874</td>\n",
              "      <td>0.012623</td>\n",
              "      <td>0.909283</td>\n",
              "      <td>0.006704</td>\n",
              "      <td>0.007317</td>\n",
              "      <td>0.008002</td>\n",
              "      <td>0.007671</td>\n",
              "      <td>0.014040</td>\n",
              "      <td>0.008218</td>\n",
              "    </tr>\n",
              "    <tr>\n",
              "      <th>...</th>\n",
              "      <td>...</td>\n",
              "      <td>...</td>\n",
              "      <td>...</td>\n",
              "      <td>...</td>\n",
              "      <td>...</td>\n",
              "      <td>...</td>\n",
              "      <td>...</td>\n",
              "      <td>...</td>\n",
              "      <td>...</td>\n",
              "      <td>...</td>\n",
              "    </tr>\n",
              "    <tr>\n",
              "      <th>361</th>\n",
              "      <td>0.013925</td>\n",
              "      <td>0.011346</td>\n",
              "      <td>0.946545</td>\n",
              "      <td>0.003948</td>\n",
              "      <td>0.002978</td>\n",
              "      <td>0.002918</td>\n",
              "      <td>0.003169</td>\n",
              "      <td>0.003264</td>\n",
              "      <td>0.009702</td>\n",
              "      <td>0.002206</td>\n",
              "    </tr>\n",
              "    <tr>\n",
              "      <th>362</th>\n",
              "      <td>0.461689</td>\n",
              "      <td>0.000653</td>\n",
              "      <td>0.110675</td>\n",
              "      <td>0.040949</td>\n",
              "      <td>0.080571</td>\n",
              "      <td>0.052554</td>\n",
              "      <td>0.061923</td>\n",
              "      <td>0.048929</td>\n",
              "      <td>0.066943</td>\n",
              "      <td>0.075114</td>\n",
              "    </tr>\n",
              "    <tr>\n",
              "      <th>363</th>\n",
              "      <td>0.001607</td>\n",
              "      <td>0.953819</td>\n",
              "      <td>0.005019</td>\n",
              "      <td>0.012729</td>\n",
              "      <td>0.003514</td>\n",
              "      <td>0.005323</td>\n",
              "      <td>0.004547</td>\n",
              "      <td>0.005803</td>\n",
              "      <td>0.004039</td>\n",
              "      <td>0.003600</td>\n",
              "    </tr>\n",
              "    <tr>\n",
              "      <th>364</th>\n",
              "      <td>0.013832</td>\n",
              "      <td>0.011295</td>\n",
              "      <td>0.946774</td>\n",
              "      <td>0.003959</td>\n",
              "      <td>0.002963</td>\n",
              "      <td>0.002906</td>\n",
              "      <td>0.003152</td>\n",
              "      <td>0.003248</td>\n",
              "      <td>0.009680</td>\n",
              "      <td>0.002191</td>\n",
              "    </tr>\n",
              "    <tr>\n",
              "      <th>365</th>\n",
              "      <td>0.001569</td>\n",
              "      <td>0.951571</td>\n",
              "      <td>0.005270</td>\n",
              "      <td>0.013867</td>\n",
              "      <td>0.003606</td>\n",
              "      <td>0.005493</td>\n",
              "      <td>0.004687</td>\n",
              "      <td>0.005941</td>\n",
              "      <td>0.004221</td>\n",
              "      <td>0.003775</td>\n",
              "    </tr>\n",
              "  </tbody>\n",
              "</table>\n",
              "<p>366 rows × 10 columns</p>\n",
              "</div>\n",
              "      <button class=\"colab-df-convert\" onclick=\"convertToInteractive('df-2aebeff4-9b76-4873-91b5-fcfaff0a5d67')\"\n",
              "              title=\"Convert this dataframe to an interactive table.\"\n",
              "              style=\"display:none;\">\n",
              "        \n",
              "  <svg xmlns=\"http://www.w3.org/2000/svg\" height=\"24px\"viewBox=\"0 0 24 24\"\n",
              "       width=\"24px\">\n",
              "    <path d=\"M0 0h24v24H0V0z\" fill=\"none\"/>\n",
              "    <path d=\"M18.56 5.44l.94 2.06.94-2.06 2.06-.94-2.06-.94-.94-2.06-.94 2.06-2.06.94zm-11 1L8.5 8.5l.94-2.06 2.06-.94-2.06-.94L8.5 2.5l-.94 2.06-2.06.94zm10 10l.94 2.06.94-2.06 2.06-.94-2.06-.94-.94-2.06-.94 2.06-2.06.94z\"/><path d=\"M17.41 7.96l-1.37-1.37c-.4-.4-.92-.59-1.43-.59-.52 0-1.04.2-1.43.59L10.3 9.45l-7.72 7.72c-.78.78-.78 2.05 0 2.83L4 21.41c.39.39.9.59 1.41.59.51 0 1.02-.2 1.41-.59l7.78-7.78 2.81-2.81c.8-.78.8-2.07 0-2.86zM5.41 20L4 18.59l7.72-7.72 1.47 1.35L5.41 20z\"/>\n",
              "  </svg>\n",
              "      </button>\n",
              "      \n",
              "  <style>\n",
              "    .colab-df-container {\n",
              "      display:flex;\n",
              "      flex-wrap:wrap;\n",
              "      gap: 12px;\n",
              "    }\n",
              "\n",
              "    .colab-df-convert {\n",
              "      background-color: #E8F0FE;\n",
              "      border: none;\n",
              "      border-radius: 50%;\n",
              "      cursor: pointer;\n",
              "      display: none;\n",
              "      fill: #1967D2;\n",
              "      height: 32px;\n",
              "      padding: 0 0 0 0;\n",
              "      width: 32px;\n",
              "    }\n",
              "\n",
              "    .colab-df-convert:hover {\n",
              "      background-color: #E2EBFA;\n",
              "      box-shadow: 0px 1px 2px rgba(60, 64, 67, 0.3), 0px 1px 3px 1px rgba(60, 64, 67, 0.15);\n",
              "      fill: #174EA6;\n",
              "    }\n",
              "\n",
              "    [theme=dark] .colab-df-convert {\n",
              "      background-color: #3B4455;\n",
              "      fill: #D2E3FC;\n",
              "    }\n",
              "\n",
              "    [theme=dark] .colab-df-convert:hover {\n",
              "      background-color: #434B5C;\n",
              "      box-shadow: 0px 1px 3px 1px rgba(0, 0, 0, 0.15);\n",
              "      filter: drop-shadow(0px 1px 2px rgba(0, 0, 0, 0.3));\n",
              "      fill: #FFFFFF;\n",
              "    }\n",
              "  </style>\n",
              "\n",
              "      <script>\n",
              "        const buttonEl =\n",
              "          document.querySelector('#df-2aebeff4-9b76-4873-91b5-fcfaff0a5d67 button.colab-df-convert');\n",
              "        buttonEl.style.display =\n",
              "          google.colab.kernel.accessAllowed ? 'block' : 'none';\n",
              "\n",
              "        async function convertToInteractive(key) {\n",
              "          const element = document.querySelector('#df-2aebeff4-9b76-4873-91b5-fcfaff0a5d67');\n",
              "          const dataTable =\n",
              "            await google.colab.kernel.invokeFunction('convertToInteractive',\n",
              "                                                     [key], {});\n",
              "          if (!dataTable) return;\n",
              "\n",
              "          const docLinkHtml = 'Like what you see? Visit the ' +\n",
              "            '<a target=\"_blank\" href=https://colab.research.google.com/notebooks/data_table.ipynb>data table notebook</a>'\n",
              "            + ' to learn more about interactive tables.';\n",
              "          element.innerHTML = '';\n",
              "          dataTable['output_type'] = 'display_data';\n",
              "          await google.colab.output.renderOutput(dataTable, element);\n",
              "          const docLink = document.createElement('div');\n",
              "          docLink.innerHTML = docLinkHtml;\n",
              "          element.appendChild(docLink);\n",
              "        }\n",
              "      </script>\n",
              "    </div>\n",
              "  </div>\n",
              "  "
            ]
          },
          "metadata": {},
          "execution_count": 18
        }
      ],
      "source": [
        "p = model.predict(X_test, batch_size=batch_size)\n",
        "final_layer = pd.DataFrame(p)\n",
        "final_layer"
      ]
    },
    {
      "cell_type": "markdown",
      "metadata": {
        "id": "SKjYc2xLC28a"
      },
      "source": [
        "### UMAP"
      ]
    },
    {
      "cell_type": "code",
      "execution_count": null,
      "metadata": {
        "id": "HGjDcEFiCXLK"
      },
      "outputs": [],
      "source": [
        "umap_2d = UMAP(n_components=2, n_neighbors=55, init='random', metric= \"chebyshev\", random_state=0, min_dist=1)\n",
        "proj_2d = umap_2d.fit_transform(final_layer)"
      ]
    },
    {
      "cell_type": "code",
      "execution_count": null,
      "metadata": {
        "colab": {
          "base_uri": "https://localhost:8080/",
          "height": 206
        },
        "id": "zVQI3aCnxUU0",
        "outputId": "70243682-1f40-4133-8853-4cfdd535ea0b"
      },
      "outputs": [
        {
          "data": {
            "text/html": [
              "\n",
              "  <div id=\"df-29c5403c-c372-40ff-a8df-fa5aeec39cdb\">\n",
              "    <div class=\"colab-df-container\">\n",
              "      <div>\n",
              "<style scoped>\n",
              "    .dataframe tbody tr th:only-of-type {\n",
              "        vertical-align: middle;\n",
              "    }\n",
              "\n",
              "    .dataframe tbody tr th {\n",
              "        vertical-align: top;\n",
              "    }\n",
              "\n",
              "    .dataframe thead th {\n",
              "        text-align: right;\n",
              "    }\n",
              "</style>\n",
              "<table border=\"1\" class=\"dataframe\">\n",
              "  <thead>\n",
              "    <tr style=\"text-align: right;\">\n",
              "      <th></th>\n",
              "      <th>D1</th>\n",
              "      <th>D2</th>\n",
              "      <th>color</th>\n",
              "    </tr>\n",
              "  </thead>\n",
              "  <tbody>\n",
              "    <tr>\n",
              "      <th>0</th>\n",
              "      <td>2.539529</td>\n",
              "      <td>12.075924</td>\n",
              "      <td>CMS4</td>\n",
              "    </tr>\n",
              "    <tr>\n",
              "      <th>1</th>\n",
              "      <td>3.525948</td>\n",
              "      <td>10.549582</td>\n",
              "      <td>CMS4</td>\n",
              "    </tr>\n",
              "    <tr>\n",
              "      <th>2</th>\n",
              "      <td>2.063217</td>\n",
              "      <td>-2.599476</td>\n",
              "      <td>CMS2</td>\n",
              "    </tr>\n",
              "    <tr>\n",
              "      <th>3</th>\n",
              "      <td>7.047028</td>\n",
              "      <td>5.954832</td>\n",
              "      <td>CMS4</td>\n",
              "    </tr>\n",
              "    <tr>\n",
              "      <th>4</th>\n",
              "      <td>5.138756</td>\n",
              "      <td>9.330332</td>\n",
              "      <td>CMS4</td>\n",
              "    </tr>\n",
              "  </tbody>\n",
              "</table>\n",
              "</div>\n",
              "      <button class=\"colab-df-convert\" onclick=\"convertToInteractive('df-29c5403c-c372-40ff-a8df-fa5aeec39cdb')\"\n",
              "              title=\"Convert this dataframe to an interactive table.\"\n",
              "              style=\"display:none;\">\n",
              "        \n",
              "  <svg xmlns=\"http://www.w3.org/2000/svg\" height=\"24px\"viewBox=\"0 0 24 24\"\n",
              "       width=\"24px\">\n",
              "    <path d=\"M0 0h24v24H0V0z\" fill=\"none\"/>\n",
              "    <path d=\"M18.56 5.44l.94 2.06.94-2.06 2.06-.94-2.06-.94-.94-2.06-.94 2.06-2.06.94zm-11 1L8.5 8.5l.94-2.06 2.06-.94-2.06-.94L8.5 2.5l-.94 2.06-2.06.94zm10 10l.94 2.06.94-2.06 2.06-.94-2.06-.94-.94-2.06-.94 2.06-2.06.94z\"/><path d=\"M17.41 7.96l-1.37-1.37c-.4-.4-.92-.59-1.43-.59-.52 0-1.04.2-1.43.59L10.3 9.45l-7.72 7.72c-.78.78-.78 2.05 0 2.83L4 21.41c.39.39.9.59 1.41.59.51 0 1.02-.2 1.41-.59l7.78-7.78 2.81-2.81c.8-.78.8-2.07 0-2.86zM5.41 20L4 18.59l7.72-7.72 1.47 1.35L5.41 20z\"/>\n",
              "  </svg>\n",
              "      </button>\n",
              "      \n",
              "  <style>\n",
              "    .colab-df-container {\n",
              "      display:flex;\n",
              "      flex-wrap:wrap;\n",
              "      gap: 12px;\n",
              "    }\n",
              "\n",
              "    .colab-df-convert {\n",
              "      background-color: #E8F0FE;\n",
              "      border: none;\n",
              "      border-radius: 50%;\n",
              "      cursor: pointer;\n",
              "      display: none;\n",
              "      fill: #1967D2;\n",
              "      height: 32px;\n",
              "      padding: 0 0 0 0;\n",
              "      width: 32px;\n",
              "    }\n",
              "\n",
              "    .colab-df-convert:hover {\n",
              "      background-color: #E2EBFA;\n",
              "      box-shadow: 0px 1px 2px rgba(60, 64, 67, 0.3), 0px 1px 3px 1px rgba(60, 64, 67, 0.15);\n",
              "      fill: #174EA6;\n",
              "    }\n",
              "\n",
              "    [theme=dark] .colab-df-convert {\n",
              "      background-color: #3B4455;\n",
              "      fill: #D2E3FC;\n",
              "    }\n",
              "\n",
              "    [theme=dark] .colab-df-convert:hover {\n",
              "      background-color: #434B5C;\n",
              "      box-shadow: 0px 1px 3px 1px rgba(0, 0, 0, 0.15);\n",
              "      filter: drop-shadow(0px 1px 2px rgba(0, 0, 0, 0.3));\n",
              "      fill: #FFFFFF;\n",
              "    }\n",
              "  </style>\n",
              "\n",
              "      <script>\n",
              "        const buttonEl =\n",
              "          document.querySelector('#df-29c5403c-c372-40ff-a8df-fa5aeec39cdb button.colab-df-convert');\n",
              "        buttonEl.style.display =\n",
              "          google.colab.kernel.accessAllowed ? 'block' : 'none';\n",
              "\n",
              "        async function convertToInteractive(key) {\n",
              "          const element = document.querySelector('#df-29c5403c-c372-40ff-a8df-fa5aeec39cdb');\n",
              "          const dataTable =\n",
              "            await google.colab.kernel.invokeFunction('convertToInteractive',\n",
              "                                                     [key], {});\n",
              "          if (!dataTable) return;\n",
              "\n",
              "          const docLinkHtml = 'Like what you see? Visit the ' +\n",
              "            '<a target=\"_blank\" href=https://colab.research.google.com/notebooks/data_table.ipynb>data table notebook</a>'\n",
              "            + ' to learn more about interactive tables.';\n",
              "          element.innerHTML = '';\n",
              "          dataTable['output_type'] = 'display_data';\n",
              "          await google.colab.output.renderOutput(dataTable, element);\n",
              "          const docLink = document.createElement('div');\n",
              "          docLink.innerHTML = docLinkHtml;\n",
              "          element.appendChild(docLink);\n",
              "        }\n",
              "      </script>\n",
              "    </div>\n",
              "  </div>\n",
              "  "
            ],
            "text/plain": [
              "         D1         D2 color\n",
              "0  2.539529  12.075924  CMS4\n",
              "1  3.525948  10.549582  CMS4\n",
              "2  2.063217  -2.599476  CMS2\n",
              "3  7.047028   5.954832  CMS4\n",
              "4  5.138756   9.330332  CMS4"
            ]
          },
          "execution_count": 98,
          "metadata": {},
          "output_type": "execute_result"
        }
      ],
      "source": [
        "plot_df = pd.DataFrame(proj_2d, columns = [\"D1\", \"D2\"])\n",
        "plot_df[\"color\"] = y_test.tolist()\n",
        "plot_df.head()"
      ]
    },
    {
      "cell_type": "code",
      "execution_count": null,
      "metadata": {
        "colab": {
          "base_uri": "https://localhost:8080/",
          "height": 441
        },
        "id": "KP_lb9OexhH6",
        "outputId": "4380097f-0377-4cce-eac3-8a81ce8f25d7"
      },
      "outputs": [
        {
          "data": {
            "image/png": "[encoded data removed]",
            "text/plain": [
              "<Figure size 432x432 with 1 Axes>"
            ]
          },
          "metadata": {},
          "output_type": "display_data"
        }
      ],
      "source": [
        "plt.figure(figsize=(6,6))\n",
        "\n",
        "sns.scatterplot(x=\"D1\", y=\"D2\", s=50, hue=\"color\", data=plot_df, legend=True)\n",
        "plt.xlabel(\"UMAP 1\", fontsize=16)\n",
        "plt.ylabel(\"UMAP 2\", fontsize=16)\n",
        "plt.xticks(fontsize=16)\n",
        "plt.yticks(fontsize=16)\n",
        "#plt.savefig(f\"{path}/colorectal_tSNE_DseepCC.pdf\", format=\"pdf\")\n",
        "plt.legend(prop={'size': 10}, loc=\"lower left\", ncol=2)\n",
        "plt.tight_layout()\n",
        "plt.show()"
      ]
    },
    {
      "cell_type": "markdown",
      "metadata": {
        "id": "BNlMxuPuVjHo"
      },
      "source": [
        "### Clustering metrics calculation"
      ]
    },
    {
      "cell_type": "code",
      "execution_count": null,
      "metadata": {
        "colab": {
          "base_uri": "https://localhost:8080/"
        },
        "id": "yMmLMf8FViLW",
        "outputId": "5c1237ef-7b8a-4da7-d6f2-086264677115"
      },
      "outputs": [
        {
          "output_type": "stream",
          "name": "stderr",
          "text": [
            "/usr/local/lib/python3.9/dist-packages/sklearn/cluster/_kmeans.py:870: FutureWarning: The default value of `n_init` will change from 10 to 'auto' in 1.4. Set the value of `n_init` explicitly to suppress the warning\n",
            "  warnings.warn(\n"
          ]
        },
        {
          "output_type": "stream",
          "name": "stdout",
          "text": [
            "Silhuette score: 0.6759999990463257 Rand Index 0.7135678974625833 Davies-Bouldin score 0.541\n"
          ]
        }
      ],
      "source": [
        "silhouetteScore = silhouette_score(final_layer, y_test, metric=\"euclidean\")\n",
        "davies_bouldinScore = davies_bouldin_score(final_layer, y_test)\n",
        "\n",
        "km = KMeans(n_clusters=4, random_state=42)\n",
        "y_pred = km.fit_predict(final_layer)\n",
        "ari = adjusted_rand_score(y_pred, y_test)\n",
        "\n",
        "print(f\"Silhuette score: {round(silhouetteScore, 3)}\", f\"Rand Index {ari}\", f\"Davies-Bouldin score {round(davies_bouldinScore,3)}\")"
      ]
    },
    {
      "cell_type": "markdown",
      "metadata": {
        "id": "jHS_mk5ejzg8"
      },
      "source": [
        "## Running DeepCC on breast dataset"
      ]
    },
    {
      "cell_type": "code",
      "execution_count": null,
      "metadata": {
        "id": "Ofdm70nXMWpZ"
      },
      "outputs": [],
      "source": [
        "X_train, X_test, y_train, y_test = train_test_split(brca_df, brca_meta[\"PAM50\"], test_size=0.15, random_state=42, stratify=brca_meta[\"PAM50\"])"
      ]
    },
    {
      "cell_type": "code",
      "execution_count": null,
      "metadata": {
        "colab": {
          "base_uri": "https://localhost:8080/"
        },
        "id": "587Q6OeXMQdq",
        "outputId": "b555dcd5-7111-462d-f63e-a8df21d0ca19"
      },
      "outputs": [
        {
          "output_type": "stream",
          "name": "stdout",
          "text": [
            "Before Counter({'Luminal A': 4139, 'Luminal B': 2212, 'Basal-like': 1506, 'Her2': 985, 'Normal-like': 563, 'Claudin-low': 169})\n",
            "After Counter({0: 4170, 2: 4147, 3: 4139, 1: 4138, 5: 4101, 4: 3829})\n"
          ]
        }
      ],
      "source": [
        "mapp = LabelEncoder()\n",
        "\n",
        "y_train_adasyn = mapp.fit_transform(y_train).ravel()\n",
        "\n",
        "before_counter = Counter(y_train)\n",
        "print('Before', before_counter)\n",
        "\n",
        "ada = ADASYN(random_state=0, sampling_strategy='all')\n",
        "x_train_ada, y_train_ada = ada.fit_resample(X_train, y_train_adasyn)\n",
        "\n",
        "after_counter = Counter(y_train_ada)\n",
        "print('After', after_counter)"
      ]
    },
    {
      "cell_type": "code",
      "execution_count": null,
      "metadata": {
        "id": "qFscZTy-4_qR"
      },
      "outputs": [],
      "source": [
        "keras.backend.clear_session()\n",
        "del model"
      ]
    },
    {
      "cell_type": "code",
      "execution_count": null,
      "metadata": {
        "id": "A4q1dzniMXKq"
      },
      "outputs": [],
      "source": [
        "X_train, X_val, y_train, y_val = train_test_split(x_train_ada, y_train_ada, test_size=0.20, random_state=42, stratify=y_train_ada)"
      ]
    },
    {
      "cell_type": "code",
      "execution_count": null,
      "metadata": {
        "colab": {
          "base_uri": "https://localhost:8080/"
        },
        "id": "Vjds5EwR7DvR",
        "outputId": "64691d0b-a76f-4a8e-9373-ccb5fafb2a86"
      },
      "outputs": [
        {
          "output_type": "stream",
          "name": "stderr",
          "text": [
            "/usr/local/lib/python3.9/dist-packages/keras/initializers/initializers_v2.py:120: UserWarning: The initializer GlorotNormal is unseeded and being called multiple times, which will return identical values  each time (even if the initializer is unseeded). Please update your code to provide a seed to the initializer, or avoid using the same initalizer instance more than once.\n",
            "  warnings.warn(\n"
          ]
        }
      ],
      "source": [
        "original_dim = 22596\n",
        "dim1 = 1024\n",
        "dim2 = 256\n",
        "dim3 = 64\n",
        "dim4 = 64\n",
        "dim5 = 10\n",
        "dropout_rate = 0.4\n",
        "epochs = 100\n",
        "batch_size=1024\n",
        "\n",
        "model = keras.Sequential()\n",
        "model.add(Input(shape=(original_dim,)))\n",
        "model.add(BatchNormalization())\n",
        "initializer = keras.initializers.GlorotNormal()\n",
        "model.add(Dense(dim1, activation='tanh', kernel_initializer=initializer))\n",
        "model.add(Dropout(rate=dropout_rate))\n",
        "model.add(Dense(dim2, activation='tanh', kernel_initializer=initializer))\n",
        "model.add(Dropout(rate=dropout_rate))\n",
        "model.add(Dense(dim3, activation='tanh', kernel_initializer=initializer))\n",
        "model.add(Dropout(rate=dropout_rate))\n",
        "model.add(Dense(dim4, activation='tanh', kernel_initializer=initializer))\n",
        "model.add(Dropout(rate=dropout_rate))\n",
        "model.add(Dense(dim5, activation='tanh', kernel_initializer=initializer))\n",
        "model.add(Dropout(rate=dropout_rate))\n",
        "model.add(Dense(dim5, activation='softmax'))"
      ]
    },
    {
      "cell_type": "code",
      "execution_count": null,
      "metadata": {
        "id": "Zj41t3Eq7Mm_"
      },
      "outputs": [],
      "source": [
        "optimizer = keras.optimizers.Adam(learning_rate=0.001, beta_1=0.9, beta_2=0.999)\n",
        "\n",
        "model.compile(optimizer=optimizer, loss=\"sparse_categorical_crossentropy\", metrics=\"accuracy\")"
      ]
    },
    {
      "cell_type": "code",
      "execution_count": null,
      "metadata": {
        "colab": {
          "base_uri": "https://localhost:8080/"
        },
        "id": "1QFnS83rMk5j",
        "outputId": "a44973e6-11b1-4c92-a323-9aa22a178728"
      },
      "outputs": [
        {
          "output_type": "stream",
          "name": "stdout",
          "text": [
            "Epoch 1/100\n",
            "20/20 [==============================] - 10s 340ms/step - loss: 1.9657 - accuracy: 0.2893 - val_loss: 1.4083 - val_accuracy: 0.5710\n",
            "Epoch 2/100\n",
            "20/20 [==============================] - 2s 118ms/step - loss: 1.6144 - accuracy: 0.4414 - val_loss: 1.1725 - val_accuracy: 0.6712\n",
            "Epoch 3/100\n",
            "20/20 [==============================] - 2s 117ms/step - loss: 1.3983 - accuracy: 0.5435 - val_loss: 1.0293 - val_accuracy: 0.7272\n",
            "Epoch 4/100\n",
            "20/20 [==============================] - 2s 124ms/step - loss: 1.2586 - accuracy: 0.6137 - val_loss: 0.8794 - val_accuracy: 0.7798\n",
            "Epoch 5/100\n",
            "20/20 [==============================] - 2s 122ms/step - loss: 1.1489 - accuracy: 0.6553 - val_loss: 0.7878 - val_accuracy: 0.8110\n",
            "Epoch 6/100\n",
            "20/20 [==============================] - 2s 119ms/step - loss: 1.0823 - accuracy: 0.6828 - val_loss: 0.7353 - val_accuracy: 0.8253\n",
            "Epoch 7/100\n",
            "20/20 [==============================] - 2s 118ms/step - loss: 1.0043 - accuracy: 0.7084 - val_loss: 0.6626 - val_accuracy: 0.8465\n",
            "Epoch 8/100\n",
            "20/20 [==============================] - 2s 116ms/step - loss: 0.9455 - accuracy: 0.7293 - val_loss: 0.5967 - val_accuracy: 0.8626\n",
            "Epoch 9/100\n",
            "20/20 [==============================] - 2s 123ms/step - loss: 0.9114 - accuracy: 0.7362 - val_loss: 0.5803 - val_accuracy: 0.8565\n",
            "Epoch 10/100\n",
            "20/20 [==============================] - 2s 122ms/step - loss: 0.8693 - accuracy: 0.7477 - val_loss: 0.5526 - val_accuracy: 0.8685\n",
            "Epoch 11/100\n",
            "20/20 [==============================] - 2s 120ms/step - loss: 0.8435 - accuracy: 0.7544 - val_loss: 0.5182 - val_accuracy: 0.8712\n",
            "Epoch 12/100\n",
            "20/20 [==============================] - 2s 119ms/step - loss: 0.8337 - accuracy: 0.7585 - val_loss: 0.5141 - val_accuracy: 0.8675\n",
            "Epoch 13/100\n",
            "20/20 [==============================] - 2s 120ms/step - loss: 0.8133 - accuracy: 0.7618 - val_loss: 0.4678 - val_accuracy: 0.8797\n",
            "Epoch 14/100\n",
            "20/20 [==============================] - 2s 122ms/step - loss: 0.7833 - accuracy: 0.7655 - val_loss: 0.4498 - val_accuracy: 0.8840\n",
            "Epoch 15/100\n",
            "20/20 [==============================] - 2s 123ms/step - loss: 0.7512 - accuracy: 0.7792 - val_loss: 0.4501 - val_accuracy: 0.8836\n",
            "Epoch 16/100\n",
            "20/20 [==============================] - 2s 120ms/step - loss: 0.7466 - accuracy: 0.7781 - val_loss: 0.4463 - val_accuracy: 0.8785\n",
            "Epoch 17/100\n",
            "20/20 [==============================] - 2s 117ms/step - loss: 0.7211 - accuracy: 0.7843 - val_loss: 0.4179 - val_accuracy: 0.8879\n",
            "Epoch 18/100\n",
            "20/20 [==============================] - 2s 119ms/step - loss: 0.7098 - accuracy: 0.7866 - val_loss: 0.4240 - val_accuracy: 0.8846\n",
            "Epoch 19/100\n",
            "20/20 [==============================] - 2s 120ms/step - loss: 0.7017 - accuracy: 0.7923 - val_loss: 0.4143 - val_accuracy: 0.8897\n",
            "Epoch 20/100\n",
            "20/20 [==============================] - 2s 122ms/step - loss: 0.6876 - accuracy: 0.7947 - val_loss: 0.4007 - val_accuracy: 0.8881\n",
            "Epoch 21/100\n",
            "20/20 [==============================] - 2s 117ms/step - loss: 0.6740 - accuracy: 0.7989 - val_loss: 0.3903 - val_accuracy: 0.8962\n",
            "Epoch 22/100\n",
            "20/20 [==============================] - 2s 118ms/step - loss: 0.6642 - accuracy: 0.8007 - val_loss: 0.4110 - val_accuracy: 0.8834\n",
            "Epoch 23/100\n",
            "20/20 [==============================] - 2s 118ms/step - loss: 0.6683 - accuracy: 0.7985 - val_loss: 0.3744 - val_accuracy: 0.8987\n",
            "Epoch 24/100\n",
            "20/20 [==============================] - 2s 119ms/step - loss: 0.6414 - accuracy: 0.8040 - val_loss: 0.3718 - val_accuracy: 0.8964\n",
            "Epoch 25/100\n",
            "20/20 [==============================] - 2s 125ms/step - loss: 0.6346 - accuracy: 0.8070 - val_loss: 0.3456 - val_accuracy: 0.9038\n",
            "Epoch 26/100\n",
            "20/20 [==============================] - 2s 118ms/step - loss: 0.6378 - accuracy: 0.8017 - val_loss: 0.3469 - val_accuracy: 0.9056\n",
            "Epoch 27/100\n",
            "20/20 [==============================] - 2s 121ms/step - loss: 0.6195 - accuracy: 0.8113 - val_loss: 0.3538 - val_accuracy: 0.8999\n",
            "Epoch 28/100\n",
            "20/20 [==============================] - 2s 119ms/step - loss: 0.6128 - accuracy: 0.8135 - val_loss: 0.3521 - val_accuracy: 0.9011\n",
            "Epoch 29/100\n",
            "20/20 [==============================] - 2s 120ms/step - loss: 0.6029 - accuracy: 0.8133 - val_loss: 0.3599 - val_accuracy: 0.8983\n",
            "Epoch 30/100\n",
            "20/20 [==============================] - 3s 127ms/step - loss: 0.6013 - accuracy: 0.8154 - val_loss: 0.3402 - val_accuracy: 0.9023\n",
            "Epoch 31/100\n",
            "20/20 [==============================] - 2s 120ms/step - loss: 0.6055 - accuracy: 0.8142 - val_loss: 0.3205 - val_accuracy: 0.9127\n",
            "Epoch 32/100\n",
            "20/20 [==============================] - 2s 119ms/step - loss: 0.5847 - accuracy: 0.8174 - val_loss: 0.3226 - val_accuracy: 0.9119\n",
            "Epoch 33/100\n",
            "20/20 [==============================] - 2s 120ms/step - loss: 0.5792 - accuracy: 0.8220 - val_loss: 0.3295 - val_accuracy: 0.9074\n",
            "Epoch 34/100\n",
            "20/20 [==============================] - 2s 119ms/step - loss: 0.6099 - accuracy: 0.8107 - val_loss: 0.3185 - val_accuracy: 0.9093\n",
            "Epoch 35/100\n",
            "20/20 [==============================] - 2s 124ms/step - loss: 0.6049 - accuracy: 0.8098 - val_loss: 0.3176 - val_accuracy: 0.9097\n",
            "Epoch 36/100\n",
            "20/20 [==============================] - 2s 122ms/step - loss: 0.5824 - accuracy: 0.8164 - val_loss: 0.3229 - val_accuracy: 0.9060\n",
            "Epoch 37/100\n",
            "20/20 [==============================] - 2s 118ms/step - loss: 0.5688 - accuracy: 0.8234 - val_loss: 0.3169 - val_accuracy: 0.9087\n",
            "Epoch 38/100\n",
            "20/20 [==============================] - 2s 118ms/step - loss: 0.5717 - accuracy: 0.8231 - val_loss: 0.3229 - val_accuracy: 0.9070\n",
            "Epoch 39/100\n",
            "20/20 [==============================] - 2s 117ms/step - loss: 0.5596 - accuracy: 0.8205 - val_loss: 0.3082 - val_accuracy: 0.9121\n",
            "Epoch 40/100\n",
            "20/20 [==============================] - 2s 122ms/step - loss: 0.5618 - accuracy: 0.8236 - val_loss: 0.3188 - val_accuracy: 0.9089\n",
            "Epoch 41/100\n",
            "20/20 [==============================] - 2s 120ms/step - loss: 0.5548 - accuracy: 0.8243 - val_loss: 0.3104 - val_accuracy: 0.9101\n",
            "Epoch 42/100\n",
            "20/20 [==============================] - 2s 117ms/step - loss: 0.5508 - accuracy: 0.8269 - val_loss: 0.3042 - val_accuracy: 0.9162\n",
            "Epoch 43/100\n",
            "20/20 [==============================] - 2s 120ms/step - loss: 0.5513 - accuracy: 0.8296 - val_loss: 0.2865 - val_accuracy: 0.9172\n",
            "Epoch 44/100\n",
            "20/20 [==============================] - 2s 118ms/step - loss: 0.5408 - accuracy: 0.8309 - val_loss: 0.2975 - val_accuracy: 0.9131\n",
            "Epoch 45/100\n",
            "20/20 [==============================] - 2s 121ms/step - loss: 0.5294 - accuracy: 0.8356 - val_loss: 0.2929 - val_accuracy: 0.9119\n",
            "Epoch 46/100\n",
            "20/20 [==============================] - 2s 124ms/step - loss: 0.5251 - accuracy: 0.8386 - val_loss: 0.2924 - val_accuracy: 0.9170\n",
            "Epoch 47/100\n",
            "20/20 [==============================] - 2s 120ms/step - loss: 0.5197 - accuracy: 0.8391 - val_loss: 0.2930 - val_accuracy: 0.9140\n",
            "Epoch 48/100\n",
            "20/20 [==============================] - 2s 122ms/step - loss: 0.5054 - accuracy: 0.8415 - val_loss: 0.2797 - val_accuracy: 0.9205\n",
            "Epoch 49/100\n",
            "20/20 [==============================] - 2s 122ms/step - loss: 0.5033 - accuracy: 0.8402 - val_loss: 0.2852 - val_accuracy: 0.9176\n",
            "Epoch 50/100\n",
            "20/20 [==============================] - 2s 119ms/step - loss: 0.5041 - accuracy: 0.8424 - val_loss: 0.2770 - val_accuracy: 0.9211\n",
            "Epoch 51/100\n",
            "20/20 [==============================] - 3s 127ms/step - loss: 0.5082 - accuracy: 0.8454 - val_loss: 0.2787 - val_accuracy: 0.9213\n",
            "Epoch 52/100\n",
            "20/20 [==============================] - 2s 120ms/step - loss: 0.5021 - accuracy: 0.8433 - val_loss: 0.2718 - val_accuracy: 0.9227\n",
            "Epoch 53/100\n",
            "20/20 [==============================] - 2s 117ms/step - loss: 0.4935 - accuracy: 0.8465 - val_loss: 0.2751 - val_accuracy: 0.9244\n",
            "Epoch 54/100\n",
            "20/20 [==============================] - 2s 118ms/step - loss: 0.4921 - accuracy: 0.8436 - val_loss: 0.2644 - val_accuracy: 0.9282\n",
            "Epoch 55/100\n",
            "20/20 [==============================] - 2s 117ms/step - loss: 0.4762 - accuracy: 0.8490 - val_loss: 0.2668 - val_accuracy: 0.9286\n",
            "Epoch 56/100\n",
            "20/20 [==============================] - 2s 122ms/step - loss: 0.4627 - accuracy: 0.8548 - val_loss: 0.2594 - val_accuracy: 0.9238\n",
            "Epoch 57/100\n",
            "20/20 [==============================] - 2s 119ms/step - loss: 0.4660 - accuracy: 0.8546 - val_loss: 0.2519 - val_accuracy: 0.9295\n",
            "Epoch 58/100\n",
            "20/20 [==============================] - 2s 118ms/step - loss: 0.4591 - accuracy: 0.8550 - val_loss: 0.2534 - val_accuracy: 0.9280\n",
            "Epoch 59/100\n",
            "20/20 [==============================] - 2s 121ms/step - loss: 0.4523 - accuracy: 0.8625 - val_loss: 0.2494 - val_accuracy: 0.9293\n",
            "Epoch 60/100\n",
            "20/20 [==============================] - 2s 118ms/step - loss: 0.4487 - accuracy: 0.8598 - val_loss: 0.2539 - val_accuracy: 0.9301\n",
            "Epoch 61/100\n",
            "20/20 [==============================] - 2s 123ms/step - loss: 0.4581 - accuracy: 0.8582 - val_loss: 0.2459 - val_accuracy: 0.9295\n",
            "Epoch 62/100\n",
            "20/20 [==============================] - 2s 121ms/step - loss: 0.4653 - accuracy: 0.8489 - val_loss: 0.2525 - val_accuracy: 0.9276\n",
            "Epoch 63/100\n",
            "20/20 [==============================] - 2s 119ms/step - loss: 0.4512 - accuracy: 0.8576 - val_loss: 0.2551 - val_accuracy: 0.9268\n",
            "Epoch 64/100\n",
            "20/20 [==============================] - 2s 119ms/step - loss: 0.4624 - accuracy: 0.8552 - val_loss: 0.2478 - val_accuracy: 0.9278\n",
            "Epoch 65/100\n",
            "20/20 [==============================] - 2s 120ms/step - loss: 0.4498 - accuracy: 0.8591 - val_loss: 0.2597 - val_accuracy: 0.9252\n",
            "Epoch 66/100\n",
            "20/20 [==============================] - 2s 121ms/step - loss: 0.4387 - accuracy: 0.8618 - val_loss: 0.2468 - val_accuracy: 0.9293\n",
            "Epoch 67/100\n",
            "20/20 [==============================] - 3s 131ms/step - loss: 0.4390 - accuracy: 0.8597 - val_loss: 0.2436 - val_accuracy: 0.9288\n",
            "Epoch 68/100\n",
            "20/20 [==============================] - 2s 120ms/step - loss: 0.4460 - accuracy: 0.8607 - val_loss: 0.2489 - val_accuracy: 0.9282\n",
            "Epoch 69/100\n",
            "20/20 [==============================] - 2s 118ms/step - loss: 0.4598 - accuracy: 0.8549 - val_loss: 0.2427 - val_accuracy: 0.9305\n",
            "Epoch 70/100\n",
            "20/20 [==============================] - 2s 119ms/step - loss: 0.4326 - accuracy: 0.8634 - val_loss: 0.2328 - val_accuracy: 0.9364\n",
            "Epoch 71/100\n",
            "20/20 [==============================] - 3s 130ms/step - loss: 0.4412 - accuracy: 0.8618 - val_loss: 0.2298 - val_accuracy: 0.9335\n",
            "Epoch 72/100\n",
            "20/20 [==============================] - 2s 123ms/step - loss: 0.4469 - accuracy: 0.8585 - val_loss: 0.2472 - val_accuracy: 0.9278\n",
            "Epoch 73/100\n",
            "20/20 [==============================] - 2s 119ms/step - loss: 0.4340 - accuracy: 0.8619 - val_loss: 0.2417 - val_accuracy: 0.9293\n",
            "Epoch 74/100\n",
            "20/20 [==============================] - 2s 119ms/step - loss: 0.4308 - accuracy: 0.8614 - val_loss: 0.2362 - val_accuracy: 0.9307\n",
            "Epoch 75/100\n",
            "20/20 [==============================] - 2s 118ms/step - loss: 0.4296 - accuracy: 0.8630 - val_loss: 0.2285 - val_accuracy: 0.9339\n",
            "Epoch 76/100\n",
            "20/20 [==============================] - 2s 119ms/step - loss: 0.4160 - accuracy: 0.8660 - val_loss: 0.2243 - val_accuracy: 0.9350\n",
            "Epoch 77/100\n",
            "20/20 [==============================] - 3s 128ms/step - loss: 0.4228 - accuracy: 0.8663 - val_loss: 0.2254 - val_accuracy: 0.9337\n",
            "Epoch 78/100\n",
            "20/20 [==============================] - 2s 119ms/step - loss: 0.4170 - accuracy: 0.8719 - val_loss: 0.2315 - val_accuracy: 0.9323\n",
            "Epoch 79/100\n",
            "20/20 [==============================] - 2s 120ms/step - loss: 0.4203 - accuracy: 0.8658 - val_loss: 0.2290 - val_accuracy: 0.9331\n",
            "Epoch 80/100\n",
            "20/20 [==============================] - 2s 120ms/step - loss: 0.4183 - accuracy: 0.8674 - val_loss: 0.2241 - val_accuracy: 0.9362\n",
            "Epoch 81/100\n",
            "20/20 [==============================] - 2s 119ms/step - loss: 0.4207 - accuracy: 0.8666 - val_loss: 0.2263 - val_accuracy: 0.9333\n",
            "Epoch 82/100\n",
            "20/20 [==============================] - 3s 129ms/step - loss: 0.4118 - accuracy: 0.8708 - val_loss: 0.2214 - val_accuracy: 0.9352\n",
            "Epoch 83/100\n",
            "20/20 [==============================] - 2s 120ms/step - loss: 0.4164 - accuracy: 0.8672 - val_loss: 0.2275 - val_accuracy: 0.9309\n",
            "Epoch 84/100\n",
            "20/20 [==============================] - 2s 121ms/step - loss: 0.4075 - accuracy: 0.8727 - val_loss: 0.2247 - val_accuracy: 0.9356\n",
            "Epoch 85/100\n",
            "20/20 [==============================] - 2s 120ms/step - loss: 0.3946 - accuracy: 0.8745 - val_loss: 0.2163 - val_accuracy: 0.9364\n",
            "Epoch 86/100\n",
            "20/20 [==============================] - 2s 119ms/step - loss: 0.3957 - accuracy: 0.8746 - val_loss: 0.2179 - val_accuracy: 0.9344\n",
            "Epoch 87/100\n",
            "20/20 [==============================] - 3s 128ms/step - loss: 0.3981 - accuracy: 0.8746 - val_loss: 0.2116 - val_accuracy: 0.9384\n",
            "Epoch 88/100\n",
            "20/20 [==============================] - 2s 119ms/step - loss: 0.3914 - accuracy: 0.8755 - val_loss: 0.2026 - val_accuracy: 0.9388\n",
            "Epoch 89/100\n",
            "20/20 [==============================] - 2s 117ms/step - loss: 0.3827 - accuracy: 0.8785 - val_loss: 0.2113 - val_accuracy: 0.9384\n",
            "Epoch 90/100\n",
            "20/20 [==============================] - 2s 119ms/step - loss: 0.3979 - accuracy: 0.8745 - val_loss: 0.2130 - val_accuracy: 0.9372\n",
            "Epoch 91/100\n",
            "20/20 [==============================] - 2s 117ms/step - loss: 0.3844 - accuracy: 0.8819 - val_loss: 0.2092 - val_accuracy: 0.9397\n",
            "Epoch 92/100\n",
            "20/20 [==============================] - 2s 125ms/step - loss: 0.3965 - accuracy: 0.8762 - val_loss: 0.2086 - val_accuracy: 0.9390\n",
            "Epoch 93/100\n",
            "20/20 [==============================] - 2s 122ms/step - loss: 0.3920 - accuracy: 0.8739 - val_loss: 0.2144 - val_accuracy: 0.9392\n",
            "Epoch 94/100\n",
            "20/20 [==============================] - 2s 120ms/step - loss: 0.3848 - accuracy: 0.8788 - val_loss: 0.2257 - val_accuracy: 0.9354\n",
            "Epoch 95/100\n",
            "20/20 [==============================] - 2s 120ms/step - loss: 0.3789 - accuracy: 0.8816 - val_loss: 0.2096 - val_accuracy: 0.9399\n",
            "Epoch 96/100\n",
            "20/20 [==============================] - 2s 117ms/step - loss: 0.3752 - accuracy: 0.8798 - val_loss: 0.2136 - val_accuracy: 0.9380\n",
            "Epoch 97/100\n",
            "20/20 [==============================] - 2s 123ms/step - loss: 0.3812 - accuracy: 0.8797 - val_loss: 0.2111 - val_accuracy: 0.9374\n",
            "Epoch 98/100\n",
            "20/20 [==============================] - 2s 122ms/step - loss: 0.3748 - accuracy: 0.8805 - val_loss: 0.2063 - val_accuracy: 0.9390\n",
            "Epoch 99/100\n",
            "20/20 [==============================] - 2s 119ms/step - loss: 0.3723 - accuracy: 0.8811 - val_loss: 0.2050 - val_accuracy: 0.9378\n",
            "Epoch 100/100\n",
            "20/20 [==============================] - 2s 116ms/step - loss: 0.3773 - accuracy: 0.8807 - val_loss: 0.2052 - val_accuracy: 0.9399\n"
          ]
        }
      ],
      "source": [
        "history = model.fit(X_train, y_train,\n",
        "                epochs=epochs,\n",
        "                batch_size=batch_size, \n",
        "                validation_data=(X_val, y_val))"
      ]
    },
    {
      "cell_type": "code",
      "execution_count": null,
      "metadata": {
        "colab": {
          "base_uri": "https://localhost:8080/",
          "height": 447
        },
        "id": "IGrJcC_KU_IF",
        "outputId": "5d47b96e-f13f-4e84-dfab-074737477e99"
      },
      "outputs": [
        {
          "output_type": "execute_result",
          "data": {
            "text/plain": [
              "<matplotlib.legend.Legend at 0x7f1c792933a0>"
            ]
          },
          "metadata": {},
          "execution_count": 30
        },
        {
          "output_type": "display_data",
          "data": {
            "text/plain": [
              "<Figure size 640x480 with 1 Axes>"
            ],
            "image/png": "[encoded data removed]"
          },
          "metadata": {}
        }
      ],
      "source": [
        "plt.plot(history.history[\"loss\"], label=\"Training Loss\")\n",
        "plt.plot(history.history[\"val_loss\"], label=\"Validation Loss\")\n",
        "plt.legend()"
      ]
    },
    {
      "cell_type": "code",
      "execution_count": null,
      "metadata": {
        "colab": {
          "base_uri": "https://localhost:8080/",
          "height": 441
        },
        "id": "Oxv80qeZVEY4",
        "outputId": "7d9cb8d4-e087-4c88-c753-d1fd3a5c0fed"
      },
      "outputs": [
        {
          "output_type": "stream",
          "name": "stdout",
          "text": [
            "2/2 [==============================] - 0s 48ms/step\n"
          ]
        },
        {
          "output_type": "execute_result",
          "data": {
            "text/plain": [
              "             0         1         2         3         4         5         6  \\\n",
              "0     0.000114  0.000484  0.020932  0.176502  0.797602  0.000708  0.000885   \n",
              "1     0.000002  0.000292  0.000502  0.957445  0.031324  0.007928  0.000611   \n",
              "2     0.987444  0.004842  0.005168  0.000006  0.000161  0.000408  0.000469   \n",
              "3     0.004660  0.992925  0.000049  0.000128  0.000211  0.000755  0.000266   \n",
              "4     0.000611  0.000459  0.090682  0.031748  0.873196  0.000176  0.000677   \n",
              "...        ...       ...       ...       ...       ...       ...       ...   \n",
              "1685  0.000141  0.000273  0.024919  0.353409  0.612873  0.002275  0.001557   \n",
              "1686  0.000405  0.001065  0.000537  0.014913  0.000189  0.981365  0.000383   \n",
              "1687  0.000506  0.000864  0.000628  0.012331  0.000170  0.983998  0.000377   \n",
              "1688  0.987442  0.004843  0.005170  0.000006  0.000161  0.000408  0.000469   \n",
              "1689  0.008186  0.000037  0.959742  0.001197  0.029252  0.000552  0.000216   \n",
              "\n",
              "             7         8         9  \n",
              "0     0.001030  0.000796  0.000947  \n",
              "1     0.000682  0.000650  0.000563  \n",
              "2     0.000460  0.000496  0.000546  \n",
              "3     0.000282  0.000299  0.000424  \n",
              "4     0.000822  0.000659  0.000969  \n",
              "...        ...       ...       ...  \n",
              "1685  0.001762  0.001406  0.001383  \n",
              "1686  0.000388  0.000402  0.000352  \n",
              "1687  0.000382  0.000399  0.000345  \n",
              "1688  0.000460  0.000496  0.000546  \n",
              "1689  0.000285  0.000220  0.000312  \n",
              "\n",
              "[1690 rows x 10 columns]"
            ],
            "text/html": [
              "\n",
              "  <div id=\"df-967767a0-6623-4da6-88ee-20c9111b9c62\">\n",
              "    <div class=\"colab-df-container\">\n",
              "      <div>\n",
              "<style scoped>\n",
              "    .dataframe tbody tr th:only-of-type {\n",
              "        vertical-align: middle;\n",
              "    }\n",
              "\n",
              "    .dataframe tbody tr th {\n",
              "        vertical-align: top;\n",
              "    }\n",
              "\n",
              "    .dataframe thead th {\n",
              "        text-align: right;\n",
              "    }\n",
              "</style>\n",
              "<table border=\"1\" class=\"dataframe\">\n",
              "  <thead>\n",
              "    <tr style=\"text-align: right;\">\n",
              "      <th></th>\n",
              "      <th>0</th>\n",
              "      <th>1</th>\n",
              "      <th>2</th>\n",
              "      <th>3</th>\n",
              "      <th>4</th>\n",
              "      <th>5</th>\n",
              "      <th>6</th>\n",
              "      <th>7</th>\n",
              "      <th>8</th>\n",
              "      <th>9</th>\n",
              "    </tr>\n",
              "  </thead>\n",
              "  <tbody>\n",
              "    <tr>\n",
              "      <th>0</th>\n",
              "      <td>0.000114</td>\n",
              "      <td>0.000484</td>\n",
              "      <td>0.020932</td>\n",
              "      <td>0.176502</td>\n",
              "      <td>0.797602</td>\n",
              "      <td>0.000708</td>\n",
              "      <td>0.000885</td>\n",
              "      <td>0.001030</td>\n",
              "      <td>0.000796</td>\n",
              "      <td>0.000947</td>\n",
              "    </tr>\n",
              "    <tr>\n",
              "      <th>1</th>\n",
              "      <td>0.000002</td>\n",
              "      <td>0.000292</td>\n",
              "      <td>0.000502</td>\n",
              "      <td>0.957445</td>\n",
              "      <td>0.031324</td>\n",
              "      <td>0.007928</td>\n",
              "      <td>0.000611</td>\n",
              "      <td>0.000682</td>\n",
              "      <td>0.000650</td>\n",
              "      <td>0.000563</td>\n",
              "    </tr>\n",
              "    <tr>\n",
              "      <th>2</th>\n",
              "      <td>0.987444</td>\n",
              "      <td>0.004842</td>\n",
              "      <td>0.005168</td>\n",
              "      <td>0.000006</td>\n",
              "      <td>0.000161</td>\n",
              "      <td>0.000408</td>\n",
              "      <td>0.000469</td>\n",
              "      <td>0.000460</td>\n",
              "      <td>0.000496</td>\n",
              "      <td>0.000546</td>\n",
              "    </tr>\n",
              "    <tr>\n",
              "      <th>3</th>\n",
              "      <td>0.004660</td>\n",
              "      <td>0.992925</td>\n",
              "      <td>0.000049</td>\n",
              "      <td>0.000128</td>\n",
              "      <td>0.000211</td>\n",
              "      <td>0.000755</td>\n",
              "      <td>0.000266</td>\n",
              "      <td>0.000282</td>\n",
              "      <td>0.000299</td>\n",
              "      <td>0.000424</td>\n",
              "    </tr>\n",
              "    <tr>\n",
              "      <th>4</th>\n",
              "      <td>0.000611</td>\n",
              "      <td>0.000459</td>\n",
              "      <td>0.090682</td>\n",
              "      <td>0.031748</td>\n",
              "      <td>0.873196</td>\n",
              "      <td>0.000176</td>\n",
              "      <td>0.000677</td>\n",
              "      <td>0.000822</td>\n",
              "      <td>0.000659</td>\n",
              "      <td>0.000969</td>\n",
              "    </tr>\n",
              "    <tr>\n",
              "      <th>...</th>\n",
              "      <td>...</td>\n",
              "      <td>...</td>\n",
              "      <td>...</td>\n",
              "      <td>...</td>\n",
              "      <td>...</td>\n",
              "      <td>...</td>\n",
              "      <td>...</td>\n",
              "      <td>...</td>\n",
              "      <td>...</td>\n",
              "      <td>...</td>\n",
              "    </tr>\n",
              "    <tr>\n",
              "      <th>1685</th>\n",
              "      <td>0.000141</td>\n",
              "      <td>0.000273</td>\n",
              "      <td>0.024919</td>\n",
              "      <td>0.353409</td>\n",
              "      <td>0.612873</td>\n",
              "      <td>0.002275</td>\n",
              "      <td>0.001557</td>\n",
              "      <td>0.001762</td>\n",
              "      <td>0.001406</td>\n",
              "      <td>0.001383</td>\n",
              "    </tr>\n",
              "    <tr>\n",
              "      <th>1686</th>\n",
              "      <td>0.000405</td>\n",
              "      <td>0.001065</td>\n",
              "      <td>0.000537</td>\n",
              "      <td>0.014913</td>\n",
              "      <td>0.000189</td>\n",
              "      <td>0.981365</td>\n",
              "      <td>0.000383</td>\n",
              "      <td>0.000388</td>\n",
              "      <td>0.000402</td>\n",
              "      <td>0.000352</td>\n",
              "    </tr>\n",
              "    <tr>\n",
              "      <th>1687</th>\n",
              "      <td>0.000506</td>\n",
              "      <td>0.000864</td>\n",
              "      <td>0.000628</td>\n",
              "      <td>0.012331</td>\n",
              "      <td>0.000170</td>\n",
              "      <td>0.983998</td>\n",
              "      <td>0.000377</td>\n",
              "      <td>0.000382</td>\n",
              "      <td>0.000399</td>\n",
              "      <td>0.000345</td>\n",
              "    </tr>\n",
              "    <tr>\n",
              "      <th>1688</th>\n",
              "      <td>0.987442</td>\n",
              "      <td>0.004843</td>\n",
              "      <td>0.005170</td>\n",
              "      <td>0.000006</td>\n",
              "      <td>0.000161</td>\n",
              "      <td>0.000408</td>\n",
              "      <td>0.000469</td>\n",
              "      <td>0.000460</td>\n",
              "      <td>0.000496</td>\n",
              "      <td>0.000546</td>\n",
              "    </tr>\n",
              "    <tr>\n",
              "      <th>1689</th>\n",
              "      <td>0.008186</td>\n",
              "      <td>0.000037</td>\n",
              "      <td>0.959742</td>\n",
              "      <td>0.001197</td>\n",
              "      <td>0.029252</td>\n",
              "      <td>0.000552</td>\n",
              "      <td>0.000216</td>\n",
              "      <td>0.000285</td>\n",
              "      <td>0.000220</td>\n",
              "      <td>0.000312</td>\n",
              "    </tr>\n",
              "  </tbody>\n",
              "</table>\n",
              "<p>1690 rows × 10 columns</p>\n",
              "</div>\n",
              "      <button class=\"colab-df-convert\" onclick=\"convertToInteractive('df-967767a0-6623-4da6-88ee-20c9111b9c62')\"\n",
              "              title=\"Convert this dataframe to an interactive table.\"\n",
              "              style=\"display:none;\">\n",
              "        \n",
              "  <svg xmlns=\"http://www.w3.org/2000/svg\" height=\"24px\"viewBox=\"0 0 24 24\"\n",
              "       width=\"24px\">\n",
              "    <path d=\"M0 0h24v24H0V0z\" fill=\"none\"/>\n",
              "    <path d=\"M18.56 5.44l.94 2.06.94-2.06 2.06-.94-2.06-.94-.94-2.06-.94 2.06-2.06.94zm-11 1L8.5 8.5l.94-2.06 2.06-.94-2.06-.94L8.5 2.5l-.94 2.06-2.06.94zm10 10l.94 2.06.94-2.06 2.06-.94-2.06-.94-.94-2.06-.94 2.06-2.06.94z\"/><path d=\"M17.41 7.96l-1.37-1.37c-.4-.4-.92-.59-1.43-.59-.52 0-1.04.2-1.43.59L10.3 9.45l-7.72 7.72c-.78.78-.78 2.05 0 2.83L4 21.41c.39.39.9.59 1.41.59.51 0 1.02-.2 1.41-.59l7.78-7.78 2.81-2.81c.8-.78.8-2.07 0-2.86zM5.41 20L4 18.59l7.72-7.72 1.47 1.35L5.41 20z\"/>\n",
              "  </svg>\n",
              "      </button>\n",
              "      \n",
              "  <style>\n",
              "    .colab-df-container {\n",
              "      display:flex;\n",
              "      flex-wrap:wrap;\n",
              "      gap: 12px;\n",
              "    }\n",
              "\n",
              "    .colab-df-convert {\n",
              "      background-color: #E8F0FE;\n",
              "      border: none;\n",
              "      border-radius: 50%;\n",
              "      cursor: pointer;\n",
              "      display: none;\n",
              "      fill: #1967D2;\n",
              "      height: 32px;\n",
              "      padding: 0 0 0 0;\n",
              "      width: 32px;\n",
              "    }\n",
              "\n",
              "    .colab-df-convert:hover {\n",
              "      background-color: #E2EBFA;\n",
              "      box-shadow: 0px 1px 2px rgba(60, 64, 67, 0.3), 0px 1px 3px 1px rgba(60, 64, 67, 0.15);\n",
              "      fill: #174EA6;\n",
              "    }\n",
              "\n",
              "    [theme=dark] .colab-df-convert {\n",
              "      background-color: #3B4455;\n",
              "      fill: #D2E3FC;\n",
              "    }\n",
              "\n",
              "    [theme=dark] .colab-df-convert:hover {\n",
              "      background-color: #434B5C;\n",
              "      box-shadow: 0px 1px 3px 1px rgba(0, 0, 0, 0.15);\n",
              "      filter: drop-shadow(0px 1px 2px rgba(0, 0, 0, 0.3));\n",
              "      fill: #FFFFFF;\n",
              "    }\n",
              "  </style>\n",
              "\n",
              "      <script>\n",
              "        const buttonEl =\n",
              "          document.querySelector('#df-967767a0-6623-4da6-88ee-20c9111b9c62 button.colab-df-convert');\n",
              "        buttonEl.style.display =\n",
              "          google.colab.kernel.accessAllowed ? 'block' : 'none';\n",
              "\n",
              "        async function convertToInteractive(key) {\n",
              "          const element = document.querySelector('#df-967767a0-6623-4da6-88ee-20c9111b9c62');\n",
              "          const dataTable =\n",
              "            await google.colab.kernel.invokeFunction('convertToInteractive',\n",
              "                                                     [key], {});\n",
              "          if (!dataTable) return;\n",
              "\n",
              "          const docLinkHtml = 'Like what you see? Visit the ' +\n",
              "            '<a target=\"_blank\" href=https://colab.research.google.com/notebooks/data_table.ipynb>data table notebook</a>'\n",
              "            + ' to learn more about interactive tables.';\n",
              "          element.innerHTML = '';\n",
              "          dataTable['output_type'] = 'display_data';\n",
              "          await google.colab.output.renderOutput(dataTable, element);\n",
              "          const docLink = document.createElement('div');\n",
              "          docLink.innerHTML = docLinkHtml;\n",
              "          element.appendChild(docLink);\n",
              "        }\n",
              "      </script>\n",
              "    </div>\n",
              "  </div>\n",
              "  "
            ]
          },
          "metadata": {},
          "execution_count": 31
        }
      ],
      "source": [
        "p = model.predict(X_test, batch_size=batch_size)\n",
        "final_layer = pd.DataFrame(p)\n",
        "final_layer"
      ]
    },
    {
      "cell_type": "markdown",
      "metadata": {
        "id": "t_tRA8N6NBHZ"
      },
      "source": [
        "### UMAP"
      ]
    },
    {
      "cell_type": "code",
      "execution_count": null,
      "metadata": {
        "id": "M4-TCLMeNCrt"
      },
      "outputs": [],
      "source": [
        "umap_2d = UMAP(n_components=2, n_neighbors=125, init='random', metric=\"chebyshev\", random_state=0, min_dist=1)\n",
        "proj_2d = umap_2d.fit_transform(final_layer)\n"
      ]
    },
    {
      "cell_type": "code",
      "execution_count": null,
      "metadata": {
        "colab": {
          "base_uri": "https://localhost:8080/",
          "height": 206
        },
        "id": "louqtaWc5RGH",
        "outputId": "cb30fd6b-013a-488f-b57a-a6ef2b917e02"
      },
      "outputs": [
        {
          "output_type": "execute_result",
          "data": {
            "text/plain": [
              "          D1         D2        color\n",
              "0   4.425699  12.244297    Luminal B\n",
              "1   0.356263  -7.249042    Luminal A\n",
              "2  32.814812   6.563891   Basal-like\n",
              "3 -28.406097  -3.696659  Claudin-low\n",
              "4   0.886038  14.905550         Her2"
            ],
            "text/html": [
              "\n",
              "  <div id=\"df-654e46fd-41e5-414d-9ad7-dcdfb80ac999\">\n",
              "    <div class=\"colab-df-container\">\n",
              "      <div>\n",
              "<style scoped>\n",
              "    .dataframe tbody tr th:only-of-type {\n",
              "        vertical-align: middle;\n",
              "    }\n",
              "\n",
              "    .dataframe tbody tr th {\n",
              "        vertical-align: top;\n",
              "    }\n",
              "\n",
              "    .dataframe thead th {\n",
              "        text-align: right;\n",
              "    }\n",
              "</style>\n",
              "<table border=\"1\" class=\"dataframe\">\n",
              "  <thead>\n",
              "    <tr style=\"text-align: right;\">\n",
              "      <th></th>\n",
              "      <th>D1</th>\n",
              "      <th>D2</th>\n",
              "      <th>color</th>\n",
              "    </tr>\n",
              "  </thead>\n",
              "  <tbody>\n",
              "    <tr>\n",
              "      <th>0</th>\n",
              "      <td>4.425699</td>\n",
              "      <td>12.244297</td>\n",
              "      <td>Luminal B</td>\n",
              "    </tr>\n",
              "    <tr>\n",
              "      <th>1</th>\n",
              "      <td>0.356263</td>\n",
              "      <td>-7.249042</td>\n",
              "      <td>Luminal A</td>\n",
              "    </tr>\n",
              "    <tr>\n",
              "      <th>2</th>\n",
              "      <td>32.814812</td>\n",
              "      <td>6.563891</td>\n",
              "      <td>Basal-like</td>\n",
              "    </tr>\n",
              "    <tr>\n",
              "      <th>3</th>\n",
              "      <td>-28.406097</td>\n",
              "      <td>-3.696659</td>\n",
              "      <td>Claudin-low</td>\n",
              "    </tr>\n",
              "    <tr>\n",
              "      <th>4</th>\n",
              "      <td>0.886038</td>\n",
              "      <td>14.905550</td>\n",
              "      <td>Her2</td>\n",
              "    </tr>\n",
              "  </tbody>\n",
              "</table>\n",
              "</div>\n",
              "      <button class=\"colab-df-convert\" onclick=\"convertToInteractive('df-654e46fd-41e5-414d-9ad7-dcdfb80ac999')\"\n",
              "              title=\"Convert this dataframe to an interactive table.\"\n",
              "              style=\"display:none;\">\n",
              "        \n",
              "  <svg xmlns=\"http://www.w3.org/2000/svg\" height=\"24px\"viewBox=\"0 0 24 24\"\n",
              "       width=\"24px\">\n",
              "    <path d=\"M0 0h24v24H0V0z\" fill=\"none\"/>\n",
              "    <path d=\"M18.56 5.44l.94 2.06.94-2.06 2.06-.94-2.06-.94-.94-2.06-.94 2.06-2.06.94zm-11 1L8.5 8.5l.94-2.06 2.06-.94-2.06-.94L8.5 2.5l-.94 2.06-2.06.94zm10 10l.94 2.06.94-2.06 2.06-.94-2.06-.94-.94-2.06-.94 2.06-2.06.94z\"/><path d=\"M17.41 7.96l-1.37-1.37c-.4-.4-.92-.59-1.43-.59-.52 0-1.04.2-1.43.59L10.3 9.45l-7.72 7.72c-.78.78-.78 2.05 0 2.83L4 21.41c.39.39.9.59 1.41.59.51 0 1.02-.2 1.41-.59l7.78-7.78 2.81-2.81c.8-.78.8-2.07 0-2.86zM5.41 20L4 18.59l7.72-7.72 1.47 1.35L5.41 20z\"/>\n",
              "  </svg>\n",
              "      </button>\n",
              "      \n",
              "  <style>\n",
              "    .colab-df-container {\n",
              "      display:flex;\n",
              "      flex-wrap:wrap;\n",
              "      gap: 12px;\n",
              "    }\n",
              "\n",
              "    .colab-df-convert {\n",
              "      background-color: #E8F0FE;\n",
              "      border: none;\n",
              "      border-radius: 50%;\n",
              "      cursor: pointer;\n",
              "      display: none;\n",
              "      fill: #1967D2;\n",
              "      height: 32px;\n",
              "      padding: 0 0 0 0;\n",
              "      width: 32px;\n",
              "    }\n",
              "\n",
              "    .colab-df-convert:hover {\n",
              "      background-color: #E2EBFA;\n",
              "      box-shadow: 0px 1px 2px rgba(60, 64, 67, 0.3), 0px 1px 3px 1px rgba(60, 64, 67, 0.15);\n",
              "      fill: #174EA6;\n",
              "    }\n",
              "\n",
              "    [theme=dark] .colab-df-convert {\n",
              "      background-color: #3B4455;\n",
              "      fill: #D2E3FC;\n",
              "    }\n",
              "\n",
              "    [theme=dark] .colab-df-convert:hover {\n",
              "      background-color: #434B5C;\n",
              "      box-shadow: 0px 1px 3px 1px rgba(0, 0, 0, 0.15);\n",
              "      filter: drop-shadow(0px 1px 2px rgba(0, 0, 0, 0.3));\n",
              "      fill: #FFFFFF;\n",
              "    }\n",
              "  </style>\n",
              "\n",
              "      <script>\n",
              "        const buttonEl =\n",
              "          document.querySelector('#df-654e46fd-41e5-414d-9ad7-dcdfb80ac999 button.colab-df-convert');\n",
              "        buttonEl.style.display =\n",
              "          google.colab.kernel.accessAllowed ? 'block' : 'none';\n",
              "\n",
              "        async function convertToInteractive(key) {\n",
              "          const element = document.querySelector('#df-654e46fd-41e5-414d-9ad7-dcdfb80ac999');\n",
              "          const dataTable =\n",
              "            await google.colab.kernel.invokeFunction('convertToInteractive',\n",
              "                                                     [key], {});\n",
              "          if (!dataTable) return;\n",
              "\n",
              "          const docLinkHtml = 'Like what you see? Visit the ' +\n",
              "            '<a target=\"_blank\" href=https://colab.research.google.com/notebooks/data_table.ipynb>data table notebook</a>'\n",
              "            + ' to learn more about interactive tables.';\n",
              "          element.innerHTML = '';\n",
              "          dataTable['output_type'] = 'display_data';\n",
              "          await google.colab.output.renderOutput(dataTable, element);\n",
              "          const docLink = document.createElement('div');\n",
              "          docLink.innerHTML = docLinkHtml;\n",
              "          element.appendChild(docLink);\n",
              "        }\n",
              "      </script>\n",
              "    </div>\n",
              "  </div>\n",
              "  "
            ]
          },
          "metadata": {},
          "execution_count": 33
        }
      ],
      "source": [
        "plot_df = pd.DataFrame(proj_2d, columns = [\"D1\", \"D2\"])\n",
        "plot_df[\"color\"] = y_test.tolist()\n",
        "plot_df.head()"
      ]
    },
    {
      "cell_type": "code",
      "execution_count": null,
      "metadata": {
        "colab": {
          "base_uri": "https://localhost:8080/",
          "height": 607
        },
        "id": "2FzsWd6W5R5B",
        "outputId": "f4c36fd6-8c49-47ed-a2f9-f62aab4377a8"
      },
      "outputs": [
        {
          "output_type": "display_data",
          "data": {
            "text/plain": [
              "<Figure size 600x600 with 1 Axes>"
            ],
            "image/png": "[encoded data removed]"
          },
          "metadata": {}
        }
      ],
      "source": [
        "plt.figure(figsize=(6,6))\n",
        "\n",
        "sns.scatterplot(x=\"D1\", y=\"D2\", s=50, hue=\"color\", data=plot_df, legend=True)\n",
        "plt.xlabel(\"UMAP 1\", fontsize=16)\n",
        "plt.ylabel(\"UMAP 2\", fontsize=16)\n",
        "plt.xticks(fontsize=16)\n",
        "plt.yticks(fontsize=16)\n",
        "plt.savefig(f\"{path}/breast_UMAP_DseepCC.pdf\", format=\"pdf\")\n",
        "#plt.legend(prop={'size': 10}, loc=\"lower left\", ncol=2)\n",
        "plt.tight_layout()\n",
        "plt.show()"
      ]
    },
    {
      "cell_type": "markdown",
      "metadata": {
        "id": "PTHPK4cPVXOB"
      },
      "source": [
        "### Clustering metrics calculation"
      ]
    },
    {
      "cell_type": "code",
      "execution_count": null,
      "metadata": {
        "colab": {
          "base_uri": "https://localhost:8080/"
        },
        "id": "JrnLzNp8Vskf",
        "outputId": "241ed48a-698c-4598-f4a9-fd5261d298e4"
      },
      "outputs": [
        {
          "output_type": "stream",
          "name": "stderr",
          "text": [
            "/usr/local/lib/python3.9/dist-packages/sklearn/cluster/_kmeans.py:870: FutureWarning:\n",
            "\n",
            "The default value of `n_init` will change from 10 to 'auto' in 1.4. Set the value of `n_init` explicitly to suppress the warning\n",
            "\n"
          ]
        },
        {
          "output_type": "stream",
          "name": "stdout",
          "text": [
            "Silhuette score: 0.5429999828338623 Rand Index 0.636Davies-Bouldin score 0.691\n"
          ]
        }
      ],
      "source": [
        "silhouetteScore = silhouette_score(final_layer, y_test, metric=\"euclidean\")\n",
        "davies_bouldinScore = davies_bouldin_score(final_layer, y_test)\n",
        "\n",
        "km = KMeans(n_clusters=6, random_state=42)\n",
        "y_pred = km.fit_predict(final_layer)\n",
        "ari = adjusted_rand_score(y_pred, y_test)\n",
        "\n",
        "print(f\"Silhuette score: {round(silhouetteScore,3)}\", f\"Rand Index {round(ari, 3)}\" f\"Davies-Bouldin score {round(davies_bouldinScore,3)}\")"
      ]
    },
    {
      "cell_type": "markdown",
      "metadata": {
        "id": "Gb8kDCO-VRzd"
      },
      "source": [
        "## Running DeepCC on merged dataset"
      ]
    },
    {
      "cell_type": "code",
      "execution_count": null,
      "metadata": {
        "id": "aSxmltrKCU3y"
      },
      "outputs": [],
      "source": [
        "brca_meta.columns = crc_meta.columns.tolist()"
      ]
    },
    {
      "cell_type": "code",
      "execution_count": null,
      "metadata": {
        "colab": {
          "base_uri": "https://localhost:8080/"
        },
        "id": "0gkGxSGjuEcS",
        "outputId": "41c8163f-3779-4f17-864c-83dd098b2986"
      },
      "outputs": [
        {
          "output_type": "stream",
          "name": "stderr",
          "text": [
            "<ipython-input-11-be7fc7ccc014>:1: FutureWarning: The frame.append method is deprecated and will be removed from pandas in a future version. Use pandas.concat instead.\n",
            "  metadata = crc_meta.append(brca_meta)\n"
          ]
        },
        {
          "output_type": "execute_result",
          "data": {
            "text/plain": [
              "(13700, 6)"
            ]
          },
          "metadata": {},
          "execution_count": 11
        }
      ],
      "source": [
        "metadata = crc_meta.append(brca_meta)\n",
        "metadata.shape"
      ]
    },
    {
      "cell_type": "code",
      "execution_count": null,
      "metadata": {
        "colab": {
          "base_uri": "https://localhost:8080/"
        },
        "id": "G_fm9c0YB8ps",
        "outputId": "4e673efc-52c0-4fc4-8e76-6da9442ea4a4"
      },
      "outputs": [
        {
          "output_type": "stream",
          "name": "stderr",
          "text": [
            "<ipython-input-12-e4d0aecc56ab>:1: FutureWarning: The frame.append method is deprecated and will be removed from pandas in a future version. Use pandas.concat instead.\n",
            "  merged_df = crc_df.append(brca_df)\n"
          ]
        },
        {
          "output_type": "execute_result",
          "data": {
            "text/plain": [
              "(13700, 22596)"
            ]
          },
          "metadata": {},
          "execution_count": 12
        }
      ],
      "source": [
        "merged_df = crc_df.append(brca_df)\n",
        "merged_df.shape"
      ]
    },
    {
      "cell_type": "code",
      "execution_count": null,
      "metadata": {
        "id": "xdv5chXWKhlt"
      },
      "outputs": [],
      "source": [
        "del crc_meta, brca_df, crc_df, brca_meta"
      ]
    },
    {
      "cell_type": "code",
      "execution_count": null,
      "metadata": {
        "id": "uHtv7-iJCHKe"
      },
      "outputs": [],
      "source": [
        "X_train, X_test, y_train, y_test = train_test_split(merged_df, metadata[\"Label\"], test_size=0.20, random_state=42, stratify=metadata[\"Label\"])"
      ]
    },
    {
      "cell_type": "code",
      "execution_count": null,
      "metadata": {
        "colab": {
          "base_uri": "https://localhost:8080/"
        },
        "id": "5ZIl_w3KCmmK",
        "outputId": "2734232b-d082-4957-c9c1-ac784287297c"
      },
      "outputs": [
        {
          "output_type": "stream",
          "name": "stdout",
          "text": [
            "Before Counter({'Luminal A': 3896, 'Luminal B': 2082, 'Basal-like': 1418, 'Her2': 927, 'CMS2': 848, 'Normal-like': 529, 'CMS4': 506, 'CMS1': 336, 'CMS3': 259, 'Claudin-low': 159})\n",
            "After Counter({0: 3986, 4: 3946, 2: 3920, 3: 3919, 7: 3896, 5: 3896, 9: 3890, 1: 3875, 6: 3797, 8: 3718})\n"
          ]
        }
      ],
      "source": [
        "mapp = LabelEncoder()\n",
        "\n",
        "y_train_adasyn = mapp.fit_transform(y_train).ravel()\n",
        "\n",
        "before_counter = Counter(y_train)\n",
        "print('Before', before_counter)\n",
        "\n",
        "ada = ADASYN(random_state=0, sampling_strategy='all')\n",
        "x_train_ada, y_train_ada = ada.fit_resample(X_train, y_train_adasyn)\n",
        "\n",
        "after_counter = Counter(y_train_ada)\n",
        "print('After', after_counter)"
      ]
    },
    {
      "cell_type": "code",
      "source": [
        "x_train_ada.to_pickle(f\"{path}/x_train_ada.pkl\") \n",
        "pd.DataFrame(y_train_ada).to_pickle(f\"{path}/y_train_ada.pkl\")\n",
        "\n",
        "X_test.to_pickle(f\"{path}/X_test.pkl\")\n",
        "pd.DataFrame(y_test).to_pickle(f\"{path}/y_test.pkl\")"
      ],
      "metadata": {
        "id": "WOt-AAurbBCZ"
      },
      "execution_count": null,
      "outputs": []
    },
    {
      "cell_type": "code",
      "execution_count": null,
      "metadata": {
        "id": "ykkKJ80EKveG"
      },
      "outputs": [],
      "source": [
        "del merged_df, y_train_adasyn, metadata"
      ]
    },
    {
      "cell_type": "code",
      "execution_count": null,
      "metadata": {
        "id": "0hbaiGEfCmuw"
      },
      "outputs": [],
      "source": [
        "X_train, X_val, y_train, y_val = train_test_split(x_train_ada, y_train_ada, test_size=0.20, random_state=42, stratify=y_train_ada)"
      ]
    },
    {
      "cell_type": "code",
      "execution_count": null,
      "metadata": {
        "id": "EpkRqkMvC1Zt",
        "colab": {
          "base_uri": "https://localhost:8080/"
        },
        "outputId": "09a50470-0b17-4dd7-866e-ff6461fad6d8"
      },
      "outputs": [
        {
          "output_type": "stream",
          "name": "stderr",
          "text": [
            "/usr/local/lib/python3.9/dist-packages/keras/initializers/initializers_v2.py:120: UserWarning: The initializer GlorotNormal is unseeded and being called multiple times, which will return identical values  each time (even if the initializer is unseeded). Please update your code to provide a seed to the initializer, or avoid using the same initalizer instance more than once.\n",
            "  warnings.warn(\n"
          ]
        }
      ],
      "source": [
        "original_dim = 22596\n",
        "dim1 = 1024\n",
        "dim2 = 256\n",
        "dim3 = 64\n",
        "dim4 = 64\n",
        "dim5 = 10\n",
        "dropout_rate = 0.4\n",
        "epochs = 100\n",
        "batch_size=1024\n",
        "\n",
        "model = keras.Sequential()\n",
        "model.add(Input(shape=(original_dim,)))\n",
        "model.add(BatchNormalization())\n",
        "initializer = keras.initializers.GlorotNormal()\n",
        "model.add(Dense(dim1, activation='tanh', kernel_initializer=initializer))\n",
        "model.add(Dropout(rate=dropout_rate))\n",
        "model.add(Dense(dim2, activation='tanh', kernel_initializer=initializer))\n",
        "model.add(Dropout(rate=dropout_rate))\n",
        "model.add(Dense(dim3, activation='tanh', kernel_initializer=initializer))\n",
        "model.add(Dropout(rate=dropout_rate))\n",
        "model.add(Dense(dim4, activation='tanh', kernel_initializer=initializer))\n",
        "model.add(Dropout(rate=dropout_rate))\n",
        "model.add(Dense(dim5, activation='tanh', kernel_initializer=initializer))\n",
        "model.add(Dropout(rate=dropout_rate))\n",
        "model.add(Dense(dim5, activation='softmax'))"
      ]
    },
    {
      "cell_type": "code",
      "execution_count": null,
      "metadata": {
        "id": "7_dZRJ-2C_ex"
      },
      "outputs": [],
      "source": [
        "optimizer = keras.optimizers.Adam(learning_rate=0.001, beta_1=0.9, beta_2=0.999)\n",
        "\n",
        "model.compile(optimizer=optimizer, loss=\"sparse_categorical_crossentropy\", metrics=\"accuracy\")"
      ]
    },
    {
      "cell_type": "code",
      "source": [
        "del x_train_ada, y_train_ada"
      ],
      "metadata": {
        "id": "CR5nN7_9dNTn"
      },
      "execution_count": null,
      "outputs": []
    },
    {
      "cell_type": "code",
      "execution_count": null,
      "metadata": {
        "id": "X1h1UlgxDIg5",
        "colab": {
          "base_uri": "https://localhost:8080/"
        },
        "outputId": "411b2dbb-43c1-4468-d87f-b6aff9d392ae"
      },
      "outputs": [
        {
          "output_type": "stream",
          "name": "stdout",
          "text": [
            "Epoch 1/100\n",
            "31/31 [==============================] - 17s 291ms/step - loss: 2.1285 - accuracy: 0.2319 - val_loss: 1.6390 - val_accuracy: 0.4927\n",
            "Epoch 2/100\n",
            "31/31 [==============================] - 4s 123ms/step - loss: 1.8363 - accuracy: 0.3416 - val_loss: 1.4067 - val_accuracy: 0.6283\n",
            "Epoch 3/100\n",
            "31/31 [==============================] - 4s 123ms/step - loss: 1.6530 - accuracy: 0.4209 - val_loss: 1.1813 - val_accuracy: 0.7258\n",
            "Epoch 4/100\n",
            "31/31 [==============================] - 4s 128ms/step - loss: 1.4803 - accuracy: 0.5013 - val_loss: 1.0057 - val_accuracy: 0.7926\n",
            "Epoch 5/100\n",
            "31/31 [==============================] - 4s 124ms/step - loss: 1.3660 - accuracy: 0.5534 - val_loss: 0.8944 - val_accuracy: 0.8157\n",
            "Epoch 6/100\n",
            "31/31 [==============================] - 4s 118ms/step - loss: 1.2602 - accuracy: 0.6002 - val_loss: 0.7914 - val_accuracy: 0.8342\n",
            "Epoch 7/100\n",
            "31/31 [==============================] - 4s 119ms/step - loss: 1.1907 - accuracy: 0.6311 - val_loss: 0.7225 - val_accuracy: 0.8396\n",
            "Epoch 8/100\n",
            "31/31 [==============================] - 4s 117ms/step - loss: 1.1262 - accuracy: 0.6562 - val_loss: 0.6712 - val_accuracy: 0.8525\n",
            "Epoch 9/100\n",
            "31/31 [==============================] - 4s 118ms/step - loss: 1.0879 - accuracy: 0.6715 - val_loss: 0.6239 - val_accuracy: 0.8589\n",
            "Epoch 10/100\n",
            "31/31 [==============================] - 4s 117ms/step - loss: 1.0281 - accuracy: 0.6927 - val_loss: 0.5831 - val_accuracy: 0.8638\n",
            "Epoch 11/100\n",
            "31/31 [==============================] - 4s 122ms/step - loss: 0.9962 - accuracy: 0.7026 - val_loss: 0.5548 - val_accuracy: 0.8641\n",
            "Epoch 12/100\n",
            "31/31 [==============================] - 4s 116ms/step - loss: 1.0127 - accuracy: 0.7016 - val_loss: 0.5378 - val_accuracy: 0.8648\n",
            "Epoch 13/100\n",
            "31/31 [==============================] - 4s 116ms/step - loss: 0.9720 - accuracy: 0.7109 - val_loss: 0.5086 - val_accuracy: 0.8741\n",
            "Epoch 14/100\n",
            "31/31 [==============================] - 4s 124ms/step - loss: 0.9439 - accuracy: 0.7230 - val_loss: 0.4905 - val_accuracy: 0.8722\n",
            "Epoch 15/100\n",
            "31/31 [==============================] - 4s 118ms/step - loss: 0.9237 - accuracy: 0.7277 - val_loss: 0.4846 - val_accuracy: 0.8740\n",
            "Epoch 16/100\n",
            "31/31 [==============================] - 4s 116ms/step - loss: 0.9103 - accuracy: 0.7342 - val_loss: 0.4522 - val_accuracy: 0.8803\n",
            "Epoch 17/100\n",
            "31/31 [==============================] - 4s 117ms/step - loss: 0.8773 - accuracy: 0.7431 - val_loss: 0.4333 - val_accuracy: 0.8847\n",
            "Epoch 18/100\n",
            "31/31 [==============================] - 4s 124ms/step - loss: 0.8330 - accuracy: 0.7584 - val_loss: 0.4203 - val_accuracy: 0.8884\n",
            "Epoch 19/100\n",
            "31/31 [==============================] - 4s 117ms/step - loss: 0.8030 - accuracy: 0.7706 - val_loss: 0.4110 - val_accuracy: 0.8878\n",
            "Epoch 20/100\n",
            "31/31 [==============================] - 4s 118ms/step - loss: 0.8216 - accuracy: 0.7643 - val_loss: 0.4109 - val_accuracy: 0.8848\n",
            "Epoch 21/100\n",
            "31/31 [==============================] - 4s 121ms/step - loss: 0.7950 - accuracy: 0.7687 - val_loss: 0.4006 - val_accuracy: 0.8934\n",
            "Epoch 22/100\n",
            "31/31 [==============================] - 4s 120ms/step - loss: 0.7777 - accuracy: 0.7775 - val_loss: 0.3823 - val_accuracy: 0.8952\n",
            "Epoch 23/100\n",
            "31/31 [==============================] - 4s 116ms/step - loss: 0.7587 - accuracy: 0.7826 - val_loss: 0.3745 - val_accuracy: 0.8968\n",
            "Epoch 24/100\n",
            "31/31 [==============================] - 4s 119ms/step - loss: 0.7683 - accuracy: 0.7773 - val_loss: 0.3736 - val_accuracy: 0.8957\n",
            "Epoch 25/100\n",
            "31/31 [==============================] - 4s 125ms/step - loss: 0.7529 - accuracy: 0.7827 - val_loss: 0.3460 - val_accuracy: 0.9032\n",
            "Epoch 26/100\n",
            "31/31 [==============================] - 4s 115ms/step - loss: 0.7424 - accuracy: 0.7869 - val_loss: 0.3539 - val_accuracy: 0.9027\n",
            "Epoch 27/100\n",
            "31/31 [==============================] - 4s 116ms/step - loss: 0.7428 - accuracy: 0.7876 - val_loss: 0.3432 - val_accuracy: 0.9013\n",
            "Epoch 28/100\n",
            "31/31 [==============================] - 4s 119ms/step - loss: 0.7374 - accuracy: 0.7861 - val_loss: 0.3448 - val_accuracy: 0.9033\n",
            "Epoch 29/100\n",
            "31/31 [==============================] - 4s 121ms/step - loss: 0.7193 - accuracy: 0.7944 - val_loss: 0.3354 - val_accuracy: 0.9041\n",
            "Epoch 30/100\n",
            "31/31 [==============================] - 4s 118ms/step - loss: 0.6860 - accuracy: 0.8005 - val_loss: 0.3124 - val_accuracy: 0.9132\n",
            "Epoch 31/100\n",
            "31/31 [==============================] - 4s 120ms/step - loss: 0.6545 - accuracy: 0.8122 - val_loss: 0.3126 - val_accuracy: 0.9086\n",
            "Epoch 32/100\n",
            "31/31 [==============================] - 4s 133ms/step - loss: 0.6522 - accuracy: 0.8115 - val_loss: 0.3070 - val_accuracy: 0.9140\n",
            "Epoch 33/100\n",
            "31/31 [==============================] - 4s 118ms/step - loss: 0.6541 - accuracy: 0.8132 - val_loss: 0.3185 - val_accuracy: 0.9141\n",
            "Epoch 34/100\n",
            "31/31 [==============================] - 4s 119ms/step - loss: 0.6740 - accuracy: 0.8081 - val_loss: 0.2991 - val_accuracy: 0.9168\n",
            "Epoch 35/100\n",
            "31/31 [==============================] - 4s 119ms/step - loss: 0.6732 - accuracy: 0.8059 - val_loss: 0.2946 - val_accuracy: 0.9184\n",
            "Epoch 36/100\n",
            "31/31 [==============================] - 4s 119ms/step - loss: 0.6449 - accuracy: 0.8162 - val_loss: 0.2876 - val_accuracy: 0.9211\n",
            "Epoch 37/100\n",
            "31/31 [==============================] - 4s 119ms/step - loss: 0.6336 - accuracy: 0.8168 - val_loss: 0.2884 - val_accuracy: 0.9201\n",
            "Epoch 38/100\n",
            "31/31 [==============================] - 4s 121ms/step - loss: 0.6136 - accuracy: 0.8199 - val_loss: 0.2672 - val_accuracy: 0.9248\n",
            "Epoch 39/100\n",
            "31/31 [==============================] - 4s 123ms/step - loss: 0.6136 - accuracy: 0.8213 - val_loss: 0.2780 - val_accuracy: 0.9214\n",
            "Epoch 40/100\n",
            "31/31 [==============================] - 4s 120ms/step - loss: 0.6244 - accuracy: 0.8232 - val_loss: 0.3052 - val_accuracy: 0.9196\n",
            "Epoch 41/100\n",
            "31/31 [==============================] - 4s 120ms/step - loss: 0.5931 - accuracy: 0.8317 - val_loss: 0.2646 - val_accuracy: 0.9256\n",
            "Epoch 42/100\n",
            "31/31 [==============================] - 4s 117ms/step - loss: 0.5640 - accuracy: 0.8387 - val_loss: 0.2571 - val_accuracy: 0.9283\n",
            "Epoch 43/100\n",
            "31/31 [==============================] - 4s 119ms/step - loss: 0.5586 - accuracy: 0.8399 - val_loss: 0.2598 - val_accuracy: 0.9291\n",
            "Epoch 44/100\n",
            "31/31 [==============================] - 4s 117ms/step - loss: 0.5597 - accuracy: 0.8380 - val_loss: 0.2497 - val_accuracy: 0.9322\n",
            "Epoch 45/100\n",
            "31/31 [==============================] - 4s 118ms/step - loss: 0.5880 - accuracy: 0.8294 - val_loss: 0.2614 - val_accuracy: 0.9250\n",
            "Epoch 46/100\n",
            "31/31 [==============================] - 4s 124ms/step - loss: 0.5812 - accuracy: 0.8314 - val_loss: 0.2469 - val_accuracy: 0.9311\n",
            "Epoch 47/100\n",
            "31/31 [==============================] - 4s 117ms/step - loss: 0.5455 - accuracy: 0.8407 - val_loss: 0.2443 - val_accuracy: 0.9320\n",
            "Epoch 48/100\n",
            "31/31 [==============================] - 4s 119ms/step - loss: 0.5597 - accuracy: 0.8384 - val_loss: 0.2438 - val_accuracy: 0.9318\n",
            "Epoch 49/100\n",
            "31/31 [==============================] - 4s 119ms/step - loss: 0.5691 - accuracy: 0.8360 - val_loss: 0.2483 - val_accuracy: 0.9313\n",
            "Epoch 50/100\n",
            "31/31 [==============================] - 4s 120ms/step - loss: 0.5293 - accuracy: 0.8473 - val_loss: 0.2459 - val_accuracy: 0.9315\n",
            "Epoch 51/100\n",
            "31/31 [==============================] - 4s 117ms/step - loss: 0.5271 - accuracy: 0.8465 - val_loss: 0.2392 - val_accuracy: 0.9344\n",
            "Epoch 52/100\n",
            "31/31 [==============================] - 4s 117ms/step - loss: 0.5295 - accuracy: 0.8485 - val_loss: 0.2317 - val_accuracy: 0.9365\n",
            "Epoch 53/100\n",
            "31/31 [==============================] - 4s 122ms/step - loss: 0.5304 - accuracy: 0.8481 - val_loss: 0.2557 - val_accuracy: 0.9313\n",
            "Epoch 54/100\n",
            "31/31 [==============================] - 4s 119ms/step - loss: 0.5477 - accuracy: 0.8432 - val_loss: 0.2212 - val_accuracy: 0.9378\n",
            "Epoch 55/100\n",
            "31/31 [==============================] - 4s 119ms/step - loss: 0.5046 - accuracy: 0.8562 - val_loss: 0.2228 - val_accuracy: 0.9369\n",
            "Epoch 56/100\n",
            "31/31 [==============================] - 4s 116ms/step - loss: 0.4958 - accuracy: 0.8555 - val_loss: 0.2171 - val_accuracy: 0.9386\n",
            "Epoch 57/100\n",
            "31/31 [==============================] - 4s 120ms/step - loss: 0.4777 - accuracy: 0.8611 - val_loss: 0.2189 - val_accuracy: 0.9386\n",
            "Epoch 58/100\n",
            "31/31 [==============================] - 4s 119ms/step - loss: 0.4848 - accuracy: 0.8596 - val_loss: 0.2031 - val_accuracy: 0.9431\n",
            "Epoch 59/100\n",
            "31/31 [==============================] - 4s 116ms/step - loss: 0.4974 - accuracy: 0.8552 - val_loss: 0.2210 - val_accuracy: 0.9381\n",
            "Epoch 60/100\n",
            "31/31 [==============================] - 4s 120ms/step - loss: 0.4628 - accuracy: 0.8641 - val_loss: 0.2149 - val_accuracy: 0.9412\n",
            "Epoch 61/100\n",
            "31/31 [==============================] - 4s 120ms/step - loss: 0.4729 - accuracy: 0.8606 - val_loss: 0.2055 - val_accuracy: 0.9414\n",
            "Epoch 62/100\n",
            "31/31 [==============================] - 4s 119ms/step - loss: 0.4784 - accuracy: 0.8611 - val_loss: 0.1982 - val_accuracy: 0.9447\n",
            "Epoch 63/100\n",
            "31/31 [==============================] - 4s 117ms/step - loss: 0.4699 - accuracy: 0.8652 - val_loss: 0.1980 - val_accuracy: 0.9453\n",
            "Epoch 64/100\n",
            "31/31 [==============================] - 4s 121ms/step - loss: 0.4726 - accuracy: 0.8607 - val_loss: 0.1997 - val_accuracy: 0.9452\n",
            "Epoch 65/100\n",
            "31/31 [==============================] - 4s 118ms/step - loss: 0.4581 - accuracy: 0.8685 - val_loss: 0.1937 - val_accuracy: 0.9427\n",
            "Epoch 66/100\n",
            "31/31 [==============================] - 4s 123ms/step - loss: 0.4556 - accuracy: 0.8682 - val_loss: 0.1923 - val_accuracy: 0.9468\n",
            "Epoch 67/100\n",
            "31/31 [==============================] - 4s 120ms/step - loss: 0.4379 - accuracy: 0.8712 - val_loss: 0.1945 - val_accuracy: 0.9452\n",
            "Epoch 68/100\n",
            "31/31 [==============================] - 4s 120ms/step - loss: 0.4400 - accuracy: 0.8709 - val_loss: 0.1893 - val_accuracy: 0.9459\n",
            "Epoch 69/100\n",
            "31/31 [==============================] - 4s 116ms/step - loss: 0.4420 - accuracy: 0.8714 - val_loss: 0.1886 - val_accuracy: 0.9458\n",
            "Epoch 70/100\n",
            "31/31 [==============================] - 4s 117ms/step - loss: 0.4332 - accuracy: 0.8751 - val_loss: 0.1903 - val_accuracy: 0.9489\n",
            "Epoch 71/100\n",
            "31/31 [==============================] - 4s 122ms/step - loss: 0.4366 - accuracy: 0.8729 - val_loss: 0.1751 - val_accuracy: 0.9502\n",
            "Epoch 72/100\n",
            "31/31 [==============================] - 4s 116ms/step - loss: 0.4303 - accuracy: 0.8745 - val_loss: 0.2035 - val_accuracy: 0.9430\n",
            "Epoch 73/100\n",
            "31/31 [==============================] - 4s 119ms/step - loss: 0.4404 - accuracy: 0.8701 - val_loss: 0.1969 - val_accuracy: 0.9440\n",
            "Epoch 74/100\n",
            "31/31 [==============================] - 4s 121ms/step - loss: 0.4459 - accuracy: 0.8677 - val_loss: 0.1813 - val_accuracy: 0.9466\n",
            "Epoch 75/100\n",
            "31/31 [==============================] - 4s 118ms/step - loss: 0.4320 - accuracy: 0.8719 - val_loss: 0.1806 - val_accuracy: 0.9477\n",
            "Epoch 76/100\n",
            "31/31 [==============================] - 4s 117ms/step - loss: 0.4450 - accuracy: 0.8697 - val_loss: 0.1879 - val_accuracy: 0.9476\n",
            "Epoch 77/100\n",
            "31/31 [==============================] - 4s 120ms/step - loss: 0.4265 - accuracy: 0.8713 - val_loss: 0.1934 - val_accuracy: 0.9475\n",
            "Epoch 78/100\n",
            "31/31 [==============================] - 4s 121ms/step - loss: 0.4517 - accuracy: 0.8698 - val_loss: 0.1743 - val_accuracy: 0.9508\n",
            "Epoch 79/100\n",
            "31/31 [==============================] - 4s 123ms/step - loss: 0.4267 - accuracy: 0.8749 - val_loss: 0.1711 - val_accuracy: 0.9515\n",
            "Epoch 80/100\n",
            "31/31 [==============================] - 4s 118ms/step - loss: 0.4280 - accuracy: 0.8722 - val_loss: 0.1759 - val_accuracy: 0.9506\n",
            "Epoch 81/100\n",
            "31/31 [==============================] - 4s 123ms/step - loss: 0.4132 - accuracy: 0.8771 - val_loss: 0.1650 - val_accuracy: 0.9531\n",
            "Epoch 82/100\n",
            "31/31 [==============================] - 4s 120ms/step - loss: 0.4192 - accuracy: 0.8763 - val_loss: 0.1610 - val_accuracy: 0.9540\n",
            "Epoch 83/100\n",
            "31/31 [==============================] - 4s 119ms/step - loss: 0.3847 - accuracy: 0.8855 - val_loss: 0.1601 - val_accuracy: 0.9556\n",
            "Epoch 84/100\n",
            "31/31 [==============================] - 4s 118ms/step - loss: 0.3788 - accuracy: 0.8871 - val_loss: 0.1748 - val_accuracy: 0.9516\n",
            "Epoch 85/100\n",
            "31/31 [==============================] - 4s 119ms/step - loss: 0.3913 - accuracy: 0.8854 - val_loss: 0.1679 - val_accuracy: 0.9544\n",
            "Epoch 86/100\n",
            "31/31 [==============================] - 4s 117ms/step - loss: 0.3825 - accuracy: 0.8869 - val_loss: 0.1659 - val_accuracy: 0.9534\n",
            "Epoch 87/100\n",
            "31/31 [==============================] - 4s 117ms/step - loss: 0.3895 - accuracy: 0.8851 - val_loss: 0.1698 - val_accuracy: 0.9530\n",
            "Epoch 88/100\n",
            "31/31 [==============================] - 4s 121ms/step - loss: 0.3723 - accuracy: 0.8887 - val_loss: 0.1673 - val_accuracy: 0.9543\n",
            "Epoch 89/100\n",
            "31/31 [==============================] - 4s 121ms/step - loss: 0.3748 - accuracy: 0.8858 - val_loss: 0.1687 - val_accuracy: 0.9535\n",
            "Epoch 90/100\n",
            "31/31 [==============================] - 4s 120ms/step - loss: 0.3602 - accuracy: 0.8923 - val_loss: 0.1591 - val_accuracy: 0.9549\n",
            "Epoch 91/100\n",
            "31/31 [==============================] - 4s 118ms/step - loss: 0.3566 - accuracy: 0.8921 - val_loss: 0.1663 - val_accuracy: 0.9529\n",
            "Epoch 92/100\n",
            "31/31 [==============================] - 4s 124ms/step - loss: 0.3629 - accuracy: 0.8897 - val_loss: 0.1610 - val_accuracy: 0.9561\n",
            "Epoch 93/100\n",
            "31/31 [==============================] - 4s 117ms/step - loss: 0.3717 - accuracy: 0.8868 - val_loss: 0.1615 - val_accuracy: 0.9556\n",
            "Epoch 94/100\n",
            "31/31 [==============================] - 4s 117ms/step - loss: 0.3827 - accuracy: 0.8868 - val_loss: 0.1578 - val_accuracy: 0.9559\n",
            "Epoch 95/100\n",
            "31/31 [==============================] - 4s 122ms/step - loss: 0.3921 - accuracy: 0.8823 - val_loss: 0.1702 - val_accuracy: 0.9542\n",
            "Epoch 96/100\n",
            "31/31 [==============================] - 4s 120ms/step - loss: 0.4016 - accuracy: 0.8809 - val_loss: 0.1603 - val_accuracy: 0.9556\n",
            "Epoch 97/100\n",
            "31/31 [==============================] - 4s 118ms/step - loss: 0.3772 - accuracy: 0.8900 - val_loss: 0.1512 - val_accuracy: 0.9579\n",
            "Epoch 98/100\n",
            "31/31 [==============================] - 4s 117ms/step - loss: 0.3814 - accuracy: 0.8866 - val_loss: 0.1534 - val_accuracy: 0.9587\n",
            "Epoch 99/100\n",
            "31/31 [==============================] - 4s 124ms/step - loss: 0.3757 - accuracy: 0.8895 - val_loss: 0.1478 - val_accuracy: 0.9591\n",
            "Epoch 100/100\n",
            "31/31 [==============================] - 4s 120ms/step - loss: 0.3724 - accuracy: 0.8893 - val_loss: 0.1574 - val_accuracy: 0.9574\n"
          ]
        }
      ],
      "source": [
        "history = model.fit(X_train, y_train,\n",
        "                epochs=epochs,\n",
        "                batch_size=batch_size, \n",
        "                validation_data=(X_val, y_val))"
      ]
    },
    {
      "cell_type": "code",
      "source": [
        "del X_train, y_train, X_val, y_val"
      ],
      "metadata": {
        "id": "cUAG3dihdl4q"
      },
      "execution_count": null,
      "outputs": []
    },
    {
      "cell_type": "code",
      "execution_count": null,
      "metadata": {
        "id": "oCKe4V8SDH-O",
        "colab": {
          "base_uri": "https://localhost:8080/",
          "height": 447
        },
        "outputId": "174e40c2-fc64-4164-9f4d-4d0d29089f7e"
      },
      "outputs": [
        {
          "output_type": "execute_result",
          "data": {
            "text/plain": [
              "<matplotlib.legend.Legend at 0x7f3e16b4ec10>"
            ]
          },
          "metadata": {},
          "execution_count": 24
        },
        {
          "output_type": "display_data",
          "data": {
            "text/plain": [
              "<Figure size 640x480 with 1 Axes>"
            ],
            "image/png": "[encoded data removed]"
          },
          "metadata": {}
        }
      ],
      "source": [
        "plt.plot(history.history[\"loss\"], label=\"Training Loss\")\n",
        "plt.plot(history.history[\"val_loss\"], label=\"Validation Loss\")\n",
        "plt.legend()"
      ]
    },
    {
      "cell_type": "code",
      "execution_count": null,
      "metadata": {
        "id": "0h4-ESuhE50z",
        "colab": {
          "base_uri": "https://localhost:8080/",
          "height": 441
        },
        "outputId": "182e074a-d7f1-48b5-96fe-5df6101b7317"
      },
      "outputs": [
        {
          "output_type": "stream",
          "name": "stdout",
          "text": [
            "3/3 [==============================] - 0s 68ms/step\n"
          ]
        },
        {
          "output_type": "execute_result",
          "data": {
            "text/plain": [
              "             0             1         2             3         4         5  \\\n",
              "0     0.001294  6.006395e-08  0.992990  9.006394e-05  0.000975  0.000329   \n",
              "1     0.000002  4.168650e-04  0.001313  6.304747e-04  0.000919  0.000012   \n",
              "2     0.000003  4.664846e-04  0.001465  6.812452e-04  0.001051  0.000015   \n",
              "3     0.000012  1.904187e-04  0.003529  2.018641e-04  0.002292  0.000043   \n",
              "4     0.000002  4.071176e-04  0.001314  6.251057e-04  0.000907  0.000012   \n",
              "...        ...           ...       ...           ...       ...       ...   \n",
              "2735  0.001187  6.449345e-04  0.000981  6.443947e-04  0.000840  0.000635   \n",
              "2736  0.000165  6.761812e-05  0.000750  6.649496e-08  0.993868  0.000558   \n",
              "2737  0.000009  4.027846e-04  0.003858  4.058939e-04  0.002967  0.000049   \n",
              "2738  0.000002  4.163886e-04  0.001392  6.325329e-04  0.000968  0.000013   \n",
              "2739  0.000002  5.228933e-04  0.001322  5.974887e-04  0.001206  0.000016   \n",
              "\n",
              "             6         7         8         9  \n",
              "0     0.000448  0.001257  0.002021  0.000597  \n",
              "1     0.000181  0.962603  0.028146  0.005776  \n",
              "2     0.000164  0.963100  0.024922  0.008132  \n",
              "3     0.015306  0.045955  0.932422  0.000048  \n",
              "4     0.000196  0.960841  0.030530  0.005166  \n",
              "...        ...       ...       ...       ...  \n",
              "2735  0.000002  0.006119  0.000048  0.988899  \n",
              "2736  0.000493  0.001510  0.001889  0.000700  \n",
              "2737  0.008558  0.163207  0.820329  0.000215  \n",
              "2738  0.000179  0.962564  0.027600  0.006233  \n",
              "2739  0.000341  0.939324  0.053101  0.003567  \n",
              "\n",
              "[2740 rows x 10 columns]"
            ],
            "text/html": [
              "\n",
              "  <div id=\"df-c20974dc-5563-44f1-a6ae-4ac1a302e653\">\n",
              "    <div class=\"colab-df-container\">\n",
              "      <div>\n",
              "<style scoped>\n",
              "    .dataframe tbody tr th:only-of-type {\n",
              "        vertical-align: middle;\n",
              "    }\n",
              "\n",
              "    .dataframe tbody tr th {\n",
              "        vertical-align: top;\n",
              "    }\n",
              "\n",
              "    .dataframe thead th {\n",
              "        text-align: right;\n",
              "    }\n",
              "</style>\n",
              "<table border=\"1\" class=\"dataframe\">\n",
              "  <thead>\n",
              "    <tr style=\"text-align: right;\">\n",
              "      <th></th>\n",
              "      <th>0</th>\n",
              "      <th>1</th>\n",
              "      <th>2</th>\n",
              "      <th>3</th>\n",
              "      <th>4</th>\n",
              "      <th>5</th>\n",
              "      <th>6</th>\n",
              "      <th>7</th>\n",
              "      <th>8</th>\n",
              "      <th>9</th>\n",
              "    </tr>\n",
              "  </thead>\n",
              "  <tbody>\n",
              "    <tr>\n",
              "      <th>0</th>\n",
              "      <td>0.001294</td>\n",
              "      <td>6.006395e-08</td>\n",
              "      <td>0.992990</td>\n",
              "      <td>9.006394e-05</td>\n",
              "      <td>0.000975</td>\n",
              "      <td>0.000329</td>\n",
              "      <td>0.000448</td>\n",
              "      <td>0.001257</td>\n",
              "      <td>0.002021</td>\n",
              "      <td>0.000597</td>\n",
              "    </tr>\n",
              "    <tr>\n",
              "      <th>1</th>\n",
              "      <td>0.000002</td>\n",
              "      <td>4.168650e-04</td>\n",
              "      <td>0.001313</td>\n",
              "      <td>6.304747e-04</td>\n",
              "      <td>0.000919</td>\n",
              "      <td>0.000012</td>\n",
              "      <td>0.000181</td>\n",
              "      <td>0.962603</td>\n",
              "      <td>0.028146</td>\n",
              "      <td>0.005776</td>\n",
              "    </tr>\n",
              "    <tr>\n",
              "      <th>2</th>\n",
              "      <td>0.000003</td>\n",
              "      <td>4.664846e-04</td>\n",
              "      <td>0.001465</td>\n",
              "      <td>6.812452e-04</td>\n",
              "      <td>0.001051</td>\n",
              "      <td>0.000015</td>\n",
              "      <td>0.000164</td>\n",
              "      <td>0.963100</td>\n",
              "      <td>0.024922</td>\n",
              "      <td>0.008132</td>\n",
              "    </tr>\n",
              "    <tr>\n",
              "      <th>3</th>\n",
              "      <td>0.000012</td>\n",
              "      <td>1.904187e-04</td>\n",
              "      <td>0.003529</td>\n",
              "      <td>2.018641e-04</td>\n",
              "      <td>0.002292</td>\n",
              "      <td>0.000043</td>\n",
              "      <td>0.015306</td>\n",
              "      <td>0.045955</td>\n",
              "      <td>0.932422</td>\n",
              "      <td>0.000048</td>\n",
              "    </tr>\n",
              "    <tr>\n",
              "      <th>4</th>\n",
              "      <td>0.000002</td>\n",
              "      <td>4.071176e-04</td>\n",
              "      <td>0.001314</td>\n",
              "      <td>6.251057e-04</td>\n",
              "      <td>0.000907</td>\n",
              "      <td>0.000012</td>\n",
              "      <td>0.000196</td>\n",
              "      <td>0.960841</td>\n",
              "      <td>0.030530</td>\n",
              "      <td>0.005166</td>\n",
              "    </tr>\n",
              "    <tr>\n",
              "      <th>...</th>\n",
              "      <td>...</td>\n",
              "      <td>...</td>\n",
              "      <td>...</td>\n",
              "      <td>...</td>\n",
              "      <td>...</td>\n",
              "      <td>...</td>\n",
              "      <td>...</td>\n",
              "      <td>...</td>\n",
              "      <td>...</td>\n",
              "      <td>...</td>\n",
              "    </tr>\n",
              "    <tr>\n",
              "      <th>2735</th>\n",
              "      <td>0.001187</td>\n",
              "      <td>6.449345e-04</td>\n",
              "      <td>0.000981</td>\n",
              "      <td>6.443947e-04</td>\n",
              "      <td>0.000840</td>\n",
              "      <td>0.000635</td>\n",
              "      <td>0.000002</td>\n",
              "      <td>0.006119</td>\n",
              "      <td>0.000048</td>\n",
              "      <td>0.988899</td>\n",
              "    </tr>\n",
              "    <tr>\n",
              "      <th>2736</th>\n",
              "      <td>0.000165</td>\n",
              "      <td>6.761812e-05</td>\n",
              "      <td>0.000750</td>\n",
              "      <td>6.649496e-08</td>\n",
              "      <td>0.993868</td>\n",
              "      <td>0.000558</td>\n",
              "      <td>0.000493</td>\n",
              "      <td>0.001510</td>\n",
              "      <td>0.001889</td>\n",
              "      <td>0.000700</td>\n",
              "    </tr>\n",
              "    <tr>\n",
              "      <th>2737</th>\n",
              "      <td>0.000009</td>\n",
              "      <td>4.027846e-04</td>\n",
              "      <td>0.003858</td>\n",
              "      <td>4.058939e-04</td>\n",
              "      <td>0.002967</td>\n",
              "      <td>0.000049</td>\n",
              "      <td>0.008558</td>\n",
              "      <td>0.163207</td>\n",
              "      <td>0.820329</td>\n",
              "      <td>0.000215</td>\n",
              "    </tr>\n",
              "    <tr>\n",
              "      <th>2738</th>\n",
              "      <td>0.000002</td>\n",
              "      <td>4.163886e-04</td>\n",
              "      <td>0.001392</td>\n",
              "      <td>6.325329e-04</td>\n",
              "      <td>0.000968</td>\n",
              "      <td>0.000013</td>\n",
              "      <td>0.000179</td>\n",
              "      <td>0.962564</td>\n",
              "      <td>0.027600</td>\n",
              "      <td>0.006233</td>\n",
              "    </tr>\n",
              "    <tr>\n",
              "      <th>2739</th>\n",
              "      <td>0.000002</td>\n",
              "      <td>5.228933e-04</td>\n",
              "      <td>0.001322</td>\n",
              "      <td>5.974887e-04</td>\n",
              "      <td>0.001206</td>\n",
              "      <td>0.000016</td>\n",
              "      <td>0.000341</td>\n",
              "      <td>0.939324</td>\n",
              "      <td>0.053101</td>\n",
              "      <td>0.003567</td>\n",
              "    </tr>\n",
              "  </tbody>\n",
              "</table>\n",
              "<p>2740 rows × 10 columns</p>\n",
              "</div>\n",
              "      <button class=\"colab-df-convert\" onclick=\"convertToInteractive('df-c20974dc-5563-44f1-a6ae-4ac1a302e653')\"\n",
              "              title=\"Convert this dataframe to an interactive table.\"\n",
              "              style=\"display:none;\">\n",
              "        \n",
              "  <svg xmlns=\"http://www.w3.org/2000/svg\" height=\"24px\"viewBox=\"0 0 24 24\"\n",
              "       width=\"24px\">\n",
              "    <path d=\"M0 0h24v24H0V0z\" fill=\"none\"/>\n",
              "    <path d=\"M18.56 5.44l.94 2.06.94-2.06 2.06-.94-2.06-.94-.94-2.06-.94 2.06-2.06.94zm-11 1L8.5 8.5l.94-2.06 2.06-.94-2.06-.94L8.5 2.5l-.94 2.06-2.06.94zm10 10l.94 2.06.94-2.06 2.06-.94-2.06-.94-.94-2.06-.94 2.06-2.06.94z\"/><path d=\"M17.41 7.96l-1.37-1.37c-.4-.4-.92-.59-1.43-.59-.52 0-1.04.2-1.43.59L10.3 9.45l-7.72 7.72c-.78.78-.78 2.05 0 2.83L4 21.41c.39.39.9.59 1.41.59.51 0 1.02-.2 1.41-.59l7.78-7.78 2.81-2.81c.8-.78.8-2.07 0-2.86zM5.41 20L4 18.59l7.72-7.72 1.47 1.35L5.41 20z\"/>\n",
              "  </svg>\n",
              "      </button>\n",
              "      \n",
              "  <style>\n",
              "    .colab-df-container {\n",
              "      display:flex;\n",
              "      flex-wrap:wrap;\n",
              "      gap: 12px;\n",
              "    }\n",
              "\n",
              "    .colab-df-convert {\n",
              "      background-color: #E8F0FE;\n",
              "      border: none;\n",
              "      border-radius: 50%;\n",
              "      cursor: pointer;\n",
              "      display: none;\n",
              "      fill: #1967D2;\n",
              "      height: 32px;\n",
              "      padding: 0 0 0 0;\n",
              "      width: 32px;\n",
              "    }\n",
              "\n",
              "    .colab-df-convert:hover {\n",
              "      background-color: #E2EBFA;\n",
              "      box-shadow: 0px 1px 2px rgba(60, 64, 67, 0.3), 0px 1px 3px 1px rgba(60, 64, 67, 0.15);\n",
              "      fill: #174EA6;\n",
              "    }\n",
              "\n",
              "    [theme=dark] .colab-df-convert {\n",
              "      background-color: #3B4455;\n",
              "      fill: #D2E3FC;\n",
              "    }\n",
              "\n",
              "    [theme=dark] .colab-df-convert:hover {\n",
              "      background-color: #434B5C;\n",
              "      box-shadow: 0px 1px 3px 1px rgba(0, 0, 0, 0.15);\n",
              "      filter: drop-shadow(0px 1px 2px rgba(0, 0, 0, 0.3));\n",
              "      fill: #FFFFFF;\n",
              "    }\n",
              "  </style>\n",
              "\n",
              "      <script>\n",
              "        const buttonEl =\n",
              "          document.querySelector('#df-c20974dc-5563-44f1-a6ae-4ac1a302e653 button.colab-df-convert');\n",
              "        buttonEl.style.display =\n",
              "          google.colab.kernel.accessAllowed ? 'block' : 'none';\n",
              "\n",
              "        async function convertToInteractive(key) {\n",
              "          const element = document.querySelector('#df-c20974dc-5563-44f1-a6ae-4ac1a302e653');\n",
              "          const dataTable =\n",
              "            await google.colab.kernel.invokeFunction('convertToInteractive',\n",
              "                                                     [key], {});\n",
              "          if (!dataTable) return;\n",
              "\n",
              "          const docLinkHtml = 'Like what you see? Visit the ' +\n",
              "            '<a target=\"_blank\" href=https://colab.research.google.com/notebooks/data_table.ipynb>data table notebook</a>'\n",
              "            + ' to learn more about interactive tables.';\n",
              "          element.innerHTML = '';\n",
              "          dataTable['output_type'] = 'display_data';\n",
              "          await google.colab.output.renderOutput(dataTable, element);\n",
              "          const docLink = document.createElement('div');\n",
              "          docLink.innerHTML = docLinkHtml;\n",
              "          element.appendChild(docLink);\n",
              "        }\n",
              "      </script>\n",
              "    </div>\n",
              "  </div>\n",
              "  "
            ]
          },
          "metadata": {},
          "execution_count": 25
        }
      ],
      "source": [
        "p = model.predict(X_test, batch_size=batch_size)\n",
        "final_layer = pd.DataFrame(p)\n",
        "final_layer"
      ]
    },
    {
      "cell_type": "code",
      "source": [
        "del model"
      ],
      "metadata": {
        "id": "_39YCGk5eNTj"
      },
      "execution_count": null,
      "outputs": []
    },
    {
      "cell_type": "code",
      "source": [
        "final_layer.to_pickle(f\"{path}/final_layer.pkl\")"
      ],
      "metadata": {
        "id": "8rmYVtAddu8a"
      },
      "execution_count": null,
      "outputs": []
    },
    {
      "cell_type": "markdown",
      "metadata": {
        "id": "WTdXsRA_FC19"
      },
      "source": [
        "### UMAP"
      ]
    },
    {
      "cell_type": "code",
      "execution_count": null,
      "metadata": {
        "id": "UVlqdsR9FCFV"
      },
      "outputs": [],
      "source": [
        "umap_2d = UMAP(n_components=2, n_neighbors=67, init='random', metric= \"chebyshev\", random_state=0, min_dist=1)\n",
        "proj_2d = umap_2d.fit_transform(final_layer)"
      ]
    },
    {
      "cell_type": "code",
      "source": [
        "plot_df = pd.DataFrame(proj_2d, columns = [\"D1\", \"D2\"])\n",
        "plot_df[\"color\"] = y_test.tolist()\n",
        "plot_df.head()"
      ],
      "metadata": {
        "id": "JR0dDLpofwn0"
      },
      "execution_count": null,
      "outputs": []
    },
    {
      "cell_type": "code",
      "execution_count": null,
      "metadata": {
        "id": "a11Z19erE6Ja"
      },
      "outputs": [],
      "source": [
        "plt.figure(figsize=(6,6))\n",
        "\n",
        "sns.scatterplot(x=\"D1\", y=\"D2\", s=50, hue=\"color\", data=plot_df, legend=True)\n",
        "plt.xlabel(\"UMAP 1\", fontsize=16)\n",
        "plt.ylabel(\"UMAP 2\", fontsize=16)\n",
        "plt.xticks(fontsize=16)\n",
        "plt.yticks(fontsize=16)\n",
        "plt.savefig(f\"{path}/merged_UMAP_DseepCC.pdf\", format=\"pdf\")\n",
        "plt.legend(prop={'size': 10}, loc=\"lower right\", ncol=2)\n",
        "plt.tight_layout()\n",
        "plt.show()"
      ]
    },
    {
      "cell_type": "markdown",
      "metadata": {
        "id": "gAMw9sH-Ev_z"
      },
      "source": [
        "### Clustering metrics"
      ]
    },
    {
      "cell_type": "code",
      "execution_count": null,
      "metadata": {
        "id": "tWg0bPXVEtfy",
        "colab": {
          "base_uri": "https://localhost:8080/"
        },
        "outputId": "92b68085-8846-4675-f76e-9119740b2ca3"
      },
      "outputs": [
        {
          "output_type": "stream",
          "name": "stderr",
          "text": [
            "/usr/local/lib/python3.9/dist-packages/sklearn/cluster/_kmeans.py:870: FutureWarning: The default value of `n_init` will change from 10 to 'auto' in 1.4. Set the value of `n_init` explicitly to suppress the warning\n",
            "  warnings.warn(\n"
          ]
        },
        {
          "output_type": "stream",
          "name": "stdout",
          "text": [
            "Silhuette score: 0.5189999938011169 Rand Index 0.645 Davies-Bouldin score 0.844\n"
          ]
        }
      ],
      "source": [
        "silhouetteScore = silhouette_score(final_layer, y_test, metric=\"euclidean\")\n",
        "davies_bouldinScore = davies_bouldin_score(final_layer, y_test)\n",
        "\n",
        "km = KMeans(n_clusters=10, random_state=42)\n",
        "y_pred = km.fit_predict(final_layer)\n",
        "ari = adjusted_rand_score(y_pred, y_test)\n",
        "\n",
        "print(f\"Silhuette score: {round(silhouetteScore,3)}\", f\"Rand Index {round(ari, 3)}\", f\"Davies-Bouldin score {round(davies_bouldinScore,3)}\")"
      ]
    }
  ],
  "metadata": {
    "accelerator": "GPU",
    "colab": {
      "machine_shape": "hm",
      "provenance": [],
      "toc_visible": true,
      "authorship_tag": "ABX9TyN48aor2cOci5jGajASvL/+",
      "include_colab_link": true
    },
    "gpuClass": "premium",
    "kernelspec": {
      "display_name": "Python 3",
      "name": "python3"
    },
    "language_info": {
      "name": "python"
    }
  },
  "nbformat": 4,
  "nbformat_minor": 0
}
